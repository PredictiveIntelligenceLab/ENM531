{
  "nbformat": 4,
  "nbformat_minor": 0,
  "metadata": {
    "colab": {
      "name": "GP_regression.ipynb",
      "provenance": [],
      "collapsed_sections": []
    },
    "kernelspec": {
      "name": "python3",
      "display_name": "Python 3"
    },
    "language_info": {
      "name": "python"
    }
  },
  "cells": [
    {
      "cell_type": "code",
      "metadata": {
        "colab": {
          "base_uri": "https://localhost:8080/"
        },
        "id": "tZg2SMxtYriF",
        "outputId": "b7d0f70f-e71a-42cd-c57d-d4a77315bf57"
      },
      "source": [
        "!pip install --upgrade PyDOE"
      ],
      "execution_count": 149,
      "outputs": [
        {
          "output_type": "stream",
          "text": [
            "Requirement already up-to-date: PyDOE in /usr/local/lib/python3.7/dist-packages (0.3.8)\n",
            "Requirement already satisfied, skipping upgrade: scipy in /usr/local/lib/python3.7/dist-packages (from PyDOE) (1.4.1)\n",
            "Requirement already satisfied, skipping upgrade: numpy in /usr/local/lib/python3.7/dist-packages (from PyDOE) (1.19.5)\n"
          ],
          "name": "stdout"
        }
      ]
    },
    {
      "cell_type": "code",
      "metadata": {
        "id": "Vy0ikHoD4qVg"
      },
      "source": [
        "import jax.numpy as np\n",
        "import numpy as onp\n",
        "from jax import vmap, jit, vjp, random\n",
        "from jax.scipy.linalg import cholesky, solve_triangular\n",
        "\n",
        "from jax.config import config\n",
        "config.update(\"jax_enable_x64\", True)\n",
        "\n",
        "from pyDOE import lhs\n",
        "from functools import partial\n",
        "from tqdm import trange\n",
        "from scipy.optimize import minimize\n",
        "import matplotlib.pyplot as plt\n",
        "from matplotlib import rc\n",
        "\n",
        "onp.random.seed(1234)"
      ],
      "execution_count": 150,
      "outputs": []
    },
    {
      "cell_type": "code",
      "metadata": {
        "id": "5wJ_sclG57Le"
      },
      "source": [
        "# A vectorized RBF kernel function\n",
        "def RBF(x1, x2, params):\n",
        "    output_scale = params[0]\n",
        "    lengthscales = params[1:]\n",
        "    diffs = np.expand_dims(x1 / lengthscales, 1) - \\\n",
        "            np.expand_dims(x2 / lengthscales, 0)\n",
        "    r2 = np.sum(diffs**2, axis=2)\n",
        "    return output_scale * np.exp(-0.5 * r2)"
      ],
      "execution_count": 151,
      "outputs": []
    },
    {
      "cell_type": "code",
      "metadata": {
        "id": "c0za807P6P8h"
      },
      "source": [
        "# A wrapper to call SciPy's L-BFGS-B optimizer\n",
        "def minimize_lbfgs(objective, x0, bnds = None):\n",
        "    result = minimize(objective, x0, jac=True,\n",
        "                      method='L-BFGS-B', bounds = bnds,\n",
        "                      callback=None)\n",
        "    return result.x, result.fun"
      ],
      "execution_count": 152,
      "outputs": []
    },
    {
      "cell_type": "code",
      "metadata": {
        "id": "XW9de_D24vrh"
      },
      "source": [
        "# A minimal Gaussian process class\n",
        "class GPRegression:\n",
        "    # Initialize the class\n",
        "    def __init__(self, kernel_fn = RBF): \n",
        "        self.kernel = kernel_fn\n",
        "                              \n",
        "    def random_init_GP(self, rng_key, dim):\n",
        "        logsigma_f = np.log(50.0*random.uniform(rng_key, (1,)))\n",
        "        loglength  = np.log(random.uniform(rng_key, (dim,)) + 1e-8)\n",
        "        logsigma_n = np.array([-4.0]) + random.normal(rng_key, (1,))\n",
        "        hyp = np.concatenate([logsigma_f, loglength, logsigma_n])\n",
        "        return hyp\n",
        "\n",
        "    def likelihood(self, params, batch):\n",
        "        X, y = batch\n",
        "        N, D = X.shape\n",
        "        # Fetch params\n",
        "        sigma_n = np.exp(params[-1])\n",
        "        theta = np.exp(params[:-1])\n",
        "        # Compute Cholesky\n",
        "        K = self.kernel(X, X, theta) + np.eye(N)*(sigma_n + 1e-8)\n",
        "        L = cholesky(K, lower=True)\n",
        "        # Compute negative log-marginal likelihood\n",
        "        alpha = solve_triangular(L.T,solve_triangular(L, y, lower=True))\n",
        "        NLML = 0.5*np.matmul(np.transpose(y),alpha) + \\\n",
        "               np.sum(np.log(np.diag(L))) + 0.5*N*np.log(2.0*np.pi)\n",
        "        return NLML\n",
        "\n",
        "    @partial(jit, static_argnums=(0,))\n",
        "    def likelihood_value_and_grad(self, params, batch):\n",
        "        fun = lambda params: self.likelihood(params, batch)\n",
        "        primals, f_vjp = vjp(fun, params)\n",
        "        grads = f_vjp(np.ones_like(primals))[0]\n",
        "        return primals, grads\n",
        "\n",
        "    def train(self, batch, rng_key, num_restarts = 10):\n",
        "        # Define objective that returns NumPy arrays (to be minimized with SciPy)\n",
        "        def objective(params):\n",
        "            value, grads = self.likelihood_value_and_grad(params, batch)\n",
        "            out = (onp.array(value), onp.array(grads))\n",
        "            return out\n",
        "        # Optimize with random restarts\n",
        "        params = []\n",
        "        likelihood = []\n",
        "        X, _ = batch\n",
        "        dim = X.shape[1]\n",
        "        rng_key = random.split(rng_key, num_restarts)\n",
        "        for i in trange(num_restarts):\n",
        "            init = self.random_init_GP(rng_key[i], dim)\n",
        "            p, val = minimize_lbfgs(objective, init)\n",
        "            params.append(p)\n",
        "            likelihood.append(val)\n",
        "        params = np.vstack(params)\n",
        "        likelihood = np.vstack(likelihood)\n",
        "        #### find the best likelihood (excluding any NaNs) ####\n",
        "        bestlikelihood = np.nanmin(likelihood)\n",
        "        idx_best = np.where(likelihood == bestlikelihood)\n",
        "        idx_best = idx_best[0][0]\n",
        "        best_params = params[idx_best,:]\n",
        "        return best_params\n",
        "\n",
        "    @partial(jit, static_argnums=(0,))\n",
        "    def predict(self, params, batch, X_star):\n",
        "        X, y = batch\n",
        "        # Fetch params\n",
        "        sigma_n = np.exp(params[-1])\n",
        "        theta = np.exp(params[:-1])\n",
        "        # Compute kernels\n",
        "        k_pp = self.kernel(X_star, X_star, theta) + np.eye(X_star.shape[0])*(sigma_n + 1e-8)\n",
        "        k_pX = self.kernel(X_star, X, theta)\n",
        "        K = self.kernel(X, X, theta) + np.eye(N)*(sigma_n + 1e-8)\n",
        "        L = cholesky(K, lower=True)\n",
        "        alpha = solve_triangular(L.T,solve_triangular(L, y, lower=True))\n",
        "        beta  = solve_triangular(L.T,solve_triangular(L, k_pX.T, lower=True))\n",
        "        # Compute predictive mean, std\n",
        "        mu = np.matmul(k_pX, alpha)\n",
        "        cov = k_pp - np.matmul(k_pX, beta)\n",
        "        std = np.sqrt(np.clip(np.diag(cov), a_min=0.))[:,None]\n",
        "        return mu, std      "
      ],
      "execution_count": 153,
      "outputs": []
    },
    {
      "cell_type": "code",
      "metadata": {
        "id": "bhs4-EiRS1Is"
      },
      "source": [
        "def f(x):\n",
        "  return x*np.sin(8.0*np.pi*x)"
      ],
      "execution_count": 154,
      "outputs": []
    },
    {
      "cell_type": "code",
      "metadata": {
        "id": "vI1w0vhzS5lQ"
      },
      "source": [
        "N = 15\n",
        "dim = 1\n",
        "noise = 0.0\n",
        "lb = np.array([0.0])\n",
        "ub = np.array([1.0])\n",
        "\n",
        "# Training data\n",
        "X = lb + (ub-lb)*lhs(dim, N)\n",
        "y = vmap(f)(X)\n",
        "y = y + noise*y.std(0)*onp.random.randn(N,1)\n",
        "\n",
        "# Test data\n",
        "n_star = 1000\n",
        "X_star = np.linspace(lb[0], ub[0], n_star)[:,None]\n",
        "y_star = vmap(f)(X_star)"
      ],
      "execution_count": 155,
      "outputs": []
    },
    {
      "cell_type": "code",
      "metadata": {
        "id": "AcmniiaSTKzK"
      },
      "source": [
        "model = GPRegression(kernel_fn = RBF)"
      ],
      "execution_count": 156,
      "outputs": []
    },
    {
      "cell_type": "code",
      "metadata": {
        "colab": {
          "base_uri": "https://localhost:8080/"
        },
        "id": "97o8Rd5pTRtj",
        "outputId": "2298bf8e-bf8e-43f9-8e10-5c18ffb83edd"
      },
      "source": [
        "# Normalize training data\n",
        "mu_y, sigma_y = y.mean(0), y.std(0)\n",
        "X_train = (X - lb)/(ub-lb)\n",
        "y_train = (y - mu_y)/sigma_y\n",
        "\n",
        "# Train model\n",
        "train_key = random.PRNGKey(0)\n",
        "opt_params = model.train((X_train, y_train), train_key, num_restarts = 10)"
      ],
      "execution_count": 157,
      "outputs": [
        {
          "output_type": "stream",
          "text": [
            "100%|██████████| 10/10 [00:00<00:00, 14.24it/s]\n"
          ],
          "name": "stderr"
        }
      ]
    },
    {
      "cell_type": "code",
      "metadata": {
        "colab": {
          "base_uri": "https://localhost:8080/"
        },
        "id": "xJbJDv1rTyL1",
        "outputId": "ce980dd0-4514-4697-b7a4-87ce8502bcc2"
      },
      "source": [
        "# Normalize test inputs\n",
        "X_test = (X_star - lb)/(ub-lb)\n",
        "\n",
        "# Make predictions\n",
        "mean, std = model.predict(opt_params, (X_train, y_train), X_test)\n",
        "\n",
        "# De-normalize predictions\n",
        "mean, std = mean*sigma_y + mu_y, std*sigma_y\n",
        "\n",
        "# Uncertainty bands\n",
        "lower = mean - 2.0*std\n",
        "upper = mean + 2.0*std\n",
        "\n",
        "# Check accuracy\n",
        "error = np.linalg.norm(mean-y_star,2)/np.linalg.norm(y_star,2)\n",
        "print(\"Relative L2 error u: %e\" % (error))"
      ],
      "execution_count": 158,
      "outputs": [
        {
          "output_type": "stream",
          "text": [
            "Relative L2 error u: 1.167585e-01\n"
          ],
          "name": "stdout"
        }
      ]
    },
    {
      "cell_type": "code",
      "metadata": {
        "colab": {
          "base_uri": "https://localhost:8080/",
          "height": 308
        },
        "id": "X1suRx1XUcJH",
        "outputId": "493827da-a186-4b96-bbe4-c952aab28a48"
      },
      "source": [
        "# Plot\n",
        "plt.rcParams.update({'font.size': 16})\n",
        "plt.rcParams['axes.linewidth']=3\n",
        "\n",
        "plt.figure(figsize = (12,4))\n",
        "plt.plot(X_star, y_star, lw = 3)\n",
        "plt.plot(X_star, mean, '--', lw = 3)\n",
        "plt.plot(X, y, 'kx', ms = 12)\n",
        "plt.fill_between(X_star.flatten(), lower.flatten(), upper.flatten(), \n",
        "                  facecolor='orange', alpha=0.5, label=\"Two std band\")\n",
        "plt.xlabel(r'$x$')\n",
        "plt.ylabel(r'$f(x)$')"
      ],
      "execution_count": 159,
      "outputs": [
        {
          "output_type": "execute_result",
          "data": {
            "text/plain": [
              "Text(0, 0.5, '$f(x)$')"
            ]
          },
          "metadata": {
            "tags": []
          },
          "execution_count": 159
        },
        {
          "output_type": "display_data",
          "data": {
            "image/png": "[encoded data removed]",
            "text/plain": [
              "<Figure size 864x288 with 1 Axes>"
            ]
          },
          "metadata": {
            "tags": [],
            "needs_background": "light"
          }
        }
      ]
    }
  ]
}