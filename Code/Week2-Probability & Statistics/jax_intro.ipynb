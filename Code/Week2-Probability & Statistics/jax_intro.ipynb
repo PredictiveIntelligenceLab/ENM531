{
 "cells": [
  {
   "cell_type": "markdown",
   "metadata": {
    "id": "zXGLWD9X3aH1"
   },
   "source": [
    "JAX is NumPy on the CPU, GPU, and TPU, with great automatic differentiation for high-performance machine learning research."
   ]
  },
  {
   "cell_type": "code",
   "execution_count": 1,
   "metadata": {
    "colab": {
     "base_uri": "https://localhost:8080/",
     "height": 136
    },
    "id": "XrohpPHI3k08",
    "outputId": "7dede730-6940-4253-8f45-371ddd0304d1"
   },
   "outputs": [
    {
     "name": "stdout",
     "output_type": "stream",
     "text": [
      "Requirement already up-to-date: jaxlib in /usr/local/lib/python3.6/dist-packages (0.1.55)\n",
      "Requirement already up-to-date: jax in /usr/local/lib/python3.6/dist-packages (0.2.0)\n",
      "Requirement already satisfied, skipping upgrade: numpy>=1.12 in /usr/local/lib/python3.6/dist-packages (from jaxlib) (1.18.5)\n",
      "Requirement already satisfied, skipping upgrade: scipy in /usr/local/lib/python3.6/dist-packages (from jaxlib) (1.4.1)\n",
      "Requirement already satisfied, skipping upgrade: absl-py in /usr/local/lib/python3.6/dist-packages (from jaxlib) (0.10.0)\n",
      "Requirement already satisfied, skipping upgrade: opt-einsum in /usr/local/lib/python3.6/dist-packages (from jax) (3.3.0)\n",
      "Requirement already satisfied, skipping upgrade: six in /usr/local/lib/python3.6/dist-packages (from absl-py->jaxlib) (1.15.0)\n"
     ]
    }
   ],
   "source": [
    "# For CPU\n",
    "!pip install --upgrade jaxlib jax\n",
    "# For GPU\n",
    "# pip install --upgrade jax jaxlib==0.1.59+cuda110 -f https://storage.googleapis.com/jax-releases/jax_releases.html"
   ]
  },
  {
   "cell_type": "code",
   "execution_count": 2,
   "metadata": {
    "id": "g_qkJ7go3blL"
   },
   "outputs": [],
   "source": [
    "import jax.numpy as np\n",
    "import numpy as onp\n",
    "from jax import random, jit, vmap, grad, value_and_grad"
   ]
  },
  {
   "cell_type": "markdown",
   "metadata": {
    "id": "Ru1dROLK3vHB"
   },
   "source": [
    "## Multiplying Matrices"
   ]
  },
  {
   "cell_type": "code",
   "execution_count": 3,
   "metadata": {
    "colab": {
     "base_uri": "https://localhost:8080/",
     "height": 51
    },
    "id": "OLFNYvnO3ilw",
    "outputId": "039f9227-5cf4-4a61-b942-5aa770cf8134"
   },
   "outputs": [
    {
     "name": "stdout",
     "output_type": "stream",
     "text": [
      "[-0.3721109   0.26423115 -0.18252768 -0.7368197  -0.44030377 -0.1521442\n",
      " -0.67135346 -0.5908641   0.73168886  0.5673026 ]\n"
     ]
    }
   ],
   "source": [
    "key = random.PRNGKey(0)\n",
    "x = random.normal(key, (10,))\n",
    "print(x)"
   ]
  },
  {
   "cell_type": "code",
   "execution_count": 9,
   "metadata": {
    "colab": {
     "base_uri": "https://localhost:8080/",
     "height": 51
    },
    "id": "eMc1CN6436dW",
    "outputId": "56eefb7c-1add-472c-b433-23b7a1a7daeb"
   },
   "outputs": [
    {
     "name": "stdout",
     "output_type": "stream",
     "text": [
      "The slowest run took 11953.65 times longer than the fastest. This could mean that an intermediate result is being cached.\n",
      "1 loop, best of 3: 219 µs per loop\n"
     ]
    }
   ],
   "source": [
    "size = 10000\n",
    "x = random.normal(key, (size, size), dtype=np.float32)\n",
    "%timeit np.dot(x, x.T)"
   ]
  },
  {
   "cell_type": "code",
   "execution_count": 5,
   "metadata": {
    "colab": {
     "base_uri": "https://localhost:8080/",
     "height": 34
    },
    "id": "D8Ydlp434Ga3",
    "outputId": "1c52fe27-e552-4724-a2f3-b06c4bd7af4e"
   },
   "outputs": [
    {
     "name": "stdout",
     "output_type": "stream",
     "text": [
      "100 loops, best of 3: 2.15 ms per loop\n"
     ]
    }
   ],
   "source": [
    "x = onp.random.normal(size=(size, size)).astype(onp.float32)\n",
    "%timeit np.dot(x, x.T)"
   ]
  },
  {
   "cell_type": "markdown",
   "metadata": {
    "id": "ygDf8f6E4m1S"
   },
   "source": [
    "## Using `jit` to speed up functions"
   ]
  },
  {
   "cell_type": "code",
   "execution_count": 10,
   "metadata": {
    "colab": {
     "base_uri": "https://localhost:8080/",
     "height": 51
    },
    "id": "E98n-81-4ov8",
    "outputId": "ca3c11ec-24c6-4be7-9b8d-7b71df2a9d55"
   },
   "outputs": [
    {
     "name": "stdout",
     "output_type": "stream",
     "text": [
      "The slowest run took 20051.28 times longer than the fastest. This could mean that an intermediate result is being cached.\n",
      "1 loop, best of 3: 211 µs per loop\n"
     ]
    }
   ],
   "source": [
    "@jit\n",
    "def matrix_multiply(x, y):\n",
    "  return np.dot(x, y.T)\n",
    "\n",
    "x = random.normal(key, (size, size), dtype=np.float32)\n",
    "%timeit matrix_multiply(x, x.T)"
   ]
  },
  {
   "cell_type": "markdown",
   "metadata": {
    "id": "ynt_ZXNU5c7i"
   },
   "source": [
    "## Taking derivatives with `grad`"
   ]
  },
  {
   "cell_type": "code",
   "execution_count": 12,
   "metadata": {
    "colab": {
     "base_uri": "https://localhost:8080/",
     "height": 936
    },
    "id": "yZvo3gle5RkF",
    "outputId": "0b15b407-0fb3-47d7-94c4-1a794e58421c"
   },
   "outputs": [
    {
     "name": "stdout",
     "output_type": "stream",
     "text": [
      "f(x)=[0.         0.0050251  0.01005008 0.01507481 0.02009915 0.02512299\n",
      " 0.03014619 0.03516863 0.04019018 0.04521072 0.05023011 0.05524824\n",
      " 0.06026497 0.06528018 0.07029374 0.07530553 0.08031541 0.08532327\n",
      " 0.09032897 0.09533239 0.10033341 0.10533189 0.11032771 0.11532074\n",
      " 0.12031086 0.12529795 0.13028187 0.1352625  0.14023972 0.1452134\n",
      " 0.1501834  0.15514961 0.1601119  0.16507015 0.17002425 0.17497402\n",
      " 0.1799194  0.18486023 0.1897964  0.19472776 0.19965422 0.20457563\n",
      " 0.20949188 0.21440282 0.21930838 0.22420837 0.22910272 0.23399127\n",
      " 0.23887391 0.24375053 0.248621   0.25348517 0.25834295 0.2631942\n",
      " 0.26803884 0.27287665 0.2777076  0.28253153 0.28734836 0.29215792\n",
      " 0.2969601  0.30175474 0.3065418  0.3113211  0.31609255 0.32085603\n",
      " 0.32561138 0.33035854 0.33509734 0.3398277  0.34454942 0.3492625\n",
      " 0.35396674 0.35866204 0.36334828 0.36802536 0.37269312 0.3773515\n",
      " 0.3820003  0.3866395  0.39126894 0.39588848 0.400498   0.40509745\n",
      " 0.40968665 0.4142655  0.4188339  0.42339173 0.42793888 0.4324752\n",
      " 0.4370006  0.44151497 0.4460182  0.45051014 0.4549907  0.4594598\n",
      " 0.4639173  0.46836308 0.47279704 0.47721905 0.481629   0.48602676\n",
      " 0.49041232 0.4947855  0.4991461  0.50349414 0.5078294  0.51215196\n",
      " 0.51646155 0.52075803 0.52504146 0.5293116  0.5335683  0.53781164\n",
      " 0.5420413  0.5462573  0.55045956 0.55464786 0.55882215 0.5629823\n",
      " 0.56712836 0.57126004 0.5753772  0.57947993 0.58356804 0.58764136\n",
      " 0.5916999  0.5957434  0.599772   0.60378534 0.60778344 0.6117662\n",
      " 0.6157335  0.6196853  0.62362146 0.62754184 0.63144636 0.63533497\n",
      " 0.6392075  0.6430639  0.64690405 0.6507279  0.65453535 0.6583262\n",
      " 0.66210043 0.665858   0.6695987  0.6733225  0.6770293  0.680719\n",
      " 0.68439156 0.68804675 0.6916846  0.695305   0.69890785 0.7024931\n",
      " 0.70606047 0.70961016 0.71314186 0.71665555 0.7201511  0.7236285\n",
      " 0.7270877  0.7305285  0.7339508  0.7373546  0.7407397  0.74410623\n",
      " 0.7474539  0.7507827  0.7540926  0.7573834  0.76065505 0.76390755\n",
      " 0.7671407  0.7703545  0.7735489  0.7767237  0.7798789  0.7830144\n",
      " 0.7861302  0.7892261  0.792302   0.795358   0.7983939  0.8014096\n",
      " 0.8044051  0.80738026 0.81033504 0.8132693  0.8161831  0.8190763\n",
      " 0.82194877 0.8248005  0.8276314  0.83044136 0.83323044 0.8359984\n",
      " 0.8387453  0.841471  ]\n"
     ]
    },
    {
     "ename": "TypeError",
     "evalue": "ignored",
     "output_type": "error",
     "traceback": [
      "\u001b[0;31m---------------------------------------------------------------------------\u001b[0m",
      "\u001b[0;31mTypeError\u001b[0m                                 Traceback (most recent call last)",
      "\u001b[0;32m<ipython-input-12-95e05232f2fb>\u001b[0m in \u001b[0;36m<module>\u001b[0;34m()\u001b[0m\n\u001b[1;32m      6\u001b[0m \u001b[0mprint\u001b[0m\u001b[0;34m(\u001b[0m\u001b[0;34m'f(x)={}'\u001b[0m\u001b[0;34m.\u001b[0m\u001b[0mformat\u001b[0m\u001b[0;34m(\u001b[0m\u001b[0mf_value\u001b[0m\u001b[0;34m)\u001b[0m\u001b[0;34m)\u001b[0m\u001b[0;34m\u001b[0m\u001b[0;34m\u001b[0m\u001b[0m\n\u001b[1;32m      7\u001b[0m \u001b[0mf_x\u001b[0m \u001b[0;34m=\u001b[0m \u001b[0mgrad\u001b[0m\u001b[0;34m(\u001b[0m\u001b[0mf\u001b[0m\u001b[0;34m)\u001b[0m \u001b[0;31m# returns a callable function for the derivative\u001b[0m\u001b[0;34m\u001b[0m\u001b[0;34m\u001b[0m\u001b[0m\n\u001b[0;32m----> 8\u001b[0;31m \u001b[0mdfdx\u001b[0m \u001b[0;34m=\u001b[0m \u001b[0mf_x\u001b[0m\u001b[0;34m(\u001b[0m\u001b[0mx\u001b[0m\u001b[0;34m)\u001b[0m\u001b[0;34m\u001b[0m\u001b[0;34m\u001b[0m\u001b[0m\n\u001b[0m\u001b[1;32m      9\u001b[0m \u001b[0mprint\u001b[0m\u001b[0;34m(\u001b[0m\u001b[0;34m'd/dx f(x)={}'\u001b[0m\u001b[0;34m.\u001b[0m\u001b[0mformat\u001b[0m\u001b[0;34m(\u001b[0m\u001b[0mdfdx\u001b[0m\u001b[0;34m)\u001b[0m\u001b[0;34m)\u001b[0m\u001b[0;34m\u001b[0m\u001b[0;34m\u001b[0m\u001b[0m\n",
      "\u001b[0;32m/usr/local/lib/python3.6/dist-packages/jax/api.py\u001b[0m in \u001b[0;36mgrad_f\u001b[0;34m(*args, **kwargs)\u001b[0m\n\u001b[1;32m    742\u001b[0m   \u001b[0;34m@\u001b[0m\u001b[0mapi_boundary\u001b[0m\u001b[0;34m\u001b[0m\u001b[0;34m\u001b[0m\u001b[0m\n\u001b[1;32m    743\u001b[0m   \u001b[0;32mdef\u001b[0m \u001b[0mgrad_f\u001b[0m\u001b[0;34m(\u001b[0m\u001b[0;34m*\u001b[0m\u001b[0margs\u001b[0m\u001b[0;34m,\u001b[0m \u001b[0;34m**\u001b[0m\u001b[0mkwargs\u001b[0m\u001b[0;34m)\u001b[0m\u001b[0;34m:\u001b[0m\u001b[0;34m\u001b[0m\u001b[0;34m\u001b[0m\u001b[0m\n\u001b[0;32m--> 744\u001b[0;31m     \u001b[0m_\u001b[0m\u001b[0;34m,\u001b[0m \u001b[0mg\u001b[0m \u001b[0;34m=\u001b[0m \u001b[0mvalue_and_grad_f\u001b[0m\u001b[0;34m(\u001b[0m\u001b[0;34m*\u001b[0m\u001b[0margs\u001b[0m\u001b[0;34m,\u001b[0m \u001b[0;34m**\u001b[0m\u001b[0mkwargs\u001b[0m\u001b[0;34m)\u001b[0m\u001b[0;34m\u001b[0m\u001b[0;34m\u001b[0m\u001b[0m\n\u001b[0m\u001b[1;32m    745\u001b[0m     \u001b[0;32mreturn\u001b[0m \u001b[0mg\u001b[0m\u001b[0;34m\u001b[0m\u001b[0;34m\u001b[0m\u001b[0m\n\u001b[1;32m    746\u001b[0m \u001b[0;34m\u001b[0m\u001b[0m\n",
      "\u001b[0;32m/usr/local/lib/python3.6/dist-packages/jax/api.py\u001b[0m in \u001b[0;36mvalue_and_grad_f\u001b[0;34m(*args, **kwargs)\u001b[0m\n\u001b[1;32m    805\u001b[0m     \u001b[0;32melse\u001b[0m\u001b[0;34m:\u001b[0m\u001b[0;34m\u001b[0m\u001b[0;34m\u001b[0m\u001b[0m\n\u001b[1;32m    806\u001b[0m       \u001b[0mans\u001b[0m\u001b[0;34m,\u001b[0m \u001b[0mvjp_py\u001b[0m\u001b[0;34m,\u001b[0m \u001b[0maux\u001b[0m \u001b[0;34m=\u001b[0m \u001b[0m_vjp\u001b[0m\u001b[0;34m(\u001b[0m\u001b[0mf_partial\u001b[0m\u001b[0;34m,\u001b[0m \u001b[0;34m*\u001b[0m\u001b[0mdyn_args\u001b[0m\u001b[0;34m,\u001b[0m \u001b[0mhas_aux\u001b[0m\u001b[0;34m=\u001b[0m\u001b[0;32mTrue\u001b[0m\u001b[0;34m)\u001b[0m\u001b[0;34m\u001b[0m\u001b[0;34m\u001b[0m\u001b[0m\n\u001b[0;32m--> 807\u001b[0;31m     \u001b[0m_check_scalar\u001b[0m\u001b[0;34m(\u001b[0m\u001b[0mans\u001b[0m\u001b[0;34m)\u001b[0m\u001b[0;34m\u001b[0m\u001b[0;34m\u001b[0m\u001b[0m\n\u001b[0m\u001b[1;32m    808\u001b[0m     \u001b[0mdtype\u001b[0m \u001b[0;34m=\u001b[0m \u001b[0mdtypes\u001b[0m\u001b[0;34m.\u001b[0m\u001b[0mresult_type\u001b[0m\u001b[0;34m(\u001b[0m\u001b[0mans\u001b[0m\u001b[0;34m)\u001b[0m\u001b[0;34m\u001b[0m\u001b[0;34m\u001b[0m\u001b[0m\n\u001b[1;32m    809\u001b[0m     \u001b[0mtree_map\u001b[0m\u001b[0;34m(\u001b[0m\u001b[0mpartial\u001b[0m\u001b[0;34m(\u001b[0m\u001b[0m_check_output_dtype_grad\u001b[0m\u001b[0;34m,\u001b[0m \u001b[0mholomorphic\u001b[0m\u001b[0;34m)\u001b[0m\u001b[0;34m,\u001b[0m \u001b[0mans\u001b[0m\u001b[0;34m)\u001b[0m\u001b[0;34m\u001b[0m\u001b[0;34m\u001b[0m\u001b[0m\n",
      "\u001b[0;32m/usr/local/lib/python3.6/dist-packages/jax/api.py\u001b[0m in \u001b[0;36m_check_scalar\u001b[0;34m(x)\u001b[0m\n\u001b[1;32m    826\u001b[0m     \u001b[0;32mif\u001b[0m \u001b[0misinstance\u001b[0m\u001b[0;34m(\u001b[0m\u001b[0maval\u001b[0m\u001b[0;34m,\u001b[0m \u001b[0mShapedArray\u001b[0m\u001b[0;34m)\u001b[0m\u001b[0;34m:\u001b[0m\u001b[0;34m\u001b[0m\u001b[0;34m\u001b[0m\u001b[0m\n\u001b[1;32m    827\u001b[0m       \u001b[0;32mif\u001b[0m \u001b[0maval\u001b[0m\u001b[0;34m.\u001b[0m\u001b[0mshape\u001b[0m \u001b[0;34m!=\u001b[0m \u001b[0;34m(\u001b[0m\u001b[0;34m)\u001b[0m\u001b[0;34m:\u001b[0m\u001b[0;34m\u001b[0m\u001b[0;34m\u001b[0m\u001b[0m\n\u001b[0;32m--> 828\u001b[0;31m         \u001b[0;32mraise\u001b[0m \u001b[0mTypeError\u001b[0m\u001b[0;34m(\u001b[0m\u001b[0mmsg\u001b[0m\u001b[0;34m(\u001b[0m\u001b[0;34m\"had shape: {}\"\u001b[0m\u001b[0;34m.\u001b[0m\u001b[0mformat\u001b[0m\u001b[0;34m(\u001b[0m\u001b[0maval\u001b[0m\u001b[0;34m.\u001b[0m\u001b[0mshape\u001b[0m\u001b[0;34m)\u001b[0m\u001b[0;34m)\u001b[0m\u001b[0;34m)\u001b[0m\u001b[0;34m\u001b[0m\u001b[0;34m\u001b[0m\u001b[0m\n\u001b[0m\u001b[1;32m    829\u001b[0m     \u001b[0;32melse\u001b[0m\u001b[0;34m:\u001b[0m\u001b[0;34m\u001b[0m\u001b[0;34m\u001b[0m\u001b[0m\n\u001b[1;32m    830\u001b[0m       \u001b[0;32mraise\u001b[0m \u001b[0mTypeError\u001b[0m\u001b[0;34m(\u001b[0m\u001b[0mmsg\u001b[0m\u001b[0;34m(\u001b[0m\u001b[0;34m\"had abstract value {}\"\u001b[0m\u001b[0;34m.\u001b[0m\u001b[0mformat\u001b[0m\u001b[0;34m(\u001b[0m\u001b[0maval\u001b[0m\u001b[0;34m)\u001b[0m\u001b[0;34m)\u001b[0m\u001b[0;34m)\u001b[0m\u001b[0;34m\u001b[0m\u001b[0;34m\u001b[0m\u001b[0m\n",
      "\u001b[0;31mTypeError\u001b[0m: Gradient only defined for scalar-output functions. Output had shape: (200,)."
     ]
    }
   ],
   "source": [
    "def f(x):\n",
    "  return np.sin(x)\n",
    "\n",
    "x = np.linspace(0, 1, 200)\n",
    "f_value = f(x)\n",
    "print('f(x)={}'.format(f_value))\n",
    "f_x = grad(f) # returns a callable function for the derivative\n",
    "dfdx = f_x(x)\n",
    "print('d/dx f(x)={}'.format(dfdx))"
   ]
  },
  {
   "cell_type": "markdown",
   "metadata": {
    "id": "xZ23FezB6aI-"
   },
   "source": [
    "## Auto-vectorization with `vmap`"
   ]
  },
  {
   "cell_type": "code",
   "execution_count": 15,
   "metadata": {
    "colab": {
     "base_uri": "https://localhost:8080/",
     "height": 530
    },
    "id": "lvVZa_Ow7uzB",
    "outputId": "d9d12da2-b4ac-475e-8a1e-cac71e5a7b30"
   },
   "outputs": [
    {
     "data": {
      "text/plain": [
       "[<matplotlib.lines.Line2D at 0x7f0ca0011c50>]"
      ]
     },
     "execution_count": 15,
     "metadata": {
      "tags": []
     },
     "output_type": "execute_result"
    },
    {
     "data": {
      "image/png": "[encoded data removed]",
      "text/plain": [
       "<Figure size 432x288 with 1 Axes>"
      ]
     },
     "metadata": {
      "needs_background": "light",
      "tags": []
     },
     "output_type": "display_data"
    },
    {
     "data": {
      "image/png": "[encoded data removed]",
      "text/plain": [
       "<Figure size 432x288 with 1 Axes>"
      ]
     },
     "metadata": {
      "needs_background": "light",
      "tags": []
     },
     "output_type": "display_data"
    }
   ],
   "source": [
    "import matplotlib.pyplot as plt\n",
    "\n",
    "def f(x):\n",
    "  return np.tanh(x)\n",
    "\n",
    "x = np.linspace(-np.pi, np.pi, 500)\n",
    "\n",
    "# Tip: define functions to operate on a single data-point, then use 'vmap' to vectorize them!\n",
    "plt.figure()\n",
    "plt.plot(x, vmap(f)(x))\n",
    "plt.plot(x, vmap(grad(f))(x))\n",
    "plt.plot(x, vmap(grad(grad(f)))(x))\n",
    "plt.plot(x, vmap(grad(grad(grad(f))))(x))\n",
    "plt.plot(x, vmap(grad(grad(grad(grad(f)))))(x))\n",
    "\n",
    "# Compare against centered finite differences\n",
    "dx = 1e-3\n",
    "fin_diff = lambda x: (f(x + dx) - f(x - dx)) / (2.0 * dx)\n",
    "fd_approx = vmap(fin_diff)(x)\n",
    "\n",
    "plt.figure()\n",
    "plt.plot(x, vmap(grad(f))(x))\n",
    "plt.plot(x, fd_approx, '--')"
   ]
  },
  {
   "cell_type": "markdown",
   "metadata": {
    "id": "TOGS8Z7s84lH"
   },
   "source": [
    "## Random Numbers"
   ]
  },
  {
   "cell_type": "code",
   "execution_count": 18,
   "metadata": {
    "colab": {
     "base_uri": "https://localhost:8080/",
     "height": 68
    },
    "id": "RF6uej9b868Y",
    "outputId": "f50a909e-3379-4742-a8a5-15659cf2ccf2"
   },
   "outputs": [
    {
     "name": "stdout",
     "output_type": "stream",
     "text": [
      "0.18659841157387969\n",
      "0.6252349259590271\n",
      "0.06203118380664652\n"
     ]
    }
   ],
   "source": [
    "print(onp.random.random())\n",
    "print(onp.random.random())\n",
    "print(onp.random.random())"
   ]
  },
  {
   "cell_type": "code",
   "execution_count": 24,
   "metadata": {
    "colab": {
     "base_uri": "https://localhost:8080/",
     "height": 68
    },
    "id": "AZtV5S_c89yu",
    "outputId": "cb14e98d-4dc7-44ad-e0cc-be9f42d49732"
   },
   "outputs": [
    {
     "name": "stdout",
     "output_type": "stream",
     "text": [
      "0.41845703\n",
      "0.41845703\n",
      "0.41845703\n"
     ]
    }
   ],
   "source": [
    "# To generate random numbers in JAX a random key needs to be specified\n",
    "key = random.PRNGKey(0)\n",
    "print(random.uniform(key))\n",
    "print(random.uniform(key))\n",
    "print(random.uniform(key))"
   ]
  },
  {
   "cell_type": "code",
   "execution_count": 28,
   "metadata": {
    "colab": {
     "base_uri": "https://localhost:8080/",
     "height": 68
    },
    "id": "kYqWUw6H9K66",
    "outputId": "c646c996-8e6d-42d0-8472-f6c5ed04c160"
   },
   "outputs": [
    {
     "name": "stdout",
     "output_type": "stream",
     "text": [
      "0.7415098\n",
      "0.7923057\n",
      "0.37486076\n"
     ]
    }
   ],
   "source": [
    "# To introduce randomness a key needs to be split into new keys\n",
    "keys = random.split(random.PRNGKey(2), 3)\n",
    "print(random.uniform(keys[0]))\n",
    "print(random.uniform(keys[1]))\n",
    "print(random.uniform(keys[2]))"
   ]
  },
  {
   "cell_type": "markdown",
   "metadata": {
    "id": "8HDc9PW9Bj_7"
   },
   "source": [
    "## Pure functions\n",
    "\n",
    "JAX transformation and compilation are designed to work only on Python functions that are functionally pure: all the input data is passed through the function parameters, all the results are output through the function results. A pure function will always return the same result if invoked with the same inputs.\n"
   ]
  },
  {
   "cell_type": "markdown",
   "metadata": {
    "id": "MnBI-N_DCNyK"
   },
   "source": [
    "## In-Place Updates"
   ]
  },
  {
   "cell_type": "code",
   "execution_count": 30,
   "metadata": {
    "colab": {
     "base_uri": "https://localhost:8080/",
     "height": 153
    },
    "id": "TVGhbxPoB6q6",
    "outputId": "05a8df73-f153-4fb2-99b9-ca339f1b4f21"
   },
   "outputs": [
    {
     "name": "stdout",
     "output_type": "stream",
     "text": [
      "original array:\n",
      "[[0. 0. 0.]\n",
      " [0. 0. 0.]\n",
      " [0. 0. 0.]]\n",
      "updated array:\n",
      "[[0. 0. 0.]\n",
      " [1. 1. 1.]\n",
      " [0. 0. 0.]]\n"
     ]
    }
   ],
   "source": [
    "# In NumPy you are used to doing this:\n",
    "numpy_array = onp.zeros((3,3), dtype=onp.float32)\n",
    "print(\"original array:\")\n",
    "print(numpy_array)\n",
    "\n",
    "# In place, mutating update\n",
    "numpy_array[1, :] = 1.0\n",
    "print(\"updated array:\")\n",
    "print(numpy_array)"
   ]
  },
  {
   "cell_type": "markdown",
   "metadata": {
    "id": "ZclWbWrqCaEk"
   },
   "source": [
    "If we try to update a JAX device array in-place, however, we get an error! (☉_☉)"
   ]
  },
  {
   "cell_type": "code",
   "execution_count": 31,
   "metadata": {
    "colab": {
     "base_uri": "https://localhost:8080/",
     "height": 54
    },
    "id": "vrXuGJAJCXGv",
    "outputId": "e0914840-047f-45a4-92e6-610348b37b75"
   },
   "outputs": [
    {
     "name": "stdout",
     "output_type": "stream",
     "text": [
      "Exception '<class 'jax.interpreters.xla.DeviceArray'>' object does not support item assignment. JAX arrays are immutable; perhaps you want jax.ops.index_update or jax.ops.index_add instead?\n"
     ]
    }
   ],
   "source": [
    "jax_array = np.zeros((3,3), dtype=np.float32)\n",
    "\n",
    "# In place update of JAX's array will yield an error!\n",
    "try:\n",
    "  jax_array[1, :] = 1.0\n",
    "except Exception as e:\n",
    "  print(\"Exception {}\".format(e))"
   ]
  },
  {
   "cell_type": "markdown",
   "metadata": {
    "id": "CFZMPVrKClzi"
   },
   "source": [
    "JAX arrays are immutable; We should use jax.ops.index_update or jax.ops.index_add instead."
   ]
  },
  {
   "cell_type": "code",
   "execution_count": 33,
   "metadata": {
    "colab": {
     "base_uri": "https://localhost:8080/",
     "height": 153
    },
    "id": "bHJ3__MkCfh-",
    "outputId": "21f6d204-488b-4a26-9820-bbff55cfcc94"
   },
   "outputs": [
    {
     "name": "stdout",
     "output_type": "stream",
     "text": [
      "original array:\n",
      "[[0. 0. 0.]\n",
      " [0. 0. 0.]\n",
      " [0. 0. 0.]]\n",
      "new array:\n",
      "[[0. 0. 0.]\n",
      " [1. 1. 1.]\n",
      " [0. 0. 0.]]\n"
     ]
    }
   ],
   "source": [
    "from jax.ops import index, index_add, index_update\n",
    "\n",
    "jax_array = np.zeros((3, 3))\n",
    "print(\"original array:\")\n",
    "print(jax_array)\n",
    "\n",
    "jax_array = index_update(jax_array, index[1, :], 1.)\n",
    "\n",
    "# print(\"old array unchanged:\")\n",
    "# print(jax_array)\n",
    "\n",
    "print(\"new array:\")\n",
    "print(jax_array)"
   ]
  },
  {
   "cell_type": "code",
   "execution_count": null,
   "metadata": {
    "id": "IzUmsUQBCurd"
   },
   "outputs": [],
   "source": []
  }
 ],
 "metadata": {
  "accelerator": "GPU",
  "colab": {
   "collapsed_sections": [],
   "name": "JAX_intro.ipynb",
   "provenance": []
  },
  "kernelspec": {
   "display_name": "Python 3",
   "language": "python",
   "name": "python3"
  },
  "language_info": {
   "codemirror_mode": {
    "name": "ipython",
    "version": 3
   },
   "file_extension": ".py",
   "mimetype": "text/x-python",
   "name": "python",
   "nbconvert_exporter": "python",
   "pygments_lexer": "ipython3",
   "version": "3.7.6"
  }
 },
 "nbformat": 4,
 "nbformat_minor": 1
}
