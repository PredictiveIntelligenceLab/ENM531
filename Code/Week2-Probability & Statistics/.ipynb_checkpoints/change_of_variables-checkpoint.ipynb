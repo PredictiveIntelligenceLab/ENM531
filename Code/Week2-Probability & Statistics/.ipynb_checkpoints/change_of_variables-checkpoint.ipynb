{
 "cells": [
  {
   "cell_type": "markdown",
   "metadata": {
    "id": "1JGeU_eAdhDd"
   },
   "source": [
    "# _Flowing with JAX_\n",
    "\n",
    "# Applying the change of variables theorem\n",
    "\n",
    "In this first notebook, we will explore JAX's API to re-implement the change of variables theorem for affine transformations of simple distributions."
   ]
  },
  {
   "cell_type": "markdown",
   "metadata": {
    "id": "1dD6xv6odhDi"
   },
   "source": [
    "JAX offers a drop-in replacement of Numpy (and Scipy), which effectively makes Numpy-code differentiable and runnable on GPUs, _without any change_!"
   ]
  },
  {
   "cell_type": "code",
   "execution_count": 66,
   "metadata": {
    "id": "QxrGizRndhDj"
   },
   "outputs": [],
   "source": [
    "import jax.numpy as np   \n",
    "from jax import grad, jacfwd, jit, random, vmap\n",
    "from jax.scipy.stats import multivariate_normal\n",
    "from jax.tree_util import tree_multimap\n",
    "from IPython.display import clear_output\n",
    "import matplotlib.pyplot as plt"
   ]
  },
  {
   "cell_type": "markdown",
   "metadata": {
    "id": "oD2jrQmpdhDk"
   },
   "source": [
    "# Affine transformation\n",
    "\n",
    "Let us start with a good old Normal variable $\\mathbf{z} \\sim \\mathcal{N}(\\mathbf{0}, \\mathbf{I})$."
   ]
  },
  {
   "cell_type": "code",
   "execution_count": 67,
   "metadata": {
    "colab": {
     "base_uri": "https://localhost:8080/"
    },
    "id": "Xr2ZhBjRdhDk",
    "outputId": "0f389f51-a1be-4bb6-b994-4ea1c40af188"
   },
   "outputs": [
    {
     "name": "stdout",
     "output_type": "stream",
     "text": [
      "[-0.78476596  0.85644484]\n"
     ]
    }
   ],
   "source": [
    "rng_key = random.PRNGKey(0)\n",
    "z = random.normal(rng_key, (2,))\n",
    "print(z)"
   ]
  },
  {
   "cell_type": "markdown",
   "metadata": {
    "id": "o2ys5zdOdhDk"
   },
   "source": [
    "We define $\\mathbf{x}$ as the affine transformation $\\mathbf{x} = g^{-1}(\\mathbf{z}) = A \\mathbf{z} + \\mathbf{b}$. The transformation is invertible and we have $\\mathbf{z} = g(\\mathbf{x}) = A^{-1} (\\mathbf{x} - \\mathbf{b})$."
   ]
  },
  {
   "cell_type": "code",
   "execution_count": 68,
   "metadata": {
    "id": "m1rVHdLSdhDk"
   },
   "outputs": [],
   "source": [
    "A = np.array([[0.75, -0.3],  \n",
    "              [-0.7, 1.25]])\n",
    "b = np.array([1.0, 0.5])\n",
    "\n",
    "A_inv = np.linalg.inv(A)\n",
    "\n",
    "def g_inv(z, A, b):\n",
    "    return np.dot(A, z) + b\n",
    "\n",
    "def g(x, A_inv, b):\n",
    "    return np.dot(A_inv, x-b)"
   ]
  },
  {
   "cell_type": "code",
   "execution_count": 69,
   "metadata": {
    "colab": {
     "base_uri": "https://localhost:8080/"
    },
    "id": "APatxzmFdhDl",
    "outputId": "bc7fe34e-1e5c-4f56-d9e1-e1899664c925"
   },
   "outputs": [
    {
     "name": "stdout",
     "output_type": "stream",
     "text": [
      "z = [-0.78476596  0.85644484]\n",
      "x = g_inv(z) = [0.15449208 2.1198921 ]\n",
      "z_rec = g(x) = [-0.78476596  0.8564448 ]\n"
     ]
    }
   ],
   "source": [
    "print(\"z =\", z)\n",
    "x = g_inv(z, A, b)\n",
    "print(\"x = g_inv(z) =\", x)\n",
    "z_rec = g(x, A_inv, b)\n",
    "print(\"z_rec = g(x) =\", z_rec)"
   ]
  },
  {
   "cell_type": "markdown",
   "metadata": {
    "id": "9HkQFe_bdhDm"
   },
   "source": [
    "The transformation and its inverse are defined on a per-sample level, but can be easily vectorized using JAX's `vmap`:"
   ]
  },
  {
   "cell_type": "code",
   "execution_count": 70,
   "metadata": {
    "id": "GRSmIvQzdhDm"
   },
   "outputs": [],
   "source": [
    "g_inv_vec = vmap(g_inv, in_axes=(0,None,None))\n",
    "g_vec = vmap(g, in_axes=(0,None,None))"
   ]
  },
  {
   "cell_type": "code",
   "execution_count": 71,
   "metadata": {
    "colab": {
     "base_uri": "https://localhost:8080/",
     "height": 281
    },
    "id": "l6E4U-mkdhDm",
    "outputId": "946214e3-6140-4421-eb02-9aa285c3a742"
   },
   "outputs": [
    {
     "data": {
      "image/png": "[encoded data removed]",
      "text/plain": [
       "<Figure size 864x288 with 3 Axes>"
      ]
     },
     "metadata": {
      "needs_background": "light",
      "tags": []
     },
     "output_type": "display_data"
    }
   ],
   "source": [
    "rng_key = random.PRNGKey(1)\n",
    "z = random.normal(rng_key, (10000, 2))\n",
    "\n",
    "x = g_inv_vec(z, A, b)\n",
    "z_rec = g_vec(x, A_inv, b)\n",
    "\n",
    "fig, (ax1, ax2, ax3) = plt.subplots(1, 3, figsize=(12, 4))\n",
    "ax1.hist2d(z[:, 0], z[:, 1], bins=50, range=[(-5,5), (-5,5)], density=True)\n",
    "ax1.set_xlim(-5, 5)\n",
    "ax1.set_ylim(-5, 5)\n",
    "ax1.set_title('z ~ p(z)')\n",
    "\n",
    "ax2.hist2d(x[:, 0], x[:, 1], bins=50, range=[(-5,5), (-5,5)], density=True)\n",
    "ax2.set_xlim(-5, 5)\n",
    "ax2.set_ylim(-5, 5)\n",
    "ax2.set_title('x = g^-1(z)')\n",
    "\n",
    "ax3.hist2d(z_rec[:, 0], z_rec[:, 1], bins=50, range=[(-5,5), (-5,5)], density=True)\n",
    "ax3.set_xlim(-5, 5)\n",
    "ax3.set_ylim(-5, 5)\n",
    "ax3.set_title('z = g(x) [reconstructed]')\n",
    "\n",
    "plt.show()"
   ]
  },
  {
   "cell_type": "markdown",
   "metadata": {
    "id": "vnGdx5LodhDm"
   },
   "source": [
    "The original $\\mathbf{z}$ values are properly reconstructed from $\\mathbf{x}$. So far so good!"
   ]
  },
  {
   "cell_type": "markdown",
   "metadata": {
    "id": "znO3FccldhDn"
   },
   "source": [
    "# Change of variables theorem"
   ]
  },
  {
   "cell_type": "markdown",
   "metadata": {
    "id": "Fd9IslWQdhDn"
   },
   "source": [
    "For $\\mathbf{x} = g^{-1}(\\mathbf{z})$ with $\\mathbf{z} \\sim p(\\mathbf{z})$, we have\n",
    "$$p(\\mathbf{x}) = p(g(\\mathbf{x})) \\left| \\text{det} J_{g(\\mathbf{x})} \\right|,$$\n",
    "where the Jacobian $J_{g(\\mathbf{x})} = \\frac{\\partial g(\\mathbf{x})}{\\partial \\mathbf{x}}$."
   ]
  },
  {
   "cell_type": "code",
   "execution_count": 72,
   "metadata": {
    "colab": {
     "base_uri": "https://localhost:8080/"
    },
    "id": "e-Kq2_ZvdhDn",
    "outputId": "a7a29038-f927-4119-e760-50181cb36f06"
   },
   "outputs": [
    {
     "name": "stdout",
     "output_type": "stream",
     "text": [
      "log p(z) = -4.292217\n",
      "log p(x) = -3.9740756\n"
     ]
    }
   ],
   "source": [
    "z = random.normal(rng_key, (2,))\n",
    "x = g_inv(z, A, b)\n",
    "\n",
    "mu_z = np.zeros(2)\n",
    "cov_z = np.eye(2)\n",
    "\n",
    "logp_z = multivariate_normal.logpdf(z, mean=mu_z, cov=cov_z)\n",
    "\n",
    "J = jacfwd(g)\n",
    "logp_x = multivariate_normal.logpdf(g(x, A_inv, b), mean=mu_z, cov=cov_z) + \\\n",
    "                    np.log(np.abs(np.linalg.det(J(x, A_inv, b))))\n",
    "\n",
    "print(\"log p(z) =\", logp_z)\n",
    "print(\"log p(x) =\", logp_x)"
   ]
  },
  {
   "cell_type": "markdown",
   "metadata": {
    "id": "7sIH78DtdhDn"
   },
   "source": [
    "Since we consider an affine transformation of the normal $\\mathbf{z} \\sim \\mathcal{N}(\\mathbf{0}, \\mathbf{I})$, we also know that $p(\\mathbf{x}) = \\mathcal{N}(g^{-1}(\\mu), A \\Sigma A^T)).$"
   ]
  },
  {
   "cell_type": "code",
   "execution_count": 73,
   "metadata": {
    "colab": {
     "base_uri": "https://localhost:8080/"
    },
    "id": "MsQCLhp_dhDn",
    "outputId": "0802a968-a05c-446f-9b97-a476c1eb3ce1"
   },
   "outputs": [
    {
     "name": "stdout",
     "output_type": "stream",
     "text": [
      "log p(x) = -3.974076\n"
     ]
    }
   ],
   "source": [
    "print(\"log p(x) =\", multivariate_normal.logpdf(x, mean=g_inv(mu_z, A, b), cov=A @ cov_z @ A.T))"
   ]
  },
  {
   "cell_type": "markdown",
   "metadata": {
    "id": "maF5WDNrdhDo"
   },
   "source": [
    "Hence, our expression for the density based on the change of variables theorem seems to hold!"
   ]
  },
  {
   "cell_type": "markdown",
   "metadata": {
    "id": "iKgWkxyJdhDo"
   },
   "source": [
    "Again, we can use `vmap` to vectorize the evaluation of the density for batches of samples:"
   ]
  },
  {
   "cell_type": "code",
   "execution_count": 74,
   "metadata": {
    "colab": {
     "base_uri": "https://localhost:8080/"
    },
    "id": "foSUm5fzdhDo",
    "outputId": "5ab448a1-b612-49c7-8385-eb64c8b5b413"
   },
   "outputs": [
    {
     "name": "stdout",
     "output_type": "stream",
     "text": [
      "log p(x) = [-1.8771409 -2.1949906 -1.66791   -3.4004798 -1.5975085]\n",
      "log p(x) = [-1.877141  -2.1949906 -1.6679101 -3.4004796 -1.5975087]\n"
     ]
    }
   ],
   "source": [
    "J_vec = vmap(J, in_axes=(0,None,None))\n",
    "det_vec = vmap(np.linalg.det)\n",
    "\n",
    "z = random.normal(rng_key, (5, 2))\n",
    "x = g_inv_vec(z, A, b)\n",
    "\n",
    "print(\"log p(x) =\", multivariate_normal.logpdf(g_vec(x, A_inv, b), mean=np.zeros(2), cov=np.eye(2)) + \n",
    "                    np.log(np.abs(det_vec(J_vec(x, A_inv, b)))))\n",
    "print(\"log p(x) =\", multivariate_normal.logpdf(x, mean=g_inv(mu_z, A, b), cov=A @ cov_z @ A.T))"
   ]
  },
  {
   "cell_type": "markdown",
   "metadata": {
    "id": "LJPEctg5dhDo"
   },
   "source": [
    "# Parameter estimation via Maximum Likelihood Estimation (MLE)\n",
    "\n",
    "Given observations $\\mathbf{x}$ and assuming the affine transformation $\\mathbf{z} = g(\\mathbf{x}) = A^{-1} (\\mathbf{x} - \\mathbf{b})$, the parameters $A^{-1}$ and $\\mathbf{b}$ can be estimated by maximizing the likelihood $p(\\mathbf{x} | A^{-1}, \\mathbf{b})$.\n",
    "\n",
    "Let us start with some training data $\\mathbf{x} \\sim p(\\mathbf{x})$."
   ]
  },
  {
   "cell_type": "code",
   "execution_count": 75,
   "metadata": {
    "id": "u6ULzhfadhDo"
   },
   "outputs": [],
   "source": [
    "z_train = random.normal(rng_key, (10000, 2))\n",
    "x_train = g_inv_vec(z_train, A, b)"
   ]
  },
  {
   "cell_type": "markdown",
   "metadata": {
    "id": "me58yHj0dhDp"
   },
   "source": [
    "Then we define $-\\log p(\\mathbf{x} | A^{-1}, \\mathbf{b})$ as our loss function, which we express using the change of variables theorem. The `jit` directive is used for just-in-time compilation with XLA. This can optimize the function call and can oftentimes yield >10x speed-ups in compute time! "
   ]
  },
  {
   "cell_type": "code",
   "execution_count": 76,
   "metadata": {
    "id": "vj2N_WhQdhDp"
   },
   "outputs": [],
   "source": [
    "@jit\n",
    "def loss(params, batch):\n",
    "    A_inv, b = params\n",
    "    return -np.mean(multivariate_normal.logpdf(g_vec(batch, A_inv, b), \n",
    "                                               mean=np.zeros(2), \n",
    "                                               cov=np.eye(2)) + \n",
    "                    np.log(np.abs(det_vec(J_vec(batch, A_inv, b)))))"
   ]
  },
  {
   "cell_type": "markdown",
   "metadata": {
    "id": "bF28uaDGdhDp"
   },
   "source": [
    "Since JAX supports automatic differentiation, we can readily obtain its gradient with respect to its 1st ($A^{-1}$) and 2nd ($\\mathbf{b}$) argument using `grad`:"
   ]
  },
  {
   "cell_type": "code",
   "execution_count": 77,
   "metadata": {
    "id": "IZyYhgladhDp"
   },
   "outputs": [],
   "source": [
    "grad_loss = grad(loss)"
   ]
  },
  {
   "cell_type": "markdown",
   "metadata": {
    "id": "BCVyPE5jdhDp"
   },
   "source": [
    "Hence making it immediate to estimate $A^{-1}$ and $\\mathbf{b}$ using gradient descent:"
   ]
  },
  {
   "cell_type": "code",
   "execution_count": 80,
   "metadata": {
    "colab": {
     "base_uri": "https://localhost:8080/",
     "height": 298
    },
    "id": "m_Ne38TNdhDp",
    "outputId": "87f1c2e4-d072-4733-feb3-6117f825b1e2"
   },
   "outputs": [
    {
     "name": "stderr",
     "output_type": "stream",
     "text": [
      "/usr/local/lib/python3.6/dist-packages/ipykernel_launcher.py:35: UserWarning: The following kwargs were not used by contour: 'lw'\n"
     ]
    },
    {
     "data": {
      "image/png": "[encoded data removed]",
      "text/plain": [
       "<Figure size 288x288 with 1 Axes>"
      ]
     },
     "metadata": {
      "needs_background": "light",
      "tags": []
     },
     "output_type": "display_data"
    }
   ],
   "source": [
    "# Gradient descent\n",
    "A_inv_est = np.eye(2) + random.normal(rng_key, (2, 2)) * 0.01\n",
    "b_est = random.normal(rng_key, (2,)) * 0.01\n",
    "\n",
    "params = A_inv_est, b_est\n",
    "batch = x_train\n",
    "\n",
    "lr = 0.01\n",
    "\n",
    "for i in range(1):\n",
    "    g = grad_loss(params, batch)\n",
    "    params = tree_multimap(lambda x, g: x - lr*g, params, g)\n",
    "    \n",
    "    # Show progress\n",
    "    if i % 10 == 0:\n",
    "        clear_output(wait=True)\n",
    "        A_inv_est, b_est = params\n",
    "\n",
    "        plt.figure(figsize=(4, 4))\n",
    "        plt.title(\"iteration = {}, loss = {}\".format(i, loss(params, batch)))\n",
    "        \n",
    "        plt.hist2d(batch[:, 0], batch[:, 1], bins=50, range=[(-5,5), (-5,5)], density=True)\n",
    "        plt.xlim(-5, 5)\n",
    "        plt.ylim(-5, 5)\n",
    "\n",
    "        x = np.arange(-5.0, 5.0, 0.05)\n",
    "        y = np.arange(-5.0, 5.0, 0.05)\n",
    "        X, Y = np.meshgrid(x, y)\n",
    "        shape = X.shape\n",
    "        grid = np.hstack([X.reshape(-1, 1), Y.reshape(-1, 1)])\n",
    "        Z = np.exp(multivariate_normal.logpdf(g_vec(grid, A_inv_est, b_est), \n",
    "                                              mean=np.zeros(2), \n",
    "                                              cov=np.eye(2)) + np.log(np.abs(det_vec(J_vec(grid, A_inv_est, b_est)))))\n",
    "        Z = Z.reshape(shape)\n",
    "        CS = plt.contour(X, Y, Z, levels=10, lw=2)\n",
    "\n",
    "        plt.show()"
   ]
  },
  {
   "cell_type": "markdown",
   "metadata": {
    "id": "9qr9cZz0dhDq"
   },
   "source": [
    "Of course, in this case, fitting the parameters of an affine transformation of a Normal distribution by expressing the data likelihood through the change of variables theorem is clearly an overkill. \n",
    "\n",
    "However, the same recipe holds for any invertible transformation $\\mathbf{z} = g(\\mathbf{x})$. In particular, parameterizing $g$ with an invertible neural network will result in a [Normalizing Flow](https://arxiv.org/abs/1912.02762)."
   ]
  }
 ],
 "metadata": {
  "accelerator": "GPU",
  "colab": {
   "collapsed_sections": [],
   "name": "jax-change-of-variables.ipynb",
   "provenance": []
  },
  "kernelspec": {
   "display_name": "Python 3",
   "language": "python",
   "name": "python3"
  },
  "language_info": {
   "codemirror_mode": {
    "name": "ipython",
    "version": 3
   },
   "file_extension": ".py",
   "mimetype": "text/x-python",
   "name": "python",
   "nbconvert_exporter": "python",
   "pygments_lexer": "ipython3",
   "version": "3.7.6"
  }
 },
 "nbformat": 4,
 "nbformat_minor": 1
}
