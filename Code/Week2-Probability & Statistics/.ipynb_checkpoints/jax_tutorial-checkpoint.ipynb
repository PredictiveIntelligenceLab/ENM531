{
 "cells": [
  {
   "cell_type": "code",
   "execution_count": 1,
   "metadata": {},
   "outputs": [],
   "source": [
    "import numpy as np\n",
    "import matplotlib.pyplot as plt\n",
    "from scipy.stats import multivariate_normal"
   ]
  },
  {
   "cell_type": "code",
   "execution_count": 2,
   "metadata": {},
   "outputs": [],
   "source": [
    "# Generate samples from a 2-dimensional Gaussian distribution\n",
    "num_samples = 1000\n",
    "mu = np.array([2.0, -3.0])\n",
    "Sigma = np.array([[1.0, 0.7],\n",
    "                  [0.7, 1.0]])\n",
    "X = np.random.multivariate_normal(mu, Sigma, num_samples)"
   ]
  },
  {
   "cell_type": "code",
   "execution_count": 3,
   "metadata": {},
   "outputs": [],
   "source": [
    "def multivariate_normal_pdf(X, mu, Sigma):\n",
    "    D = X.shape[1]\n",
    "    norm_const = np.power(2.0*np.pi, -0.5*D)\n",
    "    det_term = np.power(np.linalg.det(Sigma), -0.5)\n",
    "    cov_inv = np.linalg.inv(Sigma)\n",
    "    exp_term = np.exp(-0.5*np.matmul(X-mu, np.matmul(cov_inv, np.transpose(X-mu))))\n",
    "    pdf = norm_const*det_term*exp_term\n",
    "    return np.diag(pdf)"
   ]
  },
  {
   "cell_type": "code",
   "execution_count": 4,
   "metadata": {},
   "outputs": [
    {
     "name": "stdout",
     "output_type": "stream",
     "text": [
      "Maximum error: 2.775558e-17\n"
     ]
    }
   ],
   "source": [
    "density = multivariate_normal_pdf(X, mu, Sigma)\n",
    "density_scipy = multivariate_normal.pdf(X, mu, Sigma)\n",
    "error = density - density_scipy\n",
    "print('Maximum error: %e' % (error.max()))"
   ]
  },
  {
   "cell_type": "code",
   "execution_count": 6,
   "metadata": {},
   "outputs": [
    {
     "data": {
      "text/plain": [
       "Text(0, 0.5, '$x_2$')"
      ]
     },
     "execution_count": 6,
     "metadata": {},
     "output_type": "execute_result"
    },
    {
     "data": {
      "image/png": "[encoded data removed]",
      "text/plain": [
       "<Figure size 432x288 with 2 Axes>"
      ]
     },
     "metadata": {
      "needs_background": "light"
     },
     "output_type": "display_data"
    }
   ],
   "source": [
    "# Plot samples colored by their density\n",
    "plt.figure()\n",
    "plt.hist2d(X[:, 0], X[:, 1], bins=50, density=True)\n",
    "plt.colorbar()\n",
    "plt.plot(mu[0], mu[1], 'm*', ms = 16)\n",
    "plt.xlabel(r'$x_1$')\n",
    "plt.ylabel(r'$x_2$')"
   ]
  },
  {
   "cell_type": "code",
   "execution_count": null,
   "metadata": {},
   "outputs": [],
   "source": []
  }
 ],
 "metadata": {
  "kernelspec": {
   "display_name": "Python 3",
   "language": "python",
   "name": "python3"
  },
  "language_info": {
   "codemirror_mode": {
    "name": "ipython",
    "version": 3
   },
   "file_extension": ".py",
   "mimetype": "text/x-python",
   "name": "python",
   "nbconvert_exporter": "python",
   "pygments_lexer": "ipython3",
   "version": "3.7.6"
  }
 },
 "nbformat": 4,
 "nbformat_minor": 4
}
