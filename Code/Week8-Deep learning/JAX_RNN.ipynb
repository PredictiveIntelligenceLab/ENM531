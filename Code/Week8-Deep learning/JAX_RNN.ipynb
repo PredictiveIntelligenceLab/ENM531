{
  "nbformat": 4,
  "nbformat_minor": 0,
  "metadata": {
    "accelerator": "GPU",
    "colab": {
      "name": "JAX_RNN.ipynb",
      "provenance": [],
      "collapsed_sections": []
    },
    "kernelspec": {
      "display_name": "Python 3",
      "name": "python3"
    }
  },
  "cells": [
    {
      "cell_type": "code",
      "metadata": {
        "id": "1I7pQ9VwhYyP"
      },
      "source": [
        "import jax.numpy as np\n",
        "from jax import random, vmap, grad, jit\n",
        "from jax.experimental import optimizers\n",
        "from jax.ops import index_update, index\n",
        "\n",
        "import itertools\n",
        "from functools import partial\n",
        "from tqdm import trange\n",
        "import numpy.random as npr\n",
        "import matplotlib.pyplot as plt\n",
        "from mpl_toolkits.mplot3d import Axes3D\n",
        "from scipy.interpolate import griddata"
      ],
      "execution_count": 1,
      "outputs": []
    },
    {
      "cell_type": "code",
      "metadata": {
        "id": "WSJZSZuWNcyd"
      },
      "source": [
        "def create_lags(data, L):\n",
        "    N = data.shape[0] - L\n",
        "    D = data.shape[1]\n",
        "    X = np.zeros((L, N, D))\n",
        "    Y = np.zeros((N, D))\n",
        "    for i in range(0,N):\n",
        "        X = index_update(X, index[:,i,:], data[i:(i+L), :])\n",
        "        Y = index_update(Y, index[i,:], data[i+L, :])\n",
        "    return X, Y"
      ],
      "execution_count": 2,
      "outputs": []
    },
    {
      "cell_type": "code",
      "metadata": {
        "id": "GyIvUXi1jHE2"
      },
      "source": [
        "class RNN():\n",
        "  def __init__(self, dataset, num_lags, hidden_dim, rng_key = random.PRNGKey(0)):\n",
        "    # Normalize across data-points dimension\n",
        "    self.mean, self.std = dataset.mean(0), dataset.std(0)\n",
        "    dataset = (dataset - self.mean)/self.std\n",
        "\n",
        "    # Create the lagged normalized trainind data\n",
        "    # X: L x N x D\n",
        "    # Y: N x D\n",
        "    self.X, self.Y = create_lags(dataset, num_lags)\n",
        "    self.X_dim = self.X.shape[-1]\n",
        "    self.Y_dim = self.Y.shape[-1]\n",
        "    self.hidden_dim = hidden_dim\n",
        "    self.num_lags = num_lags\n",
        "\n",
        "    # Initialization and evaluation functions\n",
        "    self.net_init, self.net_apply = self.init_RNN()\n",
        "    \n",
        "    # Initialize parameters, not committing to a batch shape\n",
        "    self.net_params = self.net_init(rng_key)\n",
        "                \n",
        "    # Use optimizers to set optimizer initialization and update functions\n",
        "    self.opt_init, \\\n",
        "    self.opt_update, \\\n",
        "    self.get_params = optimizers.adam(1e-3)\n",
        "    self.opt_state = self.opt_init(self.net_params)\n",
        "\n",
        "    # Logger to monitor the loss function\n",
        "    self.loss_log = []\n",
        "    self.itercount = itertools.count()\n",
        "\n",
        "  def init_RNN(self):\n",
        "    # Define init function\n",
        "    def _init(rng_key):\n",
        "        # Define methods for initializing the weights\n",
        "        def glorot_normal(rng_key, size):\n",
        "          in_dim = size[0]\n",
        "          out_dim = size[1]\n",
        "          glorot_stddev = 1. / np.sqrt((in_dim + out_dim) / 2.)\n",
        "          return glorot_stddev*random.normal(rng_key, (in_dim, out_dim))\n",
        "        # Inputs\n",
        "        U = glorot_normal(rng_key, (self.X_dim, self.hidden_dim))\n",
        "        b = np.zeros(self.hidden_dim)\n",
        "        # Transition dynamics\n",
        "        W = np.eye(self.hidden_dim)\n",
        "        # Outputs\n",
        "        V = glorot_normal(rng_key, (self.hidden_dim, self.Y_dim))\n",
        "        c = np.zeros(self.Y_dim)\n",
        "        return (U, b, W, V, c)\n",
        "    # Define apply function\n",
        "    def _apply(params, input):\n",
        "        U, b, W, V, c = params\n",
        "        H = np.zeros((input.shape[1], self.hidden_dim))\n",
        "        for i in range(self.num_lags):\n",
        "            H = np.tanh(np.matmul(H, W) + np.matmul(input[i,:,:], U) + b)       \n",
        "        H = np.matmul(H, V) + c\n",
        "        return H\n",
        "    return _init, _apply\n",
        "\n",
        "  def loss(self, params, batch):\n",
        "    X, y = batch\n",
        "    y_pred = self.net_apply(params, X)\n",
        "    loss = np.mean((y - y_pred)**2)\n",
        "    return loss\n",
        "\n",
        "  # Define a compiled update step\n",
        "  @partial(jit, static_argnums=(0,))\n",
        "  def step(self, i, opt_state, batch):\n",
        "      params = self.get_params(opt_state)\n",
        "      g = grad(self.loss)(params, batch)\n",
        "      return self.opt_update(i, g, opt_state)\n",
        "\n",
        "  def data_stream(self, n, num_batches, batch_size):\n",
        "    rng = npr.RandomState(0)\n",
        "    while True:\n",
        "      perm = rng.permutation(n)\n",
        "      for i in range(num_batches):\n",
        "        batch_idx = perm[i*batch_size:(i+1)*batch_size]\n",
        "        yield self.X[:, batch_idx, :], self.Y[batch_idx, :]\n",
        "\n",
        "  def train(self, num_epochs = 100, batch_size = 64):   \n",
        "    n = self.X.shape[1]\n",
        "    num_complete_batches, leftover = divmod(n, batch_size)\n",
        "    num_batches = num_complete_batches + bool(leftover) \n",
        "    batches = self.data_stream(n, num_batches, batch_size)\n",
        "    pbar = trange(num_epochs)\n",
        "    for epoch in pbar:\n",
        "      for _ in range(num_batches):\n",
        "        batch = next(batches)\n",
        "        self.opt_state = self.step(next(self.itercount), self.opt_state, batch)\n",
        "      self.net_params = self.get_params(self.opt_state)\n",
        "      loss_value = self.loss(self.net_params, batch)\n",
        "      self.loss_log.append(loss_value)\n",
        "      pbar.set_postfix({'Loss': loss_value})\n",
        "\n",
        "  @partial(jit, static_argnums=(0,))\n",
        "  def predict(self, params, inputs):\n",
        "    Y_pred = self.net_apply(params, inputs)\n",
        "    return Y_pred"
      ],
      "execution_count": 3,
      "outputs": []
    },
    {
      "cell_type": "code",
      "metadata": {
        "id": "3RaFHPX_hnjm"
      },
      "source": [
        "def f(x):\n",
        "    f = np.sin(np.pi*t)\n",
        "    return f"
      ],
      "execution_count": 4,
      "outputs": []
    },
    {
      "cell_type": "code",
      "metadata": {
        "id": "adGVHL8Rh5o3"
      },
      "source": [
        "rng_key = random.PRNGKey(0)\n",
        "noise = 0.0\n",
        "\n",
        "t = np.arange(0,10,0.1)[:,None]\n",
        "dataset = f(t)\n",
        "dataset = dataset + dataset.std(0)*noise*random.normal(rng_key, dataset.shape)\n",
        "\n",
        "# Use 2/3 of all data as training Data\n",
        "train_size = int(len(dataset) * (2.0/3.0))\n",
        "train_data = dataset[0:train_size,:]"
      ],
      "execution_count": 5,
      "outputs": []
    },
    {
      "cell_type": "code",
      "metadata": {
        "id": "zT2KjQW2iNDp"
      },
      "source": [
        "# Model creation\n",
        "num_lags = 5\n",
        "hidden_dim = 4\n",
        "model = RNN(train_data, num_lags, hidden_dim, rng_key)"
      ],
      "execution_count": 6,
      "outputs": []
    },
    {
      "cell_type": "code",
      "metadata": {
        "id": "Q4ymfPGbluDI",
        "outputId": "b8fa34f9-7d44-4a55-d53e-67d48d0d86e0",
        "colab": {
          "base_uri": "https://localhost:8080/",
          "height": 34
        }
      },
      "source": [
        "model.train(num_epochs = 10000, batch_size = 128)"
      ],
      "execution_count": 7,
      "outputs": [
        {
          "output_type": "stream",
          "text": [
            "100%|██████████| 10000/10000 [04:56<00:00, 33.78it/s, Loss=3.8827347e-06]\n"
          ],
          "name": "stderr"
        }
      ]
    },
    {
      "cell_type": "code",
      "metadata": {
        "id": "IybxL0BjtE_d",
        "outputId": "19d116b6-0bf2-4538-c498-8c50ec9fa5a4",
        "colab": {
          "base_uri": "https://localhost:8080/",
          "height": 51
        }
      },
      "source": [
        "opt_params = model.net_params\n",
        "# One-step ahead prediction (normalized)\n",
        "N, D = dataset.shape\n",
        "pred = np.zeros((N-num_lags, D))\n",
        "X_tmp =  model.X[:,0:1,:]\n",
        "for i in trange(N-num_lags):\n",
        "    pred = index_update(pred, index[i:i+1], model.net_apply(opt_params, X_tmp))\n",
        "    X_tmp = index_update(X_tmp, index[:-1,:,:], X_tmp[1:,:,:])\n",
        "    X_tmp = index_update(X_tmp, index[-1,:,:], pred[i])\n",
        "# De-normalize predictions\n",
        "pred = pred*model.std + model.mean\n",
        "error = np.linalg.norm(dataset[num_lags:] - pred, 2)/np.linalg.norm(dataset[num_lags:], 2)\n",
        "print('Relative L2 prediction error: %e' % (error))"
      ],
      "execution_count": 13,
      "outputs": [
        {
          "output_type": "stream",
          "text": [
            "100%|██████████| 95/95 [00:02<00:00, 34.01it/s]\n"
          ],
          "name": "stderr"
        },
        {
          "output_type": "stream",
          "text": [
            "Relative L2 error: 3.164550e-03\n"
          ],
          "name": "stdout"
        }
      ]
    },
    {
      "cell_type": "code",
      "metadata": {
        "id": "Yz9NWWJAl_v2",
        "outputId": "3ea787f0-73db-42c4-c8dd-43e0406dcf56",
        "colab": {
          "base_uri": "https://localhost:8080/",
          "height": 298
        }
      },
      "source": [
        "plt.figure(1)\n",
        "plt.plot(dataset[num_lags:], 'b-', linewidth = 2, label = \"Exact\")\n",
        "plt.plot(pred, 'r--', linewidth = 3, label = \"Prediction\")\n",
        "# plt.plot(X.shape[1]*np.ones((2,1)), np.linspace(-1.75,1.75,2), 'k--', linewidth=2)\n",
        "plt.axvline(train_size)\n",
        "plt.axis('tight')\n",
        "plt.xlabel('$t$')\n",
        "plt.ylabel('$y_t$')\n",
        "plt.legend(loc='lower left')"
      ],
      "execution_count": 12,
      "outputs": [
        {
          "output_type": "execute_result",
          "data": {
            "text/plain": [
              "<matplotlib.legend.Legend at 0x7f651a06add8>"
            ]
          },
          "metadata": {
            "tags": []
          },
          "execution_count": 12
        },
        {
          "output_type": "display_data",
          "data": {
            "image/png": "[encoded data removed]",
            "text/plain": [
              "<Figure size 432x288 with 1 Axes>"
            ]
          },
          "metadata": {
            "tags": [],
            "needs_background": "light"
          }
        }
      ]
    },
    {
      "cell_type": "code",
      "metadata": {
        "id": "StvoIw2953se"
      },
      "source": [
        ""
      ],
      "execution_count": null,
      "outputs": []
    }
  ]
}