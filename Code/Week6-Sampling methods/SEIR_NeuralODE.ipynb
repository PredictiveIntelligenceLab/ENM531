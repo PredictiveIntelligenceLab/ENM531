{
  "nbformat": 4,
  "nbformat_minor": 0,
  "metadata": {
    "kernelspec": {
      "display_name": "Python 3",
      "language": "python",
      "name": "python3"
    },
    "language_info": {
      "codemirror_mode": {
        "name": "ipython",
        "version": 3
      },
      "file_extension": ".py",
      "mimetype": "text/x-python",
      "name": "python",
      "nbconvert_exporter": "python",
      "pygments_lexer": "ipython3",
      "version": "3.7.6"
    },
    "colab": {
      "name": "SEIR_NeuralODE.ipynb",
      "provenance": [],
      "collapsed_sections": []
    },
    "accelerator": "GPU"
  },
  "cells": [
    {
      "cell_type": "code",
      "metadata": {
        "id": "2b7VWmab1cQg",
        "colab": {
          "base_uri": "https://localhost:8080/"
        },
        "outputId": "00820bc4-5aa6-4eaa-f5cd-6f684df7a0f2"
      },
      "source": [
        "import jax.numpy as np\n",
        "from jax.experimental import optimizers\n",
        "from jax import jit, grad\n",
        "from jax.experimental.ode import odeint\n",
        "from jax import random\n",
        "from tqdm import tqdm\n",
        "import itertools\n",
        "from functools import partial\n",
        "import matplotlib.pyplot as plt\n",
        "%matplotlib inline\n",
        "key = random.PRNGKey(1234)"
      ],
      "execution_count": 1,
      "outputs": [
        {
          "output_type": "stream",
          "text": [
            "WARNING:absl:No GPU/TPU found, falling back to CPU. (Set TF_CPP_MIN_LOG_LEVEL=0 and rerun for more info.)\n"
          ],
          "name": "stderr"
        }
      ]
    },
    {
      "cell_type": "code",
      "metadata": {
        "id": "WRSeF1Ch1cQh"
      },
      "source": [
        "class ODEfit:\n",
        "    def __init__(self, t, X, x0, N, dxdt):      \n",
        "        self.t = t\n",
        "        self.x0 = x0\n",
        "        self.X = X\n",
        "        self.N = N\n",
        "        self.dim = X.shape[1]\n",
        "        self.dxdt = dxdt      \n",
        "        self.params = random.uniform(key, (3,))\n",
        "        print('Initial guess: beta = %f, gamma = %f, delta = %f' % (self.params[0], \n",
        "                                                                    self.params[1], \n",
        "                                                                    self.params[2]))\n",
        "        \n",
        "        # Set optimizer initialization and update functions\n",
        "        self.learning_rate = optimizers.exponential_decay(1e-3, \n",
        "                                                          decay_steps=100, \n",
        "                                                          decay_rate=0.99)\n",
        "        self.opt_init, \\\n",
        "        self.opt_update, \\\n",
        "        self.get_params = optimizers.adam(self.learning_rate)\n",
        "        self.opt_state = self.opt_init(self.params)\n",
        "        \n",
        "        # Logger\n",
        "        self.itercount = itertools.count()\n",
        "        self.loss_log = []\n",
        "        \n",
        "    def loss(self, params, batch):\n",
        "        beta = params[0]\n",
        "        gamma = params[1]\n",
        "        delta = params[2]\n",
        "        pred = odeint(self.dxdt, self.x0, self.t, self.N, beta, gamma, delta)\n",
        "        loss = np.mean((pred - batch)**2)\n",
        "        return loss\n",
        "    \n",
        "    @partial(jit, static_argnums=(0,))\n",
        "    def step(self, i, opt_state, batch):\n",
        "        params = self.get_params(opt_state)\n",
        "        g = grad(self.loss)(params, batch)\n",
        "        return self.opt_update(i, g, opt_state)\n",
        "    \n",
        "    # Optimize parameters in a loop\n",
        "    def train(self, nIter = 10000):\n",
        "        for it in tqdm(range(nIter)):\n",
        "            self.opt_state = self.step(next(self.itercount), self.opt_state, self.X)            \n",
        "            if it % 50 == 0:\n",
        "                self.params = self.get_params(self.opt_state)\n",
        "                loss_value = self.loss(self.params, self.X)\n",
        "                self.loss_log.append(loss_value)\n",
        "            if it == nIter:\n",
        "                break\n",
        "        self.params = self.get_params(self.opt_state)"
      ],
      "execution_count": 2,
      "outputs": []
    },
    {
      "cell_type": "code",
      "metadata": {
        "id": "oUFjn5cw1cQh"
      },
      "source": [
        "def SEIR(x, t, N, beta, gamma, delta):\n",
        "    S, E, I, R = x\n",
        "    f1 = -beta * S * I / N\n",
        "    f2 = beta * S * I / N - delta * E\n",
        "    f3 = delta * E - gamma * I\n",
        "    f4 = gamma * I\n",
        "    dxdt = np.array([f1, f2, f3, f4])\n",
        "    return dxdt"
      ],
      "execution_count": 3,
      "outputs": []
    },
    {
      "cell_type": "code",
      "metadata": {
        "id": "qeMOxxu31cQh"
      },
      "source": [
        "# Set reference parameters\n",
        "N = 1000.0\n",
        "beta = 1.0  # infected person infects 1 other person per day\n",
        "D = 4.0 # infections lasts four days\n",
        "gamma = 1.0 / D\n",
        "delta = 1.0 / 3.0  # incubation period of three days\n",
        "noise = 0.05\n",
        "\n",
        "S0, E0, I0, R0 = 999.0, 0.0, 1.0, 0.0  # initial conditions: one infected, rest susceptible\n",
        "\n",
        "x0 = np.array([S0, E0, I0, R0])\n",
        "t = np.sort(100.0*random.uniform(key, (100, )))\n",
        "\n",
        "# Generate time-series data\n",
        "X_true = odeint(SEIR, x0, t, N, beta, gamma, delta)\n",
        "X = X_true + noise*X_true.std(0)*random.normal(key, X_true.shape)"
      ],
      "execution_count": 4,
      "outputs": []
    },
    {
      "cell_type": "code",
      "metadata": {
        "id": "W7rykKR51cQh",
        "colab": {
          "base_uri": "https://localhost:8080/"
        },
        "outputId": "e3cb770b-25a6-49a6-ed63-f2c41952a525"
      },
      "source": [
        "model = ODEfit(t, X, x0, N, SEIR)"
      ],
      "execution_count": 5,
      "outputs": [
        {
          "output_type": "stream",
          "text": [
            "Initial guess: beta = 0.492109, gamma = 0.470864, delta = 0.140462\n"
          ],
          "name": "stdout"
        }
      ]
    },
    {
      "cell_type": "code",
      "metadata": {
        "id": "wUcis8DO1cQi",
        "colab": {
          "base_uri": "https://localhost:8080/"
        },
        "outputId": "e410861c-0cae-4dd0-f7a5-e254990ba434"
      },
      "source": [
        "model.train(nIter = 20000)"
      ],
      "execution_count": null,
      "outputs": [
        {
          "output_type": "stream",
          "text": [
            " 70%|██████▉   | 13901/20000 [00:18<00:06, 907.88it/s]"
          ],
          "name": "stderr"
        }
      ]
    },
    {
      "cell_type": "code",
      "metadata": {
        "id": "zMwLT00L1cQi"
      },
      "source": [
        "X_pred = odeint(SEIR, x0, t, N, model.params[0], model.params[1], model.params[2])\n",
        "print('True values: beta = %f, gamma = %f, delta = %f' % (beta, gamma, delta))\n",
        "print('Pred values: beta = %f, gamma = %f, delta = %f' % (model.params[0], model.params[1], model.params[2]))"
      ],
      "execution_count": null,
      "outputs": []
    },
    {
      "cell_type": "code",
      "metadata": {
        "id": "yB9Amta61cQi"
      },
      "source": [
        "plt.rcParams.update({'font.size': 16})\n",
        "plt.rcParams['axes.linewidth']=3\n",
        "plt.figure(figsize = (9,7))\n",
        "# plt.plot(t, X[:, 0], '.', markersize = 12, alpha = 0.5)\n",
        "plt.plot(t, X_true[:, 0], linewidth = 2, label = r'$S(t)$')\n",
        "plt.plot(t, X_pred[:, 0], 'k--', linewidth = 2)\n",
        "\n",
        "# plt.plot(t, X[:, 1], '.', markersize = 12, alpha = 0.5)\n",
        "plt.plot(t, X_true[:, 1], linewidth = 2, label = r'$E(t)$')\n",
        "plt.plot(t, X_pred[:, 1], 'k--', linewidth = 2)\n",
        "\n",
        "plt.plot(t, X[:, 2], '.', markersize = 12, alpha = 0.5)\n",
        "plt.plot(t, X_true[:, 2], linewidth = 2, label = r'$I(t)$')\n",
        "plt.plot(t, X_pred[:, 2], 'k--', linewidth = 2)\n",
        "\n",
        "# plt.plot(t, X[:, 3], '.', markersize = 12, alpha = 0.5)\n",
        "plt.plot(t, X_true[:, 3], linewidth = 2, label = r'$R(t)$')\n",
        "plt.plot(t, X_pred[:, 3], 'k--', linewidth = 2)\n",
        "plt.xlabel(r't')\n",
        "plt.ylabel(r'x(t)')\n",
        "plt.legend(loc='best', frameon = False)\n",
        "plt.tight_layout()\n",
        "plt.savefig('/Users/paris/Downloads/covid.png', dpi = 300)\n",
        "\n",
        "plt.figure(figsize = (7,5))\n",
        "plt.plot(model.loss_log, 'k', linewidth = 2)\n",
        "plt.xlabel('Iteration')\n",
        "plt.ylabel('Loss')\n",
        "plt.yscale('log')"
      ],
      "execution_count": null,
      "outputs": []
    },
    {
      "cell_type": "code",
      "metadata": {
        "id": "Csyu9Fbg1cQi"
      },
      "source": [
        ""
      ],
      "execution_count": null,
      "outputs": []
    }
  ]
}