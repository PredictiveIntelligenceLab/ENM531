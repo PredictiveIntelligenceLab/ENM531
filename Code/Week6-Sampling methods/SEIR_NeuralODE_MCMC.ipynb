{
  "nbformat": 4,
  "nbformat_minor": 0,
  "metadata": {
    "kernelspec": {
      "display_name": "Python 3",
      "language": "python",
      "name": "python3"
    },
    "language_info": {
      "codemirror_mode": {
        "name": "ipython",
        "version": 3
      },
      "file_extension": ".py",
      "mimetype": "text/x-python",
      "name": "python",
      "nbconvert_exporter": "python",
      "pygments_lexer": "ipython3",
      "version": "3.7.6"
    },
    "colab": {
      "name": "SEIR_NeuralODE_MCMC.ipynb",
      "provenance": []
    },
    "accelerator": "GPU"
  },
  "cells": [
    {
      "cell_type": "code",
      "metadata": {
        "colab": {
          "base_uri": "https://localhost:8080/"
        },
        "id": "tPcPblxX3E5n",
        "outputId": "71be76ae-93ad-47df-e0d1-596742284112"
      },
      "source": [
        "!pip install jaxlib jax numpyro"
      ],
      "execution_count": 2,
      "outputs": [
        {
          "output_type": "stream",
          "text": [
            "Requirement already satisfied: jaxlib in /usr/local/lib/python3.6/dist-packages (0.1.56+cuda101)\n",
            "Requirement already satisfied: jax in /usr/local/lib/python3.6/dist-packages (0.2.4)\n",
            "Collecting numpyro\n",
            "\u001b[?25l  Downloading https://files.pythonhosted.org/packages/35/f1/7bada66676245f9e085b870b1051ba183b377af287002e10a2e1bea1b498/numpyro-0.4.1-py3-none-any.whl (176kB)\n",
            "\r\u001b[K     |█▉                              | 10kB 17.4MB/s eta 0:00:01\r\u001b[K     |███▊                            | 20kB 16.0MB/s eta 0:00:01\r\u001b[K     |█████▋                          | 30kB 14.2MB/s eta 0:00:01\r\u001b[K     |███████▍                        | 40kB 13.6MB/s eta 0:00:01\r\u001b[K     |█████████▎                      | 51kB 11.4MB/s eta 0:00:01\r\u001b[K     |███████████▏                    | 61kB 11.5MB/s eta 0:00:01\r\u001b[K     |█████████████                   | 71kB 11.5MB/s eta 0:00:01\r\u001b[K     |██████████████▉                 | 81kB 11.8MB/s eta 0:00:01\r\u001b[K     |████████████████▊               | 92kB 11.4MB/s eta 0:00:01\r\u001b[K     |██████████████████▋             | 102kB 11.6MB/s eta 0:00:01\r\u001b[K     |████████████████████▍           | 112kB 11.6MB/s eta 0:00:01\r\u001b[K     |██████████████████████▎         | 122kB 11.6MB/s eta 0:00:01\r\u001b[K     |████████████████████████▏       | 133kB 11.6MB/s eta 0:00:01\r\u001b[K     |██████████████████████████      | 143kB 11.6MB/s eta 0:00:01\r\u001b[K     |███████████████████████████▉    | 153kB 11.6MB/s eta 0:00:01\r\u001b[K     |█████████████████████████████▊  | 163kB 11.6MB/s eta 0:00:01\r\u001b[K     |███████████████████████████████▋| 174kB 11.6MB/s eta 0:00:01\r\u001b[K     |████████████████████████████████| 184kB 11.6MB/s \n",
            "\u001b[?25hRequirement already satisfied: scipy in /usr/local/lib/python3.6/dist-packages (from jaxlib) (1.4.1)\n",
            "Requirement already satisfied: absl-py in /usr/local/lib/python3.6/dist-packages (from jaxlib) (0.10.0)\n",
            "Requirement already satisfied: numpy>=1.12 in /usr/local/lib/python3.6/dist-packages (from jaxlib) (1.18.5)\n",
            "Requirement already satisfied: opt-einsum in /usr/local/lib/python3.6/dist-packages (from jax) (3.3.0)\n",
            "Requirement already satisfied: tqdm in /usr/local/lib/python3.6/dist-packages (from numpyro) (4.41.1)\n",
            "Requirement already satisfied: six in /usr/local/lib/python3.6/dist-packages (from absl-py->jaxlib) (1.15.0)\n",
            "\u001b[31mERROR: numpyro 0.4.1 has requirement jax==0.2.3, but you'll have jax 0.2.4 which is incompatible.\u001b[0m\n",
            "Installing collected packages: numpyro\n",
            "Successfully installed numpyro-0.4.1\n"
          ],
          "name": "stdout"
        }
      ]
    },
    {
      "cell_type": "code",
      "metadata": {
        "id": "gp70AUpb27ta"
      },
      "source": [
        "import jax.numpy as np\n",
        "from jax import vmap, jit\n",
        "from jax.experimental.ode import odeint\n",
        "import jax.random as random\n",
        "from jax.config import config\n",
        "config.update(\"jax_enable_x64\", True)\n",
        "\n",
        "from numpyro import sample\n",
        "import numpyro.distributions as dist\n",
        "from numpyro.infer import MCMC, NUTS\n",
        "\n",
        "import numpy as onp\n",
        "import matplotlib.pyplot as plt\n",
        "from functools import partial\n",
        "import time\n",
        "\n",
        "%matplotlib inline"
      ],
      "execution_count": null,
      "outputs": []
    },
    {
      "cell_type": "code",
      "metadata": {
        "id": "5TDVf4dV27ta"
      },
      "source": [
        "class ODEfit:\n",
        "    def __init__(self, t, X, x0, N, dxdt): \n",
        "        self.t = t\n",
        "        self.x0 = x0\n",
        "        self.X = X\n",
        "        self.N = N\n",
        "        self.dxdt = dxdt      \n",
        "        \n",
        "    def model(self, X):\n",
        "        # Priors\n",
        "        beta = sample('beta', dist.TruncatedNormal(low=0.0, loc=0.5, scale=2.0))\n",
        "        gamma = sample('gamma', dist.TruncatedNormal(low=0.0, loc=0.5, scale=1.0))\n",
        "        delta = sample('delta', dist.TruncatedNormal(low=0.0, loc=0.5, scale=1.0))\n",
        "        noise = sample('noise_var', dist.LogNormal(0.0, 10.0))\n",
        "            \n",
        "        # Likelihood\n",
        "        z = odeint(self.dxdt, self.x0, self.t, self.N, beta, gamma, delta)[:,2]\n",
        "        sample(\"X\", dist.Normal(z, noise), obs=X)\n",
        "        \n",
        "    def train(self, settings, rng_key):\n",
        "        start = time.time()\n",
        "        kernel = NUTS(self.model, \n",
        "                      target_accept_prob = settings['target_accept_prob'])\n",
        "        mcmc = MCMC(kernel, \n",
        "                    num_warmup = settings['num_warmup'], \n",
        "                    num_samples = settings['num_samples'],\n",
        "                    num_chains = settings['num_chains'],\n",
        "                    progress_bar=True,\n",
        "                    jit_model_args=True)\n",
        "        mcmc.run(rng_key, self.X)\n",
        "        mcmc.print_summary()\n",
        "        elapsed = time.time() - start\n",
        "        print('\\nMCMC elapsed time: %.2f seconds' % (elapsed))\n",
        "        return mcmc.get_samples()\n",
        "    \n",
        "    def predict(self, beta, gamma, delta):\n",
        "        X = odeint(self.dxdt, self.x0, self.t, self.N, beta, gamma, delta)\n",
        "        return X"
      ],
      "execution_count": null,
      "outputs": []
    },
    {
      "cell_type": "code",
      "metadata": {
        "id": "VkSFaHIO27ta"
      },
      "source": [
        "def SEIR(z, t, N, beta, gamma, delta):\n",
        "    \"\"\"\n",
        "    SEIR model. beta is the transmission rate that is subject to human activity, while gamma, delta are almost disease specific.\n",
        "    \"\"\"\n",
        "    S, E, I, R = z\n",
        "    f1 = -beta * S * I / N\n",
        "    f2 = beta * S * I / N - delta * E\n",
        "    f3 = delta * E - gamma * I\n",
        "    f4 = gamma * I\n",
        "    dxdt = np.array([f1, f2, f3, f4])\n",
        "    return dxdt"
      ],
      "execution_count": null,
      "outputs": []
    },
    {
      "cell_type": "code",
      "metadata": {
        "id": "cs_J0uI527ta"
      },
      "source": [
        "# Set reference parameters\n",
        "N = 1000.0\n",
        "beta = 1.0  # infected person infects 1 other person per day\n",
        "D = 4.0 # infections lasts four days\n",
        "gamma = 1.0 / D\n",
        "delta = 1.0 / 3.0  # incubation period of three days\n",
        "noise = 0.05\n",
        "key = random.PRNGKey(1234)\n",
        "\n",
        "S0, E0, I0, R0 = 999.0, 0.0, 1.0, 0.0  # initial conditions: one infected, rest susceptible\n",
        "\n",
        "x0 = np.array([S0, E0, I0, R0])\n",
        "#t = np.sort(100.0*random.uniform(key, (100, )))\n",
        "t = np.linspace(0,100,100)\n",
        "\n",
        "# Generate time-series data\n",
        "X_true = odeint(SEIR, x0, t, N, beta, gamma, delta)\n",
        "data = X_true + noise*X_true.std(0)*random.normal(key, X_true.shape)"
      ],
      "execution_count": null,
      "outputs": []
    },
    {
      "cell_type": "code",
      "metadata": {
        "id": "yIS0Tlt627ta"
      },
      "source": [
        "model = ODEfit(t, data[:,2], x0, N, SEIR)\n",
        "rng_key_train, rng_key_predict = random.split(random.PRNGKey(0))"
      ],
      "execution_count": null,
      "outputs": []
    },
    {
      "cell_type": "code",
      "metadata": {
        "colab": {
          "base_uri": "https://localhost:8080/"
        },
        "id": "7FGUAEI-27ta",
        "outputId": "ae2acf8f-f4bf-4461-e3e7-dd04016b338a"
      },
      "source": [
        "num_warmup = 1000\n",
        "num_samples = 2000\n",
        "num_chains = 1\n",
        "target_accept_prob = 0.85\n",
        "settings = {'num_warmup': num_warmup,\n",
        "            'num_samples': num_samples,\n",
        "            'num_chains': num_chains,\n",
        "            'target_accept_prob': target_accept_prob}\n",
        "samples = model.train(settings, rng_key_train)  \n",
        "print('True values: beta = %f, gamma = %f, delta = %f' % (beta, gamma, delta))"
      ],
      "execution_count": null,
      "outputs": [
        {
          "output_type": "stream",
          "text": [
            "warmup:  23%|██▎       | 699/3000 [01:18<03:07, 12.25it/s, 39 steps of size 1.16e-02. acc. prob=0.84] "
          ],
          "name": "stderr"
        }
      ]
    },
    {
      "cell_type": "code",
      "metadata": {
        "id": "Gjc4XuCm27tb"
      },
      "source": [
        "vmap_args = (samples['beta'], samples['gamma'], samples['delta'])\n",
        "X_pred = vmap(model.predict)(*vmap_args)\n",
        "mean_prediction, std_prediction = np.mean(X_pred, axis=0), np.std(X_pred, axis=0)\n",
        "lower = mean_prediction - 2.0*std_prediction\n",
        "upper = mean_prediction + 2.0*std_prediction"
      ],
      "execution_count": null,
      "outputs": []
    },
    {
      "cell_type": "code",
      "metadata": {
        "id": "VRSjdHJQ27tb"
      },
      "source": [
        "plt.rcParams.update({'font.size': 16})\n",
        "plt.rcParams['axes.linewidth']=3\n",
        "plt.figure(figsize = (16,9))\n",
        "plt.plot(t,X_true, linewidth = 3)\n",
        "for i in range(4):\n",
        "    plt.plot(t, mean_prediction[:,i], 'k--', linewidth = 2)\n",
        "    plt.fill_between(t, lower[:,i], upper[:,i], alpha=0.3)\n",
        "# plt.title(\"Posterior predictive (80% CI) with SEIR pattern.\")\n",
        "plt.plot(t, data[:,2], 'o', markersize = 10, alpha = 0.5)\n",
        "plt.legend()\n",
        "plt.gca().set(ylim=(0, 1000), xlabel=\"days\", ylabel=\"population\")"
      ],
      "execution_count": null,
      "outputs": []
    },
    {
      "cell_type": "code",
      "metadata": {
        "id": "ewzb1pAE27tb"
      },
      "source": [
        ""
      ],
      "execution_count": null,
      "outputs": []
    }
  ]
}