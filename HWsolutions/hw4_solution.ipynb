{
  "nbformat": 4,
  "nbformat_minor": 0,
  "metadata": {
    "colab": {
      "name": "hw4_solution.ipynb",
      "provenance": [],
      "collapsed_sections": []
    },
    "kernelspec": {
      "name": "python3",
      "display_name": "Python 3"
    },
    "language_info": {
      "name": "python"
    },
    "accelerator": "GPU",
    "widgets": {
      "application/vnd.jupyter.widget-state+json": {
        "273a55ddf8c3405383f93487fd76c177": {
          "model_module": "@jupyter-widgets/controls",
          "model_name": "HBoxModel",
          "state": {
            "_view_name": "HBoxView",
            "_dom_classes": [],
            "_model_name": "HBoxModel",
            "_view_module": "@jupyter-widgets/controls",
            "_model_module_version": "1.5.0",
            "_view_count": null,
            "_view_module_version": "1.5.0",
            "box_style": "",
            "layout": "IPY_MODEL_f1117bc7c8574d9bbe80043bfbcd9080",
            "_model_module": "@jupyter-widgets/controls",
            "children": [
              "IPY_MODEL_bcdfa486fe5c4c1eb5003eb63c5bfeed",
              "IPY_MODEL_b4848ad53849456a8429ba8596fd0c85"
            ]
          }
        },
        "f1117bc7c8574d9bbe80043bfbcd9080": {
          "model_module": "@jupyter-widgets/base",
          "model_name": "LayoutModel",
          "state": {
            "_view_name": "LayoutView",
            "grid_template_rows": null,
            "right": null,
            "justify_content": null,
            "_view_module": "@jupyter-widgets/base",
            "overflow": null,
            "_model_module_version": "1.2.0",
            "_view_count": null,
            "flex_flow": null,
            "width": null,
            "min_width": null,
            "border": null,
            "align_items": null,
            "bottom": null,
            "_model_module": "@jupyter-widgets/base",
            "top": null,
            "grid_column": null,
            "overflow_y": null,
            "overflow_x": null,
            "grid_auto_flow": null,
            "grid_area": null,
            "grid_template_columns": null,
            "flex": null,
            "_model_name": "LayoutModel",
            "justify_items": null,
            "grid_row": null,
            "max_height": null,
            "align_content": null,
            "visibility": null,
            "align_self": null,
            "height": null,
            "min_height": null,
            "padding": null,
            "grid_auto_rows": null,
            "grid_gap": null,
            "max_width": null,
            "order": null,
            "_view_module_version": "1.2.0",
            "grid_template_areas": null,
            "object_position": null,
            "object_fit": null,
            "grid_auto_columns": null,
            "margin": null,
            "display": null,
            "left": null
          }
        },
        "bcdfa486fe5c4c1eb5003eb63c5bfeed": {
          "model_module": "@jupyter-widgets/controls",
          "model_name": "FloatProgressModel",
          "state": {
            "_view_name": "ProgressView",
            "style": "IPY_MODEL_328e2556077c45539ecdaa7941d020c1",
            "_dom_classes": [],
            "description": "100%",
            "_model_name": "FloatProgressModel",
            "bar_style": "success",
            "max": 20000,
            "_view_module": "@jupyter-widgets/controls",
            "_model_module_version": "1.5.0",
            "value": 20000,
            "_view_count": null,
            "_view_module_version": "1.5.0",
            "orientation": "horizontal",
            "min": 0,
            "description_tooltip": null,
            "_model_module": "@jupyter-widgets/controls",
            "layout": "IPY_MODEL_1842523076fa4140aaca968ca89d6703"
          }
        },
        "b4848ad53849456a8429ba8596fd0c85": {
          "model_module": "@jupyter-widgets/controls",
          "model_name": "HTMLModel",
          "state": {
            "_view_name": "HTMLView",
            "style": "IPY_MODEL_9739a3f3e2554b59b4cd7c72b5cf0ac9",
            "_dom_classes": [],
            "description": "",
            "_model_name": "HTMLModel",
            "placeholder": "​",
            "_view_module": "@jupyter-widgets/controls",
            "_model_module_version": "1.5.0",
            "value": " 20000/20000 [03:59&lt;00:00, 83.64it/s, Loss=2.1106503e-06]",
            "_view_count": null,
            "_view_module_version": "1.5.0",
            "description_tooltip": null,
            "_model_module": "@jupyter-widgets/controls",
            "layout": "IPY_MODEL_1e9696444b1d44a49e67bf0f8de6fb92"
          }
        },
        "328e2556077c45539ecdaa7941d020c1": {
          "model_module": "@jupyter-widgets/controls",
          "model_name": "ProgressStyleModel",
          "state": {
            "_view_name": "StyleView",
            "_model_name": "ProgressStyleModel",
            "description_width": "initial",
            "_view_module": "@jupyter-widgets/base",
            "_model_module_version": "1.5.0",
            "_view_count": null,
            "_view_module_version": "1.2.0",
            "bar_color": null,
            "_model_module": "@jupyter-widgets/controls"
          }
        },
        "1842523076fa4140aaca968ca89d6703": {
          "model_module": "@jupyter-widgets/base",
          "model_name": "LayoutModel",
          "state": {
            "_view_name": "LayoutView",
            "grid_template_rows": null,
            "right": null,
            "justify_content": null,
            "_view_module": "@jupyter-widgets/base",
            "overflow": null,
            "_model_module_version": "1.2.0",
            "_view_count": null,
            "flex_flow": null,
            "width": null,
            "min_width": null,
            "border": null,
            "align_items": null,
            "bottom": null,
            "_model_module": "@jupyter-widgets/base",
            "top": null,
            "grid_column": null,
            "overflow_y": null,
            "overflow_x": null,
            "grid_auto_flow": null,
            "grid_area": null,
            "grid_template_columns": null,
            "flex": null,
            "_model_name": "LayoutModel",
            "justify_items": null,
            "grid_row": null,
            "max_height": null,
            "align_content": null,
            "visibility": null,
            "align_self": null,
            "height": null,
            "min_height": null,
            "padding": null,
            "grid_auto_rows": null,
            "grid_gap": null,
            "max_width": null,
            "order": null,
            "_view_module_version": "1.2.0",
            "grid_template_areas": null,
            "object_position": null,
            "object_fit": null,
            "grid_auto_columns": null,
            "margin": null,
            "display": null,
            "left": null
          }
        },
        "9739a3f3e2554b59b4cd7c72b5cf0ac9": {
          "model_module": "@jupyter-widgets/controls",
          "model_name": "DescriptionStyleModel",
          "state": {
            "_view_name": "StyleView",
            "_model_name": "DescriptionStyleModel",
            "description_width": "",
            "_view_module": "@jupyter-widgets/base",
            "_model_module_version": "1.5.0",
            "_view_count": null,
            "_view_module_version": "1.2.0",
            "_model_module": "@jupyter-widgets/controls"
          }
        },
        "1e9696444b1d44a49e67bf0f8de6fb92": {
          "model_module": "@jupyter-widgets/base",
          "model_name": "LayoutModel",
          "state": {
            "_view_name": "LayoutView",
            "grid_template_rows": null,
            "right": null,
            "justify_content": null,
            "_view_module": "@jupyter-widgets/base",
            "overflow": null,
            "_model_module_version": "1.2.0",
            "_view_count": null,
            "flex_flow": null,
            "width": null,
            "min_width": null,
            "border": null,
            "align_items": null,
            "bottom": null,
            "_model_module": "@jupyter-widgets/base",
            "top": null,
            "grid_column": null,
            "overflow_y": null,
            "overflow_x": null,
            "grid_auto_flow": null,
            "grid_area": null,
            "grid_template_columns": null,
            "flex": null,
            "_model_name": "LayoutModel",
            "justify_items": null,
            "grid_row": null,
            "max_height": null,
            "align_content": null,
            "visibility": null,
            "align_self": null,
            "height": null,
            "min_height": null,
            "padding": null,
            "grid_auto_rows": null,
            "grid_gap": null,
            "max_width": null,
            "order": null,
            "_view_module_version": "1.2.0",
            "grid_template_areas": null,
            "object_position": null,
            "object_fit": null,
            "grid_auto_columns": null,
            "margin": null,
            "display": null,
            "left": null
          }
        },
        "ff21958e0e6e4e8db3ea8698cf020ccb": {
          "model_module": "@jupyter-widgets/controls",
          "model_name": "HBoxModel",
          "state": {
            "_view_name": "HBoxView",
            "_dom_classes": [],
            "_model_name": "HBoxModel",
            "_view_module": "@jupyter-widgets/controls",
            "_model_module_version": "1.5.0",
            "_view_count": null,
            "_view_module_version": "1.5.0",
            "box_style": "",
            "layout": "IPY_MODEL_f0d0fa2e97a14f6697cefcc6fab20932",
            "_model_module": "@jupyter-widgets/controls",
            "children": [
              "IPY_MODEL_a2624f61a21d4198b17a8d17fcbe9222",
              "IPY_MODEL_b271637636df4c2f96e9064bcee36a96"
            ]
          }
        },
        "f0d0fa2e97a14f6697cefcc6fab20932": {
          "model_module": "@jupyter-widgets/base",
          "model_name": "LayoutModel",
          "state": {
            "_view_name": "LayoutView",
            "grid_template_rows": null,
            "right": null,
            "justify_content": null,
            "_view_module": "@jupyter-widgets/base",
            "overflow": null,
            "_model_module_version": "1.2.0",
            "_view_count": null,
            "flex_flow": null,
            "width": null,
            "min_width": null,
            "border": null,
            "align_items": null,
            "bottom": null,
            "_model_module": "@jupyter-widgets/base",
            "top": null,
            "grid_column": null,
            "overflow_y": null,
            "overflow_x": null,
            "grid_auto_flow": null,
            "grid_area": null,
            "grid_template_columns": null,
            "flex": null,
            "_model_name": "LayoutModel",
            "justify_items": null,
            "grid_row": null,
            "max_height": null,
            "align_content": null,
            "visibility": null,
            "align_self": null,
            "height": null,
            "min_height": null,
            "padding": null,
            "grid_auto_rows": null,
            "grid_gap": null,
            "max_width": null,
            "order": null,
            "_view_module_version": "1.2.0",
            "grid_template_areas": null,
            "object_position": null,
            "object_fit": null,
            "grid_auto_columns": null,
            "margin": null,
            "display": null,
            "left": null
          }
        },
        "a2624f61a21d4198b17a8d17fcbe9222": {
          "model_module": "@jupyter-widgets/controls",
          "model_name": "FloatProgressModel",
          "state": {
            "_view_name": "ProgressView",
            "style": "IPY_MODEL_a492b71c3ecb44ed89d13fab28cb14f0",
            "_dom_classes": [],
            "description": "100%",
            "_model_name": "FloatProgressModel",
            "bar_style": "success",
            "max": 666,
            "_view_module": "@jupyter-widgets/controls",
            "_model_module_version": "1.5.0",
            "value": 666,
            "_view_count": null,
            "_view_module_version": "1.5.0",
            "orientation": "horizontal",
            "min": 0,
            "description_tooltip": null,
            "_model_module": "@jupyter-widgets/controls",
            "layout": "IPY_MODEL_e32e7278d3a4439581848c9e6d12af77"
          }
        },
        "b271637636df4c2f96e9064bcee36a96": {
          "model_module": "@jupyter-widgets/controls",
          "model_name": "HTMLModel",
          "state": {
            "_view_name": "HTMLView",
            "style": "IPY_MODEL_6d6cd240b9704e9d99b119813a9a09fe",
            "_dom_classes": [],
            "description": "",
            "_model_name": "HTMLModel",
            "placeholder": "​",
            "_view_module": "@jupyter-widgets/controls",
            "_model_module_version": "1.5.0",
            "value": " 666/666 [00:28&lt;00:00, 23.53it/s]",
            "_view_count": null,
            "_view_module_version": "1.5.0",
            "description_tooltip": null,
            "_model_module": "@jupyter-widgets/controls",
            "layout": "IPY_MODEL_027f097d3b994424978a8293038a9fe0"
          }
        },
        "a492b71c3ecb44ed89d13fab28cb14f0": {
          "model_module": "@jupyter-widgets/controls",
          "model_name": "ProgressStyleModel",
          "state": {
            "_view_name": "StyleView",
            "_model_name": "ProgressStyleModel",
            "description_width": "initial",
            "_view_module": "@jupyter-widgets/base",
            "_model_module_version": "1.5.0",
            "_view_count": null,
            "_view_module_version": "1.2.0",
            "bar_color": null,
            "_model_module": "@jupyter-widgets/controls"
          }
        },
        "e32e7278d3a4439581848c9e6d12af77": {
          "model_module": "@jupyter-widgets/base",
          "model_name": "LayoutModel",
          "state": {
            "_view_name": "LayoutView",
            "grid_template_rows": null,
            "right": null,
            "justify_content": null,
            "_view_module": "@jupyter-widgets/base",
            "overflow": null,
            "_model_module_version": "1.2.0",
            "_view_count": null,
            "flex_flow": null,
            "width": null,
            "min_width": null,
            "border": null,
            "align_items": null,
            "bottom": null,
            "_model_module": "@jupyter-widgets/base",
            "top": null,
            "grid_column": null,
            "overflow_y": null,
            "overflow_x": null,
            "grid_auto_flow": null,
            "grid_area": null,
            "grid_template_columns": null,
            "flex": null,
            "_model_name": "LayoutModel",
            "justify_items": null,
            "grid_row": null,
            "max_height": null,
            "align_content": null,
            "visibility": null,
            "align_self": null,
            "height": null,
            "min_height": null,
            "padding": null,
            "grid_auto_rows": null,
            "grid_gap": null,
            "max_width": null,
            "order": null,
            "_view_module_version": "1.2.0",
            "grid_template_areas": null,
            "object_position": null,
            "object_fit": null,
            "grid_auto_columns": null,
            "margin": null,
            "display": null,
            "left": null
          }
        },
        "6d6cd240b9704e9d99b119813a9a09fe": {
          "model_module": "@jupyter-widgets/controls",
          "model_name": "DescriptionStyleModel",
          "state": {
            "_view_name": "StyleView",
            "_model_name": "DescriptionStyleModel",
            "description_width": "",
            "_view_module": "@jupyter-widgets/base",
            "_model_module_version": "1.5.0",
            "_view_count": null,
            "_view_module_version": "1.2.0",
            "_model_module": "@jupyter-widgets/controls"
          }
        },
        "027f097d3b994424978a8293038a9fe0": {
          "model_module": "@jupyter-widgets/base",
          "model_name": "LayoutModel",
          "state": {
            "_view_name": "LayoutView",
            "grid_template_rows": null,
            "right": null,
            "justify_content": null,
            "_view_module": "@jupyter-widgets/base",
            "overflow": null,
            "_model_module_version": "1.2.0",
            "_view_count": null,
            "flex_flow": null,
            "width": null,
            "min_width": null,
            "border": null,
            "align_items": null,
            "bottom": null,
            "_model_module": "@jupyter-widgets/base",
            "top": null,
            "grid_column": null,
            "overflow_y": null,
            "overflow_x": null,
            "grid_auto_flow": null,
            "grid_area": null,
            "grid_template_columns": null,
            "flex": null,
            "_model_name": "LayoutModel",
            "justify_items": null,
            "grid_row": null,
            "max_height": null,
            "align_content": null,
            "visibility": null,
            "align_self": null,
            "height": null,
            "min_height": null,
            "padding": null,
            "grid_auto_rows": null,
            "grid_gap": null,
            "max_width": null,
            "order": null,
            "_view_module_version": "1.2.0",
            "grid_template_areas": null,
            "object_position": null,
            "object_fit": null,
            "grid_auto_columns": null,
            "margin": null,
            "display": null,
            "left": null
          }
        },
        "2eb5afeed9344cbeb34bafbf3ea70834": {
          "model_module": "@jupyter-widgets/controls",
          "model_name": "HBoxModel",
          "state": {
            "_view_name": "HBoxView",
            "_dom_classes": [],
            "_model_name": "HBoxModel",
            "_view_module": "@jupyter-widgets/controls",
            "_model_module_version": "1.5.0",
            "_view_count": null,
            "_view_module_version": "1.5.0",
            "box_style": "",
            "layout": "IPY_MODEL_9b12cdd7a1e94c03adf93381ace10b96",
            "_model_module": "@jupyter-widgets/controls",
            "children": [
              "IPY_MODEL_cc5b2f0f8f784dcea7a814507b11eb4c",
              "IPY_MODEL_131ee572bf4d4fdb9c39c65a26d6cda9"
            ]
          }
        },
        "9b12cdd7a1e94c03adf93381ace10b96": {
          "model_module": "@jupyter-widgets/base",
          "model_name": "LayoutModel",
          "state": {
            "_view_name": "LayoutView",
            "grid_template_rows": null,
            "right": null,
            "justify_content": null,
            "_view_module": "@jupyter-widgets/base",
            "overflow": null,
            "_model_module_version": "1.2.0",
            "_view_count": null,
            "flex_flow": null,
            "width": null,
            "min_width": null,
            "border": null,
            "align_items": null,
            "bottom": null,
            "_model_module": "@jupyter-widgets/base",
            "top": null,
            "grid_column": null,
            "overflow_y": null,
            "overflow_x": null,
            "grid_auto_flow": null,
            "grid_area": null,
            "grid_template_columns": null,
            "flex": null,
            "_model_name": "LayoutModel",
            "justify_items": null,
            "grid_row": null,
            "max_height": null,
            "align_content": null,
            "visibility": null,
            "align_self": null,
            "height": null,
            "min_height": null,
            "padding": null,
            "grid_auto_rows": null,
            "grid_gap": null,
            "max_width": null,
            "order": null,
            "_view_module_version": "1.2.0",
            "grid_template_areas": null,
            "object_position": null,
            "object_fit": null,
            "grid_auto_columns": null,
            "margin": null,
            "display": null,
            "left": null
          }
        },
        "cc5b2f0f8f784dcea7a814507b11eb4c": {
          "model_module": "@jupyter-widgets/controls",
          "model_name": "FloatProgressModel",
          "state": {
            "_view_name": "ProgressView",
            "style": "IPY_MODEL_e5158cd9b52f46f591c8c58b0d76e403",
            "_dom_classes": [],
            "description": "100%",
            "_model_name": "FloatProgressModel",
            "bar_style": "success",
            "max": 20000,
            "_view_module": "@jupyter-widgets/controls",
            "_model_module_version": "1.5.0",
            "value": 20000,
            "_view_count": null,
            "_view_module_version": "1.5.0",
            "orientation": "horizontal",
            "min": 0,
            "description_tooltip": null,
            "_model_module": "@jupyter-widgets/controls",
            "layout": "IPY_MODEL_8c38206f32884f2d97484564a0e3ecd9"
          }
        },
        "131ee572bf4d4fdb9c39c65a26d6cda9": {
          "model_module": "@jupyter-widgets/controls",
          "model_name": "HTMLModel",
          "state": {
            "_view_name": "HTMLView",
            "style": "IPY_MODEL_86abeaad3bba444899af24845fdae6ab",
            "_dom_classes": [],
            "description": "",
            "_model_name": "HTMLModel",
            "placeholder": "​",
            "_view_module": "@jupyter-widgets/controls",
            "_model_module_version": "1.5.0",
            "value": " 20000/20000 [02:53&lt;00:00, 115.46it/s, Loss=0.00020767374]",
            "_view_count": null,
            "_view_module_version": "1.5.0",
            "description_tooltip": null,
            "_model_module": "@jupyter-widgets/controls",
            "layout": "IPY_MODEL_e03c487f907e43b19ad1182d8a7f83a5"
          }
        },
        "e5158cd9b52f46f591c8c58b0d76e403": {
          "model_module": "@jupyter-widgets/controls",
          "model_name": "ProgressStyleModel",
          "state": {
            "_view_name": "StyleView",
            "_model_name": "ProgressStyleModel",
            "description_width": "initial",
            "_view_module": "@jupyter-widgets/base",
            "_model_module_version": "1.5.0",
            "_view_count": null,
            "_view_module_version": "1.2.0",
            "bar_color": null,
            "_model_module": "@jupyter-widgets/controls"
          }
        },
        "8c38206f32884f2d97484564a0e3ecd9": {
          "model_module": "@jupyter-widgets/base",
          "model_name": "LayoutModel",
          "state": {
            "_view_name": "LayoutView",
            "grid_template_rows": null,
            "right": null,
            "justify_content": null,
            "_view_module": "@jupyter-widgets/base",
            "overflow": null,
            "_model_module_version": "1.2.0",
            "_view_count": null,
            "flex_flow": null,
            "width": null,
            "min_width": null,
            "border": null,
            "align_items": null,
            "bottom": null,
            "_model_module": "@jupyter-widgets/base",
            "top": null,
            "grid_column": null,
            "overflow_y": null,
            "overflow_x": null,
            "grid_auto_flow": null,
            "grid_area": null,
            "grid_template_columns": null,
            "flex": null,
            "_model_name": "LayoutModel",
            "justify_items": null,
            "grid_row": null,
            "max_height": null,
            "align_content": null,
            "visibility": null,
            "align_self": null,
            "height": null,
            "min_height": null,
            "padding": null,
            "grid_auto_rows": null,
            "grid_gap": null,
            "max_width": null,
            "order": null,
            "_view_module_version": "1.2.0",
            "grid_template_areas": null,
            "object_position": null,
            "object_fit": null,
            "grid_auto_columns": null,
            "margin": null,
            "display": null,
            "left": null
          }
        },
        "86abeaad3bba444899af24845fdae6ab": {
          "model_module": "@jupyter-widgets/controls",
          "model_name": "DescriptionStyleModel",
          "state": {
            "_view_name": "StyleView",
            "_model_name": "DescriptionStyleModel",
            "description_width": "",
            "_view_module": "@jupyter-widgets/base",
            "_model_module_version": "1.5.0",
            "_view_count": null,
            "_view_module_version": "1.2.0",
            "_model_module": "@jupyter-widgets/controls"
          }
        },
        "e03c487f907e43b19ad1182d8a7f83a5": {
          "model_module": "@jupyter-widgets/base",
          "model_name": "LayoutModel",
          "state": {
            "_view_name": "LayoutView",
            "grid_template_rows": null,
            "right": null,
            "justify_content": null,
            "_view_module": "@jupyter-widgets/base",
            "overflow": null,
            "_model_module_version": "1.2.0",
            "_view_count": null,
            "flex_flow": null,
            "width": null,
            "min_width": null,
            "border": null,
            "align_items": null,
            "bottom": null,
            "_model_module": "@jupyter-widgets/base",
            "top": null,
            "grid_column": null,
            "overflow_y": null,
            "overflow_x": null,
            "grid_auto_flow": null,
            "grid_area": null,
            "grid_template_columns": null,
            "flex": null,
            "_model_name": "LayoutModel",
            "justify_items": null,
            "grid_row": null,
            "max_height": null,
            "align_content": null,
            "visibility": null,
            "align_self": null,
            "height": null,
            "min_height": null,
            "padding": null,
            "grid_auto_rows": null,
            "grid_gap": null,
            "max_width": null,
            "order": null,
            "_view_module_version": "1.2.0",
            "grid_template_areas": null,
            "object_position": null,
            "object_fit": null,
            "grid_auto_columns": null,
            "margin": null,
            "display": null,
            "left": null
          }
        }
      }
    }
  },
  "cells": [
    {
      "cell_type": "code",
      "metadata": {
        "id": "Q-nHD4HUei3-"
      },
      "source": [
        "import jax\n",
        "import jax.numpy as np\n",
        "import numpy as onp\n",
        "import pylab as pl\n",
        "import itertools\n",
        "\n",
        "from jax import vmap, grad, random, jit\n",
        "from jax.ops import index_update, index\n",
        "\n",
        "from jax.experimental import stax, optimizers\n",
        "from jax.experimental.stax import Tanh, Dense, BatchNorm, Conv, ConvTranspose, Dense, Flatten, Relu, LogSoftmax, elementwise\n",
        "\n",
        "from jax.nn.initializers import glorot_normal, normal, zeros, glorot_uniform\n",
        "from jax.experimental import optimizers\n",
        "from tqdm.notebook import trange, tqdm\n",
        "from functools import partial\n",
        "from matplotlib import pyplot as plt\n",
        "\n",
        "from scipy.integrate import odeint\n",
        "import scipy.io\n",
        "\n",
        "from jax.nn import sigmoid"
      ],
      "execution_count": 1,
      "outputs": []
    },
    {
      "cell_type": "code",
      "metadata": {
        "id": "4YhwTlg1fzG2"
      },
      "source": [
        "from six.moves import urllib    \n",
        "opener = urllib.request.build_opener()\n",
        "opener.addheaders = [('User-agent', 'Mozilla/5.0')]\n",
        "urllib.request.install_opener(opener)\n",
        "import torchvision as thv"
      ],
      "execution_count": 2,
      "outputs": []
    },
    {
      "cell_type": "markdown",
      "metadata": {
        "id": "HFUGzrox6dm4"
      },
      "source": [
        "# Q1 CNN"
      ]
    },
    {
      "cell_type": "code",
      "metadata": {
        "id": "INyJ0-vagWyV"
      },
      "source": [
        "train = thv.datasets.MNIST('./', download=True, train=True)\n",
        "val = thv.datasets.MNIST('./', download=True, train=False)\n",
        "train_X_data = np.array(train.data.numpy())\n",
        "train_Y_data = np.array(train.targets.numpy())\n",
        "\n",
        "x_train = np.expand_dims(np.vstack((train_X_data[np.where(train_Y_data == i)][:750] for i in range(10))), 3) / 255.\n",
        "y_train = np.hstack((train_Y_data[np.where(train_Y_data == i)][:750] for i in range(10)))\n",
        "\n",
        "x_test = np.expand_dims(np.vstack((train_X_data[np.where(train_Y_data == i)][750:1000] for i in range(10))), 3) / 255.\n",
        "y_test = np.hstack((train_Y_data[np.where(train_Y_data == i)][750:1000] for i in range(10)))"
      ],
      "execution_count": 3,
      "outputs": []
    },
    {
      "cell_type": "code",
      "metadata": {
        "id": "To_qCWMYiCyi"
      },
      "source": [
        "# Architecture\n",
        "init_fun, conv_net = stax.serial(stax.Conv(6, (5, 5), (1, 1), padding=\"SAME\"),\n",
        "                                 stax.Relu, stax.MaxPool((2, 2), (2, 2)),\n",
        "                                 stax.Conv(12, (5, 5), (1, 1), padding=\"SAME\"),\n",
        "                                 stax.Relu, stax.MaxPool((2, 2), (2, 2)),\n",
        "                                 stax.Conv(24, (5, 5), (1, 1), padding=\"SAME\"),\n",
        "                                 stax.Relu, stax.Flatten,\n",
        "                                 stax.Dense(256), stax.Relu, stax.Dense(128), \n",
        "                                 stax.Relu, stax.Dense(64), stax.Relu, \n",
        "                                 stax.Dense(10), stax.Softmax)\n",
        "\n",
        "# Cross entropy, y is index of label NOT one hot.\n",
        "def loss(params, batch):\n",
        "    X, y = batch\n",
        "    return -np.log(conv_net(params, X)[np.arange(y.shape[0]), y]).mean()\n",
        "\n",
        "def accuracy(params, batch):\n",
        "    X, y = batch\n",
        "\n",
        "    y_pred = np.argmax(conv_net(params, X),1)\n",
        "\n",
        "    return (y_pred == y).sum() / X.shape[0]\n",
        "\n",
        "\n",
        "lr = optimizers.exponential_decay(1e-3, decay_rate = 0.99, decay_steps = 500)\n",
        "opt_init, opt_update, get_params = optimizers.adam(lr)\n",
        "\n",
        "@jit\n",
        "def step(i, opt_state, batch):\n",
        "    params = get_params(opt_state)\n",
        "    g = grad(loss)(params, batch)\n",
        "\n",
        "    return opt_update(i, g, opt_state)\n"
      ],
      "execution_count": 4,
      "outputs": []
    },
    {
      "cell_type": "code",
      "metadata": {
        "colab": {
          "base_uri": "https://localhost:8080/"
        },
        "id": "aLuvWNPulaou",
        "outputId": "a9cae968-6204-459b-ca7e-a1f71b06b4f0"
      },
      "source": [
        "key = random.PRNGKey(1)\n",
        "_, init_params = init_fun(key, (7500, 28, 28, 1))\n",
        "opt_state = opt_init(init_params)\n",
        "\n",
        "num_epoch = 5\n",
        "batch_size = 200\n",
        "\n",
        "epoch_key = random.split(key, num_epoch)\n",
        "\n",
        "nIter = x_train.shape[0] // batch_size\n",
        "\n",
        "for i in range(num_epoch):\n",
        "    perm_idx = random.permutation(epoch_key[i], np.arange(x_train.shape[0]))\n",
        "    epoch_x_data = x_train[perm_idx]\n",
        "    epoch_y_data = y_train[perm_idx]\n",
        "\n",
        "    for j in range(nIter):\n",
        "        batch_x_data = epoch_x_data[j * batch_size : (j + 1) * batch_size]\n",
        "        batch_y_data = epoch_y_data[j * batch_size : (j + 1) * batch_size]\n",
        "\n",
        "        opt_state = step(i * nIter + j + 1, opt_state, (batch_x_data, batch_y_data))\n",
        "\n",
        "    params = get_params(opt_state)\n",
        "    print('Epoch : ', i + 1, 'Training acc. : ', accuracy(params, (x_train, y_train)), 'Test acc. : ', accuracy(params, (x_test, y_test)))\n",
        "    \n",
        "    \n"
      ],
      "execution_count": 5,
      "outputs": [
        {
          "output_type": "stream",
          "text": [
            "Epoch :  1 Training acc. :  0.85186666 Test acc. :  0.8392\n",
            "Epoch :  2 Training acc. :  0.9152 Test acc. :  0.89800006\n",
            "Epoch :  3 Training acc. :  0.9432 Test acc. :  0.9268001\n",
            "Epoch :  4 Training acc. :  0.96173334 Test acc. :  0.94400007\n",
            "Epoch :  5 Training acc. :  0.9677333 Test acc. :  0.94760007\n"
          ],
          "name": "stdout"
        }
      ]
    },
    {
      "cell_type": "markdown",
      "metadata": {
        "id": "M8gRV2-0qjcO"
      },
      "source": [
        "# Q2 LSTM"
      ]
    },
    {
      "cell_type": "code",
      "metadata": {
        "id": "I3XM2JTctA8U"
      },
      "source": [
        "key = random.PRNGKey(0)\n",
        "def VDP(p, t):\n",
        "  x, y = p\n",
        "  dx = 5*(x-(x**3)/3-y)\n",
        "  dy = x/5\n",
        "  return (dx, dy)"
      ],
      "execution_count": 6,
      "outputs": []
    },
    {
      "cell_type": "code",
      "metadata": {
        "id": "CRXNQ_twtYnt"
      },
      "source": [
        "y0 = np.array((0.1, 0.5))\n",
        "t = np.linspace(0, 60, 2000)\n",
        "\n",
        "y = odeint(VDP, y0, t)"
      ],
      "execution_count": 7,
      "outputs": []
    },
    {
      "cell_type": "code",
      "metadata": {
        "colab": {
          "base_uri": "https://localhost:8080/",
          "height": 483
        },
        "id": "wlw85gaFt7dt",
        "outputId": "913c4ff4-bbeb-4044-996b-75881a0bdc79"
      },
      "source": [
        "plt.figure(figsize = (6, 8))\n",
        "plt.subplot(2,1,1)\n",
        "plt.plot(t, y[:, 0], label = 'x')\n",
        "plt.plot(t, y[:, 1], label = 'y')\n",
        "plt.legend()\n",
        "plt.subplot(2,1,2)\n",
        "plt.plot(y[:, 0], y[:, 1])\n",
        "plt.show()\n",
        "plt.close()"
      ],
      "execution_count": 8,
      "outputs": [
        {
          "output_type": "display_data",
          "data": {
            "image/png": "[encoded data removed]",
            "text/plain": [
              "<Figure size 432x576 with 2 Axes>"
            ]
          },
          "metadata": {
            "tags": [],
            "needs_background": "light"
          }
        }
      ]
    },
    {
      "cell_type": "code",
      "metadata": {
        "id": "Vx9YbXlrulWG"
      },
      "source": [
        "def LSTM(in_dim, out_dim, hidden_dim, num_lags):\n",
        "    '''\n",
        "        LSTM for time series\n",
        "    '''\n",
        "    # Define init function\n",
        "    def init(rng_key):\n",
        "        # Define methods for initializing the weights\n",
        "        def glorot_normal(rng_key, size):\n",
        "          in_dim = size[0]\n",
        "          out_dim = size[1]\n",
        "          glorot_stddev = 1. / np.sqrt((in_dim + out_dim) / 2.)\n",
        "          return glorot_stddev*random.normal(rng_key, (in_dim, out_dim))\n",
        "        # Inputs\n",
        "        Uo = glorot_normal(rng_key, (in_dim, hidden_dim))\n",
        "        Us = glorot_normal(rng_key, (in_dim, hidden_dim))\n",
        "        Ui = glorot_normal(rng_key, (in_dim, hidden_dim))\n",
        "        Uf = glorot_normal(rng_key, (in_dim, hidden_dim))\n",
        "        bo = np.zeros(hidden_dim)\n",
        "        bs = np.zeros(hidden_dim)\n",
        "        bi = np.zeros(hidden_dim)\n",
        "        bf = np.zeros(hidden_dim)\n",
        "        # Transition dynamics\n",
        "        Wo = np.eye(hidden_dim)\n",
        "        Ws = np.eye(hidden_dim)\n",
        "        Wi = np.eye(hidden_dim)\n",
        "        Wf = np.eye(hidden_dim)\n",
        "        # Outputs\n",
        "        V = glorot_normal(rng_key, (hidden_dim, out_dim))\n",
        "        c = np.zeros(out_dim)\n",
        "        return (Uo, bo, Wo, Us, bs, Ws, Ui, bi, Wi, Uf, bf, Wf, V, c)\n",
        "    # Define apply function\n",
        "    def apply(params, input):\n",
        "        Uo, bo, Wo, Us, bs, Ws, Ui, bi, Wi, Uf, bf, Wf, V, c = params\n",
        "        H = np.zeros((input.shape[1], hidden_dim))\n",
        "        S = np.zeros((input.shape[1], hidden_dim))\n",
        "        for i in range(num_lags):\n",
        "            O = sigmoid(H@Wo + input[i,:,:]@Uo + bo)\n",
        "            S_tilde = np.tanh(H@Ws + input[i,:,:]@Us + bs)\n",
        "            it = sigmoid(H @ Wi + input[i,:,:]@Ui + bi)\n",
        "            f = sigmoid(H@Wf + input[i,:,:]@Uf + bf)\n",
        "            S = f * S + it * S_tilde\n",
        "            H = O * np.tanh(S)      \n",
        "        H = H@V + c\n",
        "        return H\n",
        "    return init, apply"
      ],
      "execution_count": 9,
      "outputs": []
    },
    {
      "cell_type": "code",
      "metadata": {
        "id": "DTVk9M4_4HN-"
      },
      "source": [
        "def create_lags(data, L):\n",
        "    N = data.shape[0] - L\n",
        "    D = data.shape[1]\n",
        "    X = np.zeros((L, N, D))\n",
        "    Y = np.zeros((N, D))\n",
        "    for i in range(0,N):\n",
        "        X = index_update(X, index[:,i,:], data[i:(i+L), :])\n",
        "        Y = index_update(Y, index[i,:], data[i+L, :])\n",
        "    return X, Y\n",
        "\n"
      ],
      "execution_count": 10,
      "outputs": []
    },
    {
      "cell_type": "code",
      "metadata": {
        "id": "zEzWRnxZaXU5"
      },
      "source": [
        "data_X, data_Y = create_lags(y[:1333,:], 8)"
      ],
      "execution_count": 11,
      "outputs": []
    },
    {
      "cell_type": "code",
      "metadata": {
        "id": "omkIzs2obBNq"
      },
      "source": [
        "init_fn, apply_fn = LSTM(2, 2, 20, 8)\n",
        "apply_fn = jit(apply_fn)\n",
        "init_params = init_fn(key)\n",
        "opt_init, opt_update, get_params = optimizers.adam(1e-3)\n",
        "\n",
        "def loss(params, batch):\n",
        "    X, y = batch\n",
        "    y_pred = apply_fn(params, X)\n",
        "\n",
        "    return np.mean((y_pred - y)**2)\n",
        "\n",
        "@jit\n",
        "def step(i, opt_state, batch):\n",
        "    params = get_params(opt_state)\n",
        "    g = grad(loss)(params, batch)\n",
        "\n",
        "    return opt_update(i, g, opt_state)"
      ],
      "execution_count": 12,
      "outputs": []
    },
    {
      "cell_type": "code",
      "metadata": {
        "colab": {
          "base_uri": "https://localhost:8080/",
          "height": 66,
          "referenced_widgets": [
            "273a55ddf8c3405383f93487fd76c177",
            "f1117bc7c8574d9bbe80043bfbcd9080",
            "bcdfa486fe5c4c1eb5003eb63c5bfeed",
            "b4848ad53849456a8429ba8596fd0c85",
            "328e2556077c45539ecdaa7941d020c1",
            "1842523076fa4140aaca968ca89d6703",
            "9739a3f3e2554b59b4cd7c72b5cf0ac9",
            "1e9696444b1d44a49e67bf0f8de6fb92"
          ]
        },
        "id": "r16w2XszbgYB",
        "outputId": "72650084-ca46-4f48-fdc5-83a3a1b68bc2"
      },
      "source": [
        "opt_state = opt_init(init_fn(key))\n",
        "\n",
        "pbar = trange(20000)\n",
        "# Training\n",
        "for i in pbar:\n",
        "    key, _ = random.split(key)\n",
        "\n",
        "    batch_idx = random.choice(key, np.arange(data_X.shape[1]), (128,))\n",
        "\n",
        "    batch = (data_X[:, batch_idx], data_Y[batch_idx])\n",
        "\n",
        "    opt_state = step(i, opt_state, batch)\n",
        "\n",
        "    if i % 100 == 0:\n",
        "        pbar.set_postfix({'Loss' : loss(get_params(opt_state), batch)})"
      ],
      "execution_count": 13,
      "outputs": [
        {
          "output_type": "display_data",
          "data": {
            "application/vnd.jupyter.widget-view+json": {
              "model_id": "273a55ddf8c3405383f93487fd76c177",
              "version_minor": 0,
              "version_major": 2
            },
            "text/plain": [
              "HBox(children=(FloatProgress(value=0.0, max=20000.0), HTML(value='')))"
            ]
          },
          "metadata": {
            "tags": []
          }
        },
        {
          "output_type": "stream",
          "text": [
            "\n"
          ],
          "name": "stdout"
        }
      ]
    },
    {
      "cell_type": "code",
      "metadata": {
        "id": "0WCOse3Td8Wz"
      },
      "source": [
        "opt_params = get_params(opt_state)\n",
        "ys_pred = [*y[1333 - 8 : 1333]]"
      ],
      "execution_count": 14,
      "outputs": []
    },
    {
      "cell_type": "code",
      "metadata": {
        "colab": {
          "base_uri": "https://localhost:8080/",
          "height": 66,
          "referenced_widgets": [
            "ff21958e0e6e4e8db3ea8698cf020ccb",
            "f0d0fa2e97a14f6697cefcc6fab20932",
            "a2624f61a21d4198b17a8d17fcbe9222",
            "b271637636df4c2f96e9064bcee36a96",
            "a492b71c3ecb44ed89d13fab28cb14f0",
            "e32e7278d3a4439581848c9e6d12af77",
            "6d6cd240b9704e9d99b119813a9a09fe",
            "027f097d3b994424978a8293038a9fe0"
          ]
        },
        "id": "HoI535pTefiK",
        "outputId": "4c350e40-5472-4255-b1b7-1f6a468d2a6b"
      },
      "source": [
        "# Prediction\n",
        "for j in trange(666):\n",
        "    y_pred = apply_fn(opt_params, np.expand_dims(np.array(ys_pred[-8:]), 1))\n",
        "    ys_pred.append(y_pred[0])\n",
        "\n",
        "ys_pred = np.array(ys_pred)"
      ],
      "execution_count": 15,
      "outputs": [
        {
          "output_type": "display_data",
          "data": {
            "application/vnd.jupyter.widget-view+json": {
              "model_id": "ff21958e0e6e4e8db3ea8698cf020ccb",
              "version_minor": 0,
              "version_major": 2
            },
            "text/plain": [
              "HBox(children=(FloatProgress(value=0.0, max=666.0), HTML(value='')))"
            ]
          },
          "metadata": {
            "tags": []
          }
        },
        {
          "output_type": "stream",
          "text": [
            "\n"
          ],
          "name": "stdout"
        }
      ]
    },
    {
      "cell_type": "code",
      "metadata": {
        "colab": {
          "base_uri": "https://localhost:8080/",
          "height": 483
        },
        "id": "pBI026WYilAJ",
        "outputId": "ac090a5e-eedd-49a2-afac-1dc500aa9180"
      },
      "source": [
        "plt.figure(figsize = (6, 8))\n",
        "plt.subplot(2,1,1)\n",
        "plt.plot(y[1333:, 0], label = 'True x', linestyle = '--', linewidth = 3)\n",
        "plt.plot(y[1333:, 1], label = 'True y', linestyle = '--', linewidth = 3)\n",
        "\n",
        "plt.plot(ys_pred[-666:, 0], label = 'Predicted x')\n",
        "plt.plot(ys_pred[-666:, 1], label = 'Predicted y')\n",
        "plt.plot()\n",
        "plt.legend()\n",
        "plt.subplot(2,1,2)\n",
        "plt.plot(y[1333:, 0], y[1333:, 1], label = 'True', linewidth = 3)\n",
        "plt.plot(*ys_pred[-666:].T, linestyle = '--', label = 'Predicted', linewidth = 3)\n",
        "plt.show()\n",
        "plt.close()"
      ],
      "execution_count": 16,
      "outputs": [
        {
          "output_type": "display_data",
          "data": {
            "image/png": "[encoded data removed]",
            "text/plain": [
              "<Figure size 432x576 with 2 Axes>"
            ]
          },
          "metadata": {
            "tags": [],
            "needs_background": "light"
          }
        }
      ]
    },
    {
      "cell_type": "code",
      "metadata": {
        "colab": {
          "base_uri": "https://localhost:8080/"
        },
        "id": "R1k3vAXGkzOF",
        "outputId": "08f63fcb-67af-4bfc-ec3d-39329e7d609c"
      },
      "source": [
        "print('The relative L2 is ', np.linalg.norm(ys_pred[-666:] - y[1333:-1]) / np.linalg.norm(y[1333:-1]))"
      ],
      "execution_count": 17,
      "outputs": [
        {
          "output_type": "stream",
          "text": [
            "The relative L2 is  0.15562485\n"
          ],
          "name": "stdout"
        }
      ]
    },
    {
      "cell_type": "markdown",
      "metadata": {
        "id": "s1b-bNQz7yD6"
      },
      "source": [
        "# Q3 Burgers with PINNs"
      ]
    },
    {
      "cell_type": "code",
      "metadata": {
        "id": "dyNnVZb8dBdk"
      },
      "source": [
        "def MLP(layers):\n",
        "    def init(rng_key):\n",
        "        def init_layer(key, d_in, d_out):\n",
        "            k1, k2 = random.split(key)\n",
        "            glorot_stddev = 1. / np.sqrt((d_in + d_out) / 2.)\n",
        "            W = glorot_stddev*random.normal(k1, (d_in, d_out))\n",
        "            b = np.zeros(d_out)\n",
        "            return W, b\n",
        "        key, *keys = random.split(rng_key, len(layers))\n",
        "        params = list(map(init_layer, keys, layers[:-1], layers[1:]))\n",
        "        return params\n",
        "    def apply(params, inputs):\n",
        "        for W, b in params[:-1]:\n",
        "            outputs = np.dot(inputs, W) + b\n",
        "            inputs = np.tanh(outputs)\n",
        "        W, b = params[-1]\n",
        "        outputs = np.dot(inputs, W) + b\n",
        "        return outputs\n",
        "    return init, apply"
      ],
      "execution_count": 18,
      "outputs": []
    },
    {
      "cell_type": "code",
      "metadata": {
        "id": "OxEzdr-9U0wi"
      },
      "source": [
        "layers = [2, 20, 20, 20, 20, 20, 1]\n",
        "init_fn, apply_fn = MLP(layers)"
      ],
      "execution_count": 19,
      "outputs": []
    },
    {
      "cell_type": "code",
      "metadata": {
        "id": "UAvdSV6QDxHp"
      },
      "source": [
        "init_params = init_fn(key)"
      ],
      "execution_count": 20,
      "outputs": []
    },
    {
      "cell_type": "code",
      "metadata": {
        "id": "2uPz8w97D2Gw"
      },
      "source": [
        "# Scalar output\n",
        "def net_u(params, xt):\n",
        "    return apply_fn(params, xt)[0]\n",
        "# Scalar residual\n",
        "def net_r(params, xt):\n",
        "    ux, ut = grad(net_u, argnums=1)(params, xt)\n",
        "    # Auxillary function for fixed t\n",
        "    u_x = lambda x: net_u(params, np.array((x, xt[1])))\n",
        "\n",
        "    uxx = grad(grad(u_x))(xt[0])\n",
        "    return ut + net_u(params, xt) * ux - 0.01 / np.pi * uxx\n",
        "def loss(params, batch):\n",
        "    (xt_t, xt_0, xt_r), (u_t, u_0) = batch\n",
        "\n",
        "    u_t_pred = vmap(net_u, in_axes=[None, 0])(params, xt_t)\n",
        "    u_0_pred = vmap(net_u, in_axes=[None, 0])(params, xt_0)\n",
        "\n",
        "    u_r_pred = vmap(net_r, in_axes=[None, 0])(params, xt_r)\n",
        "\n",
        "    return np.mean((u_t_pred - u_t)**2) + np.mean((u_0_pred - u_0)**2) + np.mean(u_r_pred**2)\n",
        "\n",
        "# lr = optimizers.exponential_decay(1e-3, decay_rate = 0.99, decay_steps = 100)\n",
        "lr = 1e-3\n",
        "opt_init, opt_update, get_params = optimizers.adam(lr)\n",
        "\n",
        "@jit\n",
        "def step(i, opt_state, batch):\n",
        "    params = get_params(opt_state)\n",
        "    g = grad(loss)(params, batch)\n",
        "\n",
        "    return opt_update(i, g, opt_state)"
      ],
      "execution_count": 21,
      "outputs": []
    },
    {
      "cell_type": "code",
      "metadata": {
        "colab": {
          "base_uri": "https://localhost:8080/"
        },
        "id": "a6nCyaDfLuNp",
        "outputId": "3e39a9fe-259d-4b2e-da3e-e1b498ada20d"
      },
      "source": [
        "# Collocation points for residual loss.\n",
        "num_res = 10000\n",
        "_, key = random.split(key)\n",
        "x_r = random.uniform(key, (num_res, ), minval = -1, maxval = 1)\n",
        "\n",
        "_, key = random.split(key)\n",
        "t_r = random.uniform(key, (num_res, ), minval = 0, maxval = 1)\n",
        "\n",
        "xt_r = np.array((x_r, t_r)).T\n",
        "print(xt_r.shape)\n",
        "\n",
        "num_boundary = 100\n",
        "## Boundary points for initial condition loss.\n",
        "_, key = random.split(key)\n",
        "x_0 = random.uniform(key, (num_boundary, ), minval = -1, maxval = 1)\n",
        "\n",
        "xt_0 = np.array((x_0, np.zeros_like(x_0))).T\n",
        "print(xt_0.shape)\n",
        "u_0 = -np.sin(np.pi * xt_0[:, 0])\n",
        "\n",
        "# Boundary points for boundary condition loss.\n",
        "_, key = random.split(key)\n",
        "t_t = random.uniform(key, (num_boundary * 2, ), minval = 0, maxval = 1)\n",
        "\n",
        "x_t = np.concatenate((-1. * np.ones((num_boundary, )), 1. * np.ones((num_boundary, ))))\n",
        "\n",
        "xt_t = np.array((x_t, t_t)).T\n",
        "print(xt_t.shape)\n",
        "u_t = np.zeros((num_boundary * 2,))"
      ],
      "execution_count": 22,
      "outputs": [
        {
          "output_type": "stream",
          "text": [
            "(10000, 2)\n",
            "(100, 2)\n",
            "(200, 2)\n"
          ],
          "name": "stdout"
        }
      ]
    },
    {
      "cell_type": "code",
      "metadata": {
        "colab": {
          "base_uri": "https://localhost:8080/",
          "height": 66,
          "referenced_widgets": [
            "2eb5afeed9344cbeb34bafbf3ea70834",
            "9b12cdd7a1e94c03adf93381ace10b96",
            "cc5b2f0f8f784dcea7a814507b11eb4c",
            "131ee572bf4d4fdb9c39c65a26d6cda9",
            "e5158cd9b52f46f591c8c58b0d76e403",
            "8c38206f32884f2d97484564a0e3ecd9",
            "86abeaad3bba444899af24845fdae6ab",
            "e03c487f907e43b19ad1182d8a7f83a5"
          ]
        },
        "id": "P78mE-YcPECS",
        "outputId": "1a5ca705-7b60-4aea-c1a7-7f90c5fe3a93"
      },
      "source": [
        "nIter = 20000\n",
        "pbar = trange(nIter)\n",
        "res_batch_size = 10000\n",
        "train_key = random.split(key, nIter)\n",
        "\n",
        "opt_state = opt_init(init_params)\n",
        "batch = ((xt_t, xt_0, xt_r), (u_t, u_0))\n",
        "\n",
        "for i in pbar:\n",
        "    \n",
        "    opt_state = step(i, opt_state, batch)\n",
        "    if i % 50 == 0:\n",
        "        pbar.set_postfix({'Loss' : loss(get_params(opt_state), batch)})\n",
        "\n"
      ],
      "execution_count": 23,
      "outputs": [
        {
          "output_type": "display_data",
          "data": {
            "application/vnd.jupyter.widget-view+json": {
              "model_id": "2eb5afeed9344cbeb34bafbf3ea70834",
              "version_minor": 0,
              "version_major": 2
            },
            "text/plain": [
              "HBox(children=(FloatProgress(value=0.0, max=20000.0), HTML(value='')))"
            ]
          },
          "metadata": {
            "tags": []
          }
        },
        {
          "output_type": "stream",
          "text": [
            "\n"
          ],
          "name": "stdout"
        }
      ]
    },
    {
      "cell_type": "code",
      "metadata": {
        "id": "LyaTt6qqVaVK",
        "colab": {
          "base_uri": "https://localhost:8080/",
          "height": 295
        },
        "outputId": "a3a58dbf-595e-4a8c-8bb1-af569e95a04f"
      },
      "source": [
        "t_min, t_max  = 0, 1\n",
        "x_min, x_max  = -1, 1\n",
        "resolution = 500\n",
        "tt, xx = np.meshgrid(np.linspace(t_min, t_max, (t_max-t_min)*resolution),\n",
        "                      np.linspace(x_min, x_max, (x_max-x_min)*resolution))\n",
        "zz = vmap(net_u, in_axes=(None, 0))(get_params(opt_state), np.array((xx.ravel(), tt.ravel())).T)\n",
        "zz = zz.reshape(tt.shape)\n",
        "plt.pcolormesh(tt, xx, zz, cmap='seismic')\n",
        "plt.colorbar()\n",
        "plt.ylabel('x')\n",
        "plt.xlabel('t')\n",
        "plt.title('Estimation of solution u(x,t)')\n",
        "plt.show()"
      ],
      "execution_count": 24,
      "outputs": [
        {
          "output_type": "display_data",
          "data": {
            "image/png": "[encoded data removed]",
            "text/plain": [
              "<Figure size 432x288 with 2 Axes>"
            ]
          },
          "metadata": {
            "tags": [],
            "needs_background": "light"
          }
        }
      ]
    },
    {
      "cell_type": "code",
      "metadata": {
        "id": "MbqIM3zoV-jD",
        "colab": {
          "base_uri": "https://localhost:8080/"
        },
        "outputId": "8bab9e48-3d04-4b63-cfdc-87d207145f03"
      },
      "source": [
        "!wget https://github.com/PredictiveIntelligenceLab/PINNs/blob/master/appendix/Data/burgers_shock.mat?raw=true\n",
        "!mv burgers_shock.mat\\?raw\\=true burgers_shock.mat"
      ],
      "execution_count": 25,
      "outputs": [
        {
          "output_type": "stream",
          "text": [
            "--2021-05-01 02:03:21--  https://github.com/PredictiveIntelligenceLab/PINNs/blob/master/appendix/Data/burgers_shock.mat?raw=true\n",
            "Resolving github.com (github.com)... 192.30.255.113\n",
            "Connecting to github.com (github.com)|192.30.255.113|:443... connected.\n",
            "HTTP request sent, awaiting response... 302 Found\n",
            "Location: https://github.com/PredictiveIntelligenceLab/PINNs/raw/master/appendix/Data/burgers_shock.mat [following]\n",
            "--2021-05-01 02:03:21--  https://github.com/PredictiveIntelligenceLab/PINNs/raw/master/appendix/Data/burgers_shock.mat\n",
            "Reusing existing connection to github.com:443.\n",
            "HTTP request sent, awaiting response... 302 Found\n",
            "Location: https://raw.githubusercontent.com/PredictiveIntelligenceLab/PINNs/master/appendix/Data/burgers_shock.mat [following]\n",
            "--2021-05-01 02:03:21--  https://raw.githubusercontent.com/PredictiveIntelligenceLab/PINNs/master/appendix/Data/burgers_shock.mat\n",
            "Resolving raw.githubusercontent.com (raw.githubusercontent.com)... 185.199.108.133, 185.199.109.133, 185.199.110.133, ...\n",
            "Connecting to raw.githubusercontent.com (raw.githubusercontent.com)|185.199.108.133|:443... connected.\n",
            "HTTP request sent, awaiting response... 200 OK\n",
            "Length: 207944 (203K) [application/octet-stream]\n",
            "Saving to: ‘burgers_shock.mat?raw=true’\n",
            "\n",
            "burgers_shock.mat?r 100%[===================>] 203.07K  --.-KB/s    in 0.02s   \n",
            "\n",
            "2021-05-01 02:03:22 (12.0 MB/s) - ‘burgers_shock.mat?raw=true’ saved [207944/207944]\n",
            "\n"
          ],
          "name": "stdout"
        }
      ]
    },
    {
      "cell_type": "code",
      "metadata": {
        "id": "q6ILwplpWAv7",
        "colab": {
          "base_uri": "https://localhost:8080/"
        },
        "outputId": "e616f3e4-0570-4b66-c263-1ad7905f5849"
      },
      "source": [
        "from scipy import io\n",
        "data = io.loadmat('burgers_shock.mat')\n",
        "\n",
        "exact = np.real(data['usol']).T\n",
        "\n",
        "xs = np.linspace(-1., 1., 256)\n",
        "ts = np.linspace(0., 1., 100)\n",
        "\n",
        "\n",
        "tt, xx = np.meshgrid(ts, xs)\n",
        "zz = vmap(net_u, in_axes=(None, 0))(get_params(opt_state), np.array((xx.ravel(), tt.ravel())).T)\n",
        "predictions = zz.reshape(tt.shape).T\n",
        "\n",
        "error = np.linalg.norm(exact - predictions, 2)/np.linalg.norm(exact, 2)\n",
        "print('Relative L2 prediction error: %e' % (error))"
      ],
      "execution_count": 26,
      "outputs": [
        {
          "output_type": "stream",
          "text": [
            "Relative L2 prediction error: 3.007837e-02\n"
          ],
          "name": "stdout"
        }
      ]
    }
  ]
}