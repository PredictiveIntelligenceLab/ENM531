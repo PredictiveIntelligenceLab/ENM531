{
  "nbformat": 4,
  "nbformat_minor": 0,
  "metadata": {
    "colab": {
      "name": "hw5_solution.ipynb",
      "provenance": [],
      "collapsed_sections": []
    },
    "kernelspec": {
      "name": "python3",
      "display_name": "Python 3"
    },
    "language_info": {
      "name": "python"
    },
    "accelerator": "GPU"
  },
  "cells": [
    {
      "cell_type": "code",
      "metadata": {
        "colab": {
          "base_uri": "https://localhost:8080/"
        },
        "id": "5cy91SMSJadh",
        "outputId": "f467ecfd-e873-438c-cb69-3ac9698a45e5"
      },
      "source": [
        "!pip install --upgrade PyDOE"
      ],
      "execution_count": 1,
      "outputs": [
        {
          "output_type": "stream",
          "text": [
            "Requirement already up-to-date: PyDOE in /usr/local/lib/python3.7/dist-packages (0.3.8)\n",
            "Requirement already satisfied, skipping upgrade: scipy in /usr/local/lib/python3.7/dist-packages (from PyDOE) (1.4.1)\n",
            "Requirement already satisfied, skipping upgrade: numpy in /usr/local/lib/python3.7/dist-packages (from PyDOE) (1.19.5)\n"
          ],
          "name": "stdout"
        }
      ]
    },
    {
      "cell_type": "code",
      "metadata": {
        "id": "tbb_kUWZIWLJ"
      },
      "source": [
        "import jax.numpy as np\n",
        "import numpy as onp\n",
        "from jax import vmap, jit, vjp, random\n",
        "from jax.scipy.linalg import cholesky, solve_triangular\n",
        "from jax.flatten_util import ravel_pytree\n",
        "from jax.scipy.stats import norm\n",
        "\n",
        "\n",
        "from jax.config import config\n",
        "config.update(\"jax_enable_x64\", True)\n",
        "\n",
        "from pyDOE import lhs\n",
        "from functools import partial\n",
        "from tqdm import trange\n",
        "from scipy.optimize import minimize\n",
        "import matplotlib.pyplot as plt\n",
        "from matplotlib import rc"
      ],
      "execution_count": 2,
      "outputs": []
    },
    {
      "cell_type": "markdown",
      "metadata": {
        "id": "m2Jo8YSQJwu6"
      },
      "source": [
        "# Q1 GP with MLP mean"
      ]
    },
    {
      "cell_type": "code",
      "metadata": {
        "id": "3THEfpwrImcY"
      },
      "source": [
        "# A vectorized RBF kernel function - Computes covariance matrix \n",
        "def RBF(x1, x2, params):\n",
        "    output_scale = params[0]\n",
        "    lengthscales = params[1:]\n",
        "    diffs = np.expand_dims(x1 / lengthscales, 1) - \\\n",
        "            np.expand_dims(x2 / lengthscales, 0)\n",
        "    r2 = np.sum(diffs**2, axis=2)\n",
        "    return output_scale * np.exp(-0.5 * r2)"
      ],
      "execution_count": 3,
      "outputs": []
    },
    {
      "cell_type": "code",
      "metadata": {
        "id": "Dvn0qYa8In9A"
      },
      "source": [
        "# A wrapper to call SciPy's L-BFGS-B optimizer - Loss does NOT decompose over datapoints so can't use batches (SGD), instead use quasi Newton method\n",
        "def minimize_lbfgs(objective, x0, bnds = None):\n",
        "    result = minimize(objective, x0, jac=True,\n",
        "                      method='L-BFGS-B', bounds = bnds,\n",
        "                      callback=None)\n",
        "    return result.x, result.fun"
      ],
      "execution_count": 4,
      "outputs": []
    },
    {
      "cell_type": "code",
      "metadata": {
        "id": "P0cDZt08IphI"
      },
      "source": [
        "def MLP(layers):\n",
        "    def init(rng_key):\n",
        "        def init_layer(key, d_in, d_out):\n",
        "            k1, k2 = random.split(key)\n",
        "            glorot_stddev = 1. / np.sqrt((d_in + d_out) / 2.)\n",
        "            W = glorot_stddev*random.normal(k1, (d_in, d_out))\n",
        "            b = np.zeros(d_out)\n",
        "            return W, b\n",
        "        key, *keys = random.split(rng_key, len(layers))\n",
        "        params = list(map(init_layer, keys, layers[:-1], layers[1:]))       #list of tuples containing weights and biases in each layer\n",
        "        return params\n",
        "        \n",
        "    def apply(params, inputs):               #Implements forward pass\n",
        "        for W, b in params[:-1]:\n",
        "            outputs = np.dot(inputs, W) + b\n",
        "            inputs = np.tanh(outputs)\n",
        "            # Batch normalization here\n",
        "            # Dropout here\n",
        "        W, b = params[-1]\n",
        "        outputs = np.dot(inputs, W) + b      # Last layer is linear transformation for regression (for logistic replace with activation.)\n",
        "        return outputs\n",
        "    return init, apply"
      ],
      "execution_count": 5,
      "outputs": []
    },
    {
      "cell_type": "code",
      "metadata": {
        "id": "Vkp58djXIq_R"
      },
      "source": [
        "# A minimal Gaussian process class\n",
        "class GPRegression:\n",
        "    # Initialize the class\n",
        "    def __init__(self, layers, X, kernel_fn = RBF, rng_key = random.PRNGKey(0)): \n",
        "        self.kernel = kernel_fn\n",
        "        self.layers = layers\n",
        "        dim = X.shape[1]\n",
        "\n",
        "        # Set up NN initialization and evaluation functions\n",
        "        self.net_init, self.net_apply = MLP(self.layers)\n",
        "\n",
        "        rng_key = random.split(rng_key, 2)\n",
        "\n",
        "        # Initialize the GP and NN parameters\n",
        "        gp_params = self.random_init_GP(rng_key[0], dim)\n",
        "        # nn_params = self.net_init(rng_key[1], (-1, self.layers[0]))[1]\n",
        "        nn_params = self.net_init(rng_key[1])\n",
        "\n",
        "\n",
        "        # Create indices for retrieving the GP and NN params from the global parameter vector\n",
        "        nn_params_flat, self.unravel = ravel_pytree(nn_params)\n",
        "        num_nn_params = len(nn_params_flat)\n",
        "        num_gp_params = self.random_init_GP(random.PRNGKey(0), self.layers[-1]).shape[0]\n",
        "        self.gp_params_ids = np.arange(num_gp_params)\n",
        "        self.nn_params_ids = np.arange(num_nn_params) + num_gp_params\n",
        "\n",
        "\n",
        "    def random_init_GP(self, rng_key, dim):       #Log ensures positivity\n",
        "        logsigma_f = np.log(50.0*random.uniform(rng_key, (1,)))\n",
        "        loglength  = np.log(random.uniform(rng_key, (dim,)) + 1e-8)\n",
        "        logsigma_n = np.array([-4.0]) + random.normal(rng_key, (1,))\n",
        "        hyp = np.concatenate([logsigma_f, loglength, logsigma_n])\n",
        "        return hyp\n",
        "\n",
        "    def random_init_GP_plus_NN(self, rng_key, dim):       #Log ensures positivity\n",
        "        logsigma_f = np.log(50.0*random.uniform(rng_key, (1,)))\n",
        "        loglength  = np.log(random.uniform(rng_key, (dim,)) + 1e-8)\n",
        "        logsigma_n = np.array([-4.0]) + random.normal(rng_key, (1,))\n",
        "        hyp = np.concatenate([logsigma_f, loglength, logsigma_n])\n",
        "\n",
        "        # Initialize NN parameters \n",
        "        nn_params = self.net_init(rng_key)\n",
        "        # nn_params = self.net_init(rng_key, (-1, self.layers[0]))[1]\n",
        "        hyp = np.concatenate([hyp, ravel_pytree(nn_params)[0]])\n",
        "\n",
        "        return hyp\n",
        "\n",
        "\n",
        "    def compute_cholesky(self, params, batch):\n",
        "        X, _ = batch\n",
        "\n",
        "        nn_params = self.unravel(params[self.nn_params_ids])\n",
        "        X = self.net_apply(nn_params, X)\n",
        "\n",
        "        N, D = X.shape\n",
        "        # Fetch params\n",
        "        sigma_n = np.exp(params[-1])\n",
        "        theta = np.exp(params[:-1])\n",
        "        # Compute kernel\n",
        "        K = self.kernel(X, X, theta) + np.eye(N)*(sigma_n + 1e-8)\n",
        "        L = cholesky(K, lower=True)\n",
        "        return L\n",
        "\n",
        "    def likelihood(self, params, batch):\n",
        "        _, y = batch\n",
        "        N = y.shape[0]\n",
        "        # Compute Cholesky\n",
        "        L = self.compute_cholesky(params, batch)\n",
        "        # Compute negative log-marginal likelihood\n",
        "        alpha = solve_triangular(L.T,solve_triangular(L, y, lower=True))\n",
        "        NLML = 0.5*np.matmul(np.transpose(y),alpha) + \\\n",
        "               np.sum(np.log(np.diag(L))) + 0.5*N*np.log(2.0*np.pi)\n",
        "        return NLML\n",
        "\n",
        "    @partial(jit, static_argnums=(0,))\n",
        "    def likelihood_value_and_grad(self, params, batch):\n",
        "        fun = lambda params: self.likelihood(params, batch)\n",
        "        primals, f_vjp = vjp(fun, params)\n",
        "        grads = f_vjp(np.ones_like(primals))[0]\n",
        "        return primals, grads\n",
        "\n",
        "    def train(self, batch, rng_key, num_restarts = 10):\n",
        "        # Define objective that returns NumPy arrays (to be minimized with SciPy)\n",
        "        def objective(params):\n",
        "            value, grads = self.likelihood_value_and_grad(params, batch)\n",
        "            out = (onp.array(value), onp.array(grads))\n",
        "            return out\n",
        "        # Optimize with random restarts\n",
        "        params = []\n",
        "        likelihood = []\n",
        "        X, _ = batch\n",
        "        dim = X.shape[1]\n",
        "        rng_key = random.split(rng_key, num_restarts)\n",
        "        for i in trange(num_restarts):\n",
        "            init = self.random_init_GP_plus_NN(rng_key[i], dim)\n",
        "            p, val = minimize_lbfgs(objective, init)\n",
        "            params.append(p)\n",
        "            likelihood.append(val)\n",
        "        params = np.vstack(params)\n",
        "        likelihood = np.vstack(likelihood)\n",
        "        #### find the best likelihood (excluding any NaNs) ####\n",
        "        bestlikelihood = np.nanmin(likelihood)\n",
        "        idx_best = np.where(likelihood == bestlikelihood)\n",
        "        idx_best = idx_best[0][0]\n",
        "        best_params = params[idx_best,:]\n",
        "        return best_params\n",
        "\n",
        "    @partial(jit, static_argnums=(0,))\n",
        "    def predict(self, params, batch, X_star):\n",
        "        X, y = batch\n",
        "        # Fetch params\n",
        "        sigma_n = np.exp(params[-1])\n",
        "        theta = np.exp(params[:-1])\n",
        "\n",
        "        nn_params = self.unravel(params[self.nn_params_ids])\n",
        "        X      = self.net_apply(nn_params, X)\n",
        "        X_star = self.net_apply(nn_params, X_star)\n",
        "\n",
        "        # Compute kernels\n",
        "        k_pp = self.kernel(X_star, X_star, theta) + np.eye(X_star.shape[0])*(sigma_n + 1e-8)\n",
        "        k_pX = self.kernel(X_star, X, theta)\n",
        "        L = self.compute_cholesky(params, batch)\n",
        "        alpha = solve_triangular(L.T,solve_triangular(L, y, lower=True))\n",
        "        beta  = solve_triangular(L.T,solve_triangular(L, k_pX.T, lower=True))\n",
        "        # Compute predictive mean, std\n",
        "        mu = np.matmul(k_pX, alpha)\n",
        "        cov = k_pp - np.matmul(k_pX, beta)\n",
        "        std = np.sqrt(np.clip(np.diag(cov), a_min=0.))\n",
        "        return mu, std\n",
        "\n",
        "    @partial(jit, static_argnums=(0,))\n",
        "    def draw_posterior_sample(self, rng_key, params, batch, X_star):\n",
        "        X, y = batch\n",
        "\n",
        "        nn_params = self.unravel(params[self.nn_params_ids])\n",
        "        X      = self.net_apply(nn_params, X)\n",
        "        X_star = self.net_apply(nn_params, X_star)\n",
        "\n",
        "        N, D = X.shape\n",
        "        # Fetch params\n",
        "        sigma_n = np.exp(params[-1])\n",
        "        theta = np.exp(params[:-1])\n",
        "\n",
        "        # Compute kernels\n",
        "        k_pp = self.kernel(X_star, X_star, theta) + np.eye(X_star.shape[0])*(sigma_n + 1e-8)\n",
        "        k_pX = self.kernel(X_star, X, theta)\n",
        "        L = self.compute_cholesky(params, batch)\n",
        "        alpha = solve_triangular(L.T,solve_triangular(L, y, lower=True))\n",
        "        beta  = solve_triangular(L.T,solve_triangular(L, k_pX.T, lower=True))\n",
        "        # Compute predictive mean\n",
        "        mu = np.matmul(k_pX, alpha)\n",
        "        cov = k_pp - np.matmul(k_pX, beta)\n",
        "        sample = random.multivariate_normal(rng_key, mu, cov)\n",
        "        return sample    "
      ],
      "execution_count": 6,
      "outputs": []
    },
    {
      "cell_type": "code",
      "metadata": {
        "id": "CP6AQcLIIv1i"
      },
      "source": [
        "def f_step(x):\n",
        "  y = np.heaviside(x, 1)\n",
        "  return y[0]  "
      ],
      "execution_count": 7,
      "outputs": []
    },
    {
      "cell_type": "markdown",
      "metadata": {
        "id": "oNe8WjjUJ8-Z"
      },
      "source": [
        "## Noise free data"
      ]
    },
    {
      "cell_type": "code",
      "metadata": {
        "id": "QP-UBU6OIxjB"
      },
      "source": [
        "N = 50\n",
        "dim = 1\n",
        "noise = 0.0\n",
        "lb = np.array([-1.0])\n",
        "ub = np.array([1.0])\n",
        "\n",
        "# Training data\n",
        "X = lb + (ub-lb)*lhs(dim, N)\n",
        "\n",
        "y = vmap(f_step)(X)\n",
        "y = y + noise*y.std(0)*onp.random.randn(N,)\n",
        "\n",
        "# Test data\n",
        "n_star = 1000\n",
        "X_star = np.linspace(lb[0], ub[0], n_star)[:,None]\n",
        "y_star = vmap(f_step)(X_star)"
      ],
      "execution_count": 8,
      "outputs": []
    },
    {
      "cell_type": "code",
      "metadata": {
        "id": "SHrDqzVeI1bK"
      },
      "source": [
        "layers = [dim, 2, 1]\n",
        "model = GPRegression(layers, X, kernel_fn = RBF)"
      ],
      "execution_count": 9,
      "outputs": []
    },
    {
      "cell_type": "code",
      "metadata": {
        "colab": {
          "base_uri": "https://localhost:8080/"
        },
        "id": "cdeQ_xzvI5Kx",
        "outputId": "e036ec1d-c23e-458f-ed23-0b12e688d046"
      },
      "source": [
        "# Normalize training data\n",
        "mu_y, sigma_y = y.mean(0), y.std(0)\n",
        "X_train = (X - lb)/(ub-lb)\n",
        "y_train = (y - mu_y)/sigma_y\n",
        "\n",
        "# Train model\n",
        "train_key = random.PRNGKey(0)\n",
        "opt_params = model.train((X_train, y_train), train_key, num_restarts = 10)"
      ],
      "execution_count": 10,
      "outputs": [
        {
          "output_type": "stream",
          "text": [
            "100%|██████████| 10/10 [00:05<00:00,  1.87it/s]\n"
          ],
          "name": "stderr"
        }
      ]
    },
    {
      "cell_type": "code",
      "metadata": {
        "colab": {
          "base_uri": "https://localhost:8080/"
        },
        "id": "J9oZGewkI8FR",
        "outputId": "4424a095-f679-492c-8104-3059ae7c3abf"
      },
      "source": [
        "# Normalize test inputs\n",
        "X_test = (X_star - lb)/(ub-lb)\n",
        "\n",
        "# Make predictions\n",
        "mean, std = model.predict(opt_params, (X_train, y_train), X_test)\n",
        "\n",
        "# De-normalize predictions\n",
        "mean, std = mean*sigma_y + mu_y, std*sigma_y\n",
        "\n",
        "# Uncertainty bands\n",
        "lower = mean - 2.0*std\n",
        "upper = mean + 2.0*std\n",
        "\n",
        "# Draw posterior samples\n",
        "num_draws = 10\n",
        "test_keys = random.split(random.PRNGKey(0), num_draws)\n",
        "sample_fn = lambda key: model.draw_posterior_sample(key, opt_params, (X_train, y_train), X_test)\n",
        "f_samples = vmap(sample_fn)(test_keys)\n",
        "f_samples = f_samples*sigma_y + mu_y\n",
        "\n",
        "# Check accuracy\n",
        "error = np.linalg.norm(mean-y_star,2)/np.linalg.norm(y_star,2)\n",
        "print(\"Relative L2 error u: %e\" % (error))"
      ],
      "execution_count": 11,
      "outputs": [
        {
          "output_type": "stream",
          "text": [
            "Relative L2 error u: 1.015797e-01\n"
          ],
          "name": "stdout"
        }
      ]
    },
    {
      "cell_type": "code",
      "metadata": {
        "colab": {
          "base_uri": "https://localhost:8080/",
          "height": 469
        },
        "id": "EofEl5wNJTvB",
        "outputId": "831db6e3-2440-41fd-8233-8161dfea034f"
      },
      "source": [
        "# Plot\n",
        "plt.rcParams.update({'font.size': 16})\n",
        "plt.rcParams['axes.linewidth']=3\n",
        "\n",
        "plt.figure(figsize = (12,7))\n",
        "plt.plot(X_star, y_star, lw = 3)\n",
        "plt.plot(X_star, mean, 'r--', lw = 3)\n",
        "plt.plot(X, y, 'kx', ms = 12)\n",
        "plt.fill_between(X_star.flatten(), lower.flatten(), upper.flatten(), \n",
        "                  facecolor='orange', alpha=0.5, label=\"Two std band\")\n",
        "for i in range(num_draws):\n",
        "    plt.plot(X_star, f_samples[i,:], '-', color='gray', lw = 0.5)\n",
        "plt.xlabel(r'$x$')\n",
        "plt.ylabel(r'$f(x)$')"
      ],
      "execution_count": 12,
      "outputs": [
        {
          "output_type": "execute_result",
          "data": {
            "text/plain": [
              "Text(0, 0.5, '$f(x)$')"
            ]
          },
          "metadata": {
            "tags": []
          },
          "execution_count": 12
        },
        {
          "output_type": "display_data",
          "data": {
            "image/png": "[encoded data removed]",
            "text/plain": [
              "<Figure size 864x504 with 1 Axes>"
            ]
          },
          "metadata": {
            "tags": [],
            "needs_background": "light"
          }
        }
      ]
    },
    {
      "cell_type": "markdown",
      "metadata": {
        "id": "a5AK2al4KAe0"
      },
      "source": [
        "## Noisy data"
      ]
    },
    {
      "cell_type": "code",
      "metadata": {
        "id": "P93QsjxgJ5z1"
      },
      "source": [
        "\n",
        "# Training data\n",
        "noise = 0.01\n",
        "X = lb + (ub-lb)*lhs(dim, N)\n",
        "\n",
        "y = vmap(f_step)(X)\n",
        "y = y + noise*y.std(0)*onp.random.normal(size = (N,))\n",
        "\n",
        "# Test data\n",
        "n_star = 1000\n",
        "X_star = np.linspace(lb[0], ub[0], n_star)[:,None]\n",
        "y_star = vmap(f_step)(X_star)"
      ],
      "execution_count": 13,
      "outputs": []
    },
    {
      "cell_type": "code",
      "metadata": {
        "id": "FUPBSmMHKFGj"
      },
      "source": [
        "layers = [dim, 2, 1]\n",
        "model = GPRegression(layers, X, kernel_fn = RBF)"
      ],
      "execution_count": 14,
      "outputs": []
    },
    {
      "cell_type": "code",
      "metadata": {
        "colab": {
          "base_uri": "https://localhost:8080/"
        },
        "id": "GsT-Oi1oKOHK",
        "outputId": "c166f111-d375-45fc-f729-94b2fa3b6b1c"
      },
      "source": [
        "# Normalize training data\n",
        "mu_y, sigma_y = y.mean(0), y.std(0)\n",
        "X_train = (X - lb)/(ub-lb)\n",
        "y_train = (y - mu_y)/sigma_y\n",
        "\n",
        "# Train model\n",
        "train_key = random.PRNGKey(0)\n",
        "opt_params = model.train((X_train, y_train), train_key, num_restarts = 10)"
      ],
      "execution_count": 15,
      "outputs": [
        {
          "output_type": "stream",
          "text": [
            "100%|██████████| 10/10 [00:04<00:00,  2.02it/s]\n"
          ],
          "name": "stderr"
        }
      ]
    },
    {
      "cell_type": "code",
      "metadata": {
        "colab": {
          "base_uri": "https://localhost:8080/"
        },
        "id": "q-L2ingQKQXK",
        "outputId": "9f204367-7f79-4f5a-ea44-18e016f2434f"
      },
      "source": [
        "# Normalize test inputs\n",
        "X_test = (X_star - lb)/(ub-lb)\n",
        "\n",
        "# Make predictions\n",
        "mean, std = model.predict(opt_params, (X_train, y_train), X_test)\n",
        "\n",
        "# De-normalize predictions\n",
        "mean, std = mean*sigma_y + mu_y, std*sigma_y\n",
        "\n",
        "# Uncertainty bands\n",
        "lower = mean - 2.0*std\n",
        "upper = mean + 2.0*std\n",
        "\n",
        "# Draw posterior samples\n",
        "num_draws = 10\n",
        "test_keys = random.split(random.PRNGKey(0), num_draws)\n",
        "sample_fn = lambda key: model.draw_posterior_sample(key, opt_params, (X_train, y_train), X_test)\n",
        "f_samples = vmap(sample_fn)(test_keys)\n",
        "f_samples = f_samples*sigma_y + mu_y\n",
        "\n",
        "# Check accuracy\n",
        "error = np.linalg.norm(mean-y_star,2)/np.linalg.norm(y_star,2)\n",
        "print(\"Relative L2 error u: %e\" % (error))"
      ],
      "execution_count": 16,
      "outputs": [
        {
          "output_type": "stream",
          "text": [
            "Relative L2 error u: 6.323899e-02\n"
          ],
          "name": "stdout"
        }
      ]
    },
    {
      "cell_type": "code",
      "metadata": {
        "colab": {
          "base_uri": "https://localhost:8080/",
          "height": 469
        },
        "id": "a8BO49zIKSGx",
        "outputId": "7ee9f66f-309e-468a-df1a-df6a55b59528"
      },
      "source": [
        "# Plot\n",
        "plt.rcParams.update({'font.size': 16})\n",
        "plt.rcParams['axes.linewidth']=3\n",
        "\n",
        "plt.figure(figsize = (12,7))\n",
        "plt.plot(X_star, y_star, lw = 3)\n",
        "plt.plot(X_star, mean, 'r--', lw = 3)\n",
        "plt.plot(X, y, 'kx', ms = 12)\n",
        "plt.fill_between(X_star.flatten(), lower.flatten(), upper.flatten(), \n",
        "                  facecolor='orange', alpha=0.5, label=\"Two std band\")\n",
        "# for i in range(num_draws):\n",
        "#     plt.plot(X_star, f_samples[i,:], '-', color='gray', lw = 0.5)\n",
        "plt.xlabel(r'$x$')\n",
        "plt.ylabel(r'$f(x)$')"
      ],
      "execution_count": 17,
      "outputs": [
        {
          "output_type": "execute_result",
          "data": {
            "text/plain": [
              "Text(0, 0.5, '$f(x)$')"
            ]
          },
          "metadata": {
            "tags": []
          },
          "execution_count": 17
        },
        {
          "output_type": "display_data",
          "data": {
            "image/png": "[encoded data removed]",
            "text/plain": [
              "<Figure size 864x504 with 1 Axes>"
            ]
          },
          "metadata": {
            "tags": [],
            "needs_background": "light"
          }
        }
      ]
    },
    {
      "cell_type": "markdown",
      "metadata": {
        "id": "dDNFjhvnKZlc"
      },
      "source": [
        "# Q2 Multi-Fidelity"
      ]
    },
    {
      "cell_type": "code",
      "metadata": {
        "id": "eMvVi8VOKi3Z"
      },
      "source": [
        "# A minimal Gaussian process class\n",
        "class GPRegression:\n",
        "    # Initialize the class\n",
        "    def __init__(self, kernel_fn = RBF): \n",
        "        self.kernel = kernel_fn\n",
        "                              \n",
        "    def random_init_GP(self, rng_key, dimL, dimH):       #Log ensures positivity\n",
        "        logsigma_f_L = np.log(50.0*random.uniform(rng_key, (1,)))\n",
        "        loglength_L  = np.log(random.uniform(rng_key, (dimL,)) + 1e-8)\n",
        "        logsigma_n_L = np.array([-4.0]) + random.normal(rng_key, (1,))\n",
        "\n",
        "        logsigma_f_H = np.log(50.0*random.uniform(rng_key, (1,)))\n",
        "        loglength_H  = np.log(random.uniform(rng_key, (dimH,)) + 1e-8)\n",
        "        logsigma_n_H = np.array([-4.0]) + random.normal(rng_key, (1,))\n",
        "\n",
        "        logrho = random.normal(rng_key, (1,))\n",
        "\n",
        "        hyp = np.concatenate([logsigma_f_L, loglength_L, logsigma_n_L, logsigma_f_H, loglength_H, logsigma_n_H, logrho])\n",
        "        return hyp\n",
        "\n",
        "    def compute_cholesky(self, params, batch):\n",
        "        XL, _, XH, _ = batch\n",
        "        NL, DL = XL.shape\n",
        "        NH, DH = XH.shape\n",
        "\n",
        "        # Fetch params\n",
        "        sigma_n_L = np.exp(params[DL+1])\n",
        "        theta_L = np.exp(params[:DL+1]) \n",
        "        sigma_n_H = np.exp(params[DL+DH+3])\n",
        "        theta_H = np.exp(params[DL+2:DL+DH+3])\n",
        "        rho = params[-1]\n",
        "\n",
        "        # Compute kernels\n",
        "\n",
        "        kLL = self.kernel(XL, XL, theta_L) + np.eye(NL)*(sigma_n_L + 1e-8)\n",
        "        kLH = rho * self.kernel(XL, XH, theta_L)\n",
        "        kHH = (rho**2.0) * self.kernel(XH, XH, theta_L) + self.kernel(XH, XH, theta_H) + np.eye(NH)*(sigma_n_H + 1e-8)        \n",
        "\n",
        "        K1 = np.hstack([kLL  , kLH])\n",
        "        K2 = np.hstack([kLH.T, kHH])\n",
        "\n",
        "        # Construct final kernel        \n",
        "        K = np.vstack([K1, K2])\n",
        "        L = cholesky(K, lower=True)\n",
        "        return L\n",
        "\n",
        "    def likelihood(self, params, batch):\n",
        "        _, yL, _, yH = batch\n",
        "        NL = yL.shape[0]\n",
        "        NH = yH.shape[0]\n",
        "        y  = np.concatenate([yL, yH])\n",
        "\n",
        "        # Compute Cholesky\n",
        "        L = self.compute_cholesky(params, batch)\n",
        "        alpha = solve_triangular(L.T,solve_triangular(L, y, lower=True))\n",
        "\n",
        "        # Compute negative log-marginal likelihood\n",
        "        NLML = 0.5*np.matmul(np.transpose(y),alpha) + 0.5*np.sum(np.log(np.diag(L))) + 0.5*(NL+NH)*np.log(2.0*np.pi)\n",
        "\n",
        "        return NLML\n",
        "\n",
        "    @partial(jit, static_argnums=(0,))\n",
        "    def likelihood_value_and_grad(self, params, batch):\n",
        "        fun = lambda params: self.likelihood(params, batch)\n",
        "        primals, f_vjp = vjp(fun, params)\n",
        "        grads = f_vjp(np.ones_like(primals))[0]\n",
        "        return primals, grads\n",
        "\n",
        "    def train(self, batch, rng_key, num_restarts = 10):\n",
        "        # Define objective that returns NumPy arrays (to be minimized with SciPy)\n",
        "        def objective(params):\n",
        "            value, grads = self.likelihood_value_and_grad(params, batch)\n",
        "            out = (onp.array(value), onp.array(grads))\n",
        "            return out\n",
        "        # Optimize with random restarts\n",
        "        params = []\n",
        "        likelihood = []\n",
        "        XL, _, XH, _ = batch\n",
        "        dimL = XL.shape[1]\n",
        "        dimH = XH.shape[1]        \n",
        "        rng_key = random.split(rng_key, num_restarts)\n",
        "        for i in trange(num_restarts):\n",
        "            init = self.random_init_GP(rng_key[i], dimL, dimH)\n",
        "            p, val = minimize_lbfgs(objective, init)\n",
        "            params.append(p)\n",
        "            likelihood.append(val)\n",
        "        params = np.vstack(params)\n",
        "        likelihood = np.vstack(likelihood)\n",
        "        #### find the best likelihood (excluding any NaNs) ####\n",
        "        bestlikelihood = np.nanmin(likelihood)\n",
        "        idx_best = np.where(likelihood == bestlikelihood)\n",
        "        idx_best = idx_best[0][0]\n",
        "        best_params = params[idx_best,:]\n",
        "        return best_params\n",
        "\n",
        "    @partial(jit, static_argnums=(0,))\n",
        "    def predict(self, params, batch, X_star):\n",
        "        XL, yL, XH, yH,  = batch\n",
        "        NL, DL = XL.shape\n",
        "        NH, DH = XH.shape\n",
        "        Nstar = X_star.shape[0]\n",
        "\n",
        "        # Fetch params\n",
        "        sigma_n_L = np.exp(params[DL+1])\n",
        "        theta_L = np.exp(params[:DL+1])\n",
        "        sigma_n_H = np.exp(params[DL+DH+3])\n",
        "        theta_H = np.exp(params[DL+2:DL+DH+3])\n",
        "        rho = params[-1]\n",
        "\n",
        "        # Compute kernels\n",
        "        kLL = self.kernel(XL, XL, theta_L) + np.eye(NL)*(sigma_n_L + 1e-8)\n",
        "        kLH = rho * self.kernel(XL, XH, theta_L)\n",
        "        kHH = (rho**2.0) * self.kernel(XH, XH, theta_L) + self.kernel(XH, XH, theta_H) + np.eye(NH)*(sigma_n_H + 1e-8)        \n",
        "\n",
        "        kLHpX1 = rho * self.kernel(X_star, XL, theta_L)\n",
        "        kHHpp = (rho**2.0) * self.kernel(X_star, X_star, theta_L) + self.kernel(X_star, X_star, theta_H) + np.eye(Nstar)*(sigma_n_H + 1e-8)\n",
        "        kHHpX = (rho**2.0) * self.kernel(X_star, XH, theta_L)     + self.kernel(X_star, XH, theta_H)     + np.eye(Nstar,NH)*(sigma_n_H + 1e-8)\n",
        "\n",
        "        kLLpp = self.kernel(X_star, X_star, theta_L) + np.eye(Nstar)*(sigma_n_L + 1e-8)\n",
        "        kLLpX = self.kernel(X_star, XL, theta_L) + np.eye(Nstar,NL)*(sigma_n_L + 1e-8)\n",
        "        kLHpX2 = rho * self.kernel(X_star, XH, theta_L)\n",
        "\n",
        "        K1 = np.hstack((kLL  , kLH))\n",
        "        K2 = np.hstack((kLH.T, kHH))\n",
        "\n",
        "        # Construct final kernel        \n",
        "        K = np.vstack((K1, K2))\n",
        "\n",
        "        k_pX_H = np.hstack((kLHpX1, kHHpX))\n",
        "        k_pp_H = kHHpp\n",
        "\n",
        "        k_pX_L = np.hstack((kLLpX, kLHpX2))\n",
        "        k_pp_L = kLLpp\n",
        "\n",
        "        L = self.compute_cholesky(params, batch)\n",
        "\n",
        "        alpha_H = solve_triangular(L.T,solve_triangular(L, y, lower=True))\n",
        "        beta_H  = solve_triangular(L.T,solve_triangular(L, k_pX_H.T, lower=True))\n",
        "\n",
        "        alpha_L = solve_triangular(L.T,solve_triangular(L, y, lower=True))\n",
        "        beta_L  = solve_triangular(L.T,solve_triangular(L, k_pX_L.T, lower=True))\n",
        "\n",
        "\n",
        "        # Compute predictive mean\n",
        "        mu_H = np.matmul(k_pX_H, alpha_H)\n",
        "        cov_H = k_pp_H - np.matmul(k_pX_H, beta_H)\n",
        "        std_H = np.sqrt(np.clip(np.diag(cov_H), a_min=0.))\n",
        "\n",
        "        mu_L = np.matmul(k_pX_L, alpha_L)\n",
        "        cov_L = k_pp_L - np.matmul(k_pX_L, beta_L)\n",
        "        std_L = np.sqrt(np.clip(np.diag(cov_L), a_min=0.))\n",
        "\n",
        "        return mu_H, std_H, mu_L, std_L\n",
        "\n",
        "    @partial(jit, static_argnums=(0,))\n",
        "    def draw_posterior_sample(self, rng_key, params, batch, X_star):\n",
        "        XL, yL, XH, yH,  = batch\n",
        "        NL, DL = XL.shape\n",
        "        NH, DH = XH.shape\n",
        "        Nstar = X_star.shape[0]\n",
        "\n",
        "        # Fetch params\n",
        "        sigma_n_L = np.exp(params[DL+1])\n",
        "        theta_L = np.exp(params[:DL+1])\n",
        "        sigma_n_H = np.exp(params[DL+DH+3])\n",
        "        theta_H = np.exp(params[DL+2:DL+DH+3])\n",
        "        rho = params[-1]\n",
        "\n",
        "        # Compute kernels\n",
        "        kLL = self.kernel(XL, XL, theta_L) + np.eye(NL)*(sigma_n_L + 1e-8)\n",
        "        kLH = rho * self.kernel(XL, XH, theta_L)\n",
        "        kHH = (rho**2.0) * self.kernel(XH, XH, theta_L) + self.kernel(XH, XH, theta_H) + np.eye(NH)*(sigma_n_H + 1e-8)        \n",
        "\n",
        "        kLHpX1 = rho * self.kernel(X_star, XL, theta_L)\n",
        "        kHHpp = (rho**2.0) * self.kernel(X_star, X_star, theta_L) + self.kernel(X_star, X_star, theta_H) + np.eye(Nstar)*(sigma_n_H + 1e-8)\n",
        "        kHHpX = (rho**2.0) * self.kernel(X_star, XH, theta_L)     + self.kernel(X_star, XH, theta_H)     + np.eye(Nstar,NH)*(sigma_n_H + 1e-8)\n",
        "\n",
        "        kLLpp = self.kernel(X_star, X_star, theta_L) + np.eye(Nstar)*(sigma_n_L + 1e-8)\n",
        "        kLLpX = self.kernel(X_star, XL, theta_L) + np.eye(Nstar,NL)*(sigma_n_L + 1e-8)\n",
        "        kLHpX2 = rho * self.kernel(X_star, XH, theta_L)\n",
        "\n",
        "        K1 = np.hstack((kLL  , kLH))\n",
        "        K2 = np.hstack((kLH.T, kHH))\n",
        "\n",
        "        # Construct final kernel        \n",
        "        K = np.vstack((K1, K2))\n",
        "\n",
        "        k_pX_H = np.hstack((kLHpX1, kHHpX))\n",
        "        k_pp_H = kHHpp\n",
        "\n",
        "        k_pX_L = np.hstack((kLLpX, kLHpX2))\n",
        "        k_pp_L = kLLpp\n",
        "\n",
        "        L = self.compute_cholesky(params, batch)\n",
        "        alpha = solve_triangular(L.T,solve_triangular(L, y, lower=True))\n",
        "        beta  = solve_triangular(L.T,solve_triangular(L, k_pX_H.T, lower=True))\n",
        "\n",
        "        # Compute predictive mean\n",
        "        mu_H = np.matmul(k_pX_H, alpha)\n",
        "        cov_H = k_pp_H - np.matmul(k_pX_H, beta)\n",
        "        sample = random.multivariate_normal(rng_key, mu_H, cov_H)\n",
        "        return sample    "
      ],
      "execution_count": 18,
      "outputs": []
    },
    {
      "cell_type": "code",
      "metadata": {
        "id": "8cfF-AD0KuwK"
      },
      "source": [
        "def fH(x):\n",
        "  y = (6*x - 2.0)**2.0 * np.sin(12.0*x - 4.0)\n",
        "  return y[0]\n",
        "\n",
        "def fL(x):\n",
        "  y = 0.5*fH(x) + 10*(x-0.5) - 5.0\n",
        "  return y[0] "
      ],
      "execution_count": 19,
      "outputs": []
    },
    {
      "cell_type": "code",
      "metadata": {
        "colab": {
          "base_uri": "https://localhost:8080/"
        },
        "id": "e4bQtOc6KxFd",
        "outputId": "2848fb16-bfc3-4b8b-9037-3783573e3877"
      },
      "source": [
        "for nL in [3, 5, 7, 9, 11, 13]:\n",
        "    nH = 4\n",
        "    dim = 1\n",
        "    noise = 0.0\n",
        "    lb = np.array([0.0])\n",
        "    ub = np.array([1.0])\n",
        "\n",
        "    # Training data\n",
        "    XL = np.linspace(lb[0], ub[0], nL)[:,None]\n",
        "    yL = vmap(fL)(XL)\n",
        "    yL = yL + noise*yL.std(0)*onp.random.randn(nL,)\n",
        "\n",
        "    # XH = np.array([0.0,0.4,0.6,1.0])[:,None]\n",
        "    XH = np.linspace(lb[0], ub[0], nH)[:,None]\n",
        "    yH = vmap(fH)(XH)\n",
        "\n",
        "    X = np.concatenate([XL, XH])\n",
        "    y = np.concatenate([yL, yH])\n",
        "\n",
        "    # Test data\n",
        "    n_star = 1000\n",
        "    X_star = np.linspace(lb[0], ub[0], n_star)[:,None]\n",
        "    y_star_H = vmap(fH)(X_star)\n",
        "    y_star_L = vmap(fL)(X_star)\n",
        "\n",
        "    model = GPRegression(kernel_fn = RBF)\n",
        "\n",
        "    # Normalize training data\n",
        "    mu_y, sigma_y = y.mean(0), y.std(0)\n",
        "    XL_train = (XL - lb)/(ub-lb)\n",
        "    yL_train = (yL - mu_y)/sigma_y\n",
        "    XH_train = (XH - lb)/(ub-lb)\n",
        "    yH_train = (yH - mu_y)/sigma_y\n",
        "\n",
        "    # Train model\n",
        "    train_key = random.PRNGKey(0)\n",
        "    opt_params = model.train((XL_train, yL_train, XH_train, yH_train), train_key, num_restarts = 20)\n",
        "\n",
        "    # Normalize test inputs\n",
        "    X_test = (X_star - lb)/(ub-lb)\n",
        "\n",
        "    # Make predictions\n",
        "    mean_H, std_H, mean_L, std_L = model.predict(opt_params, (XL_train, yL_train, XH_train, yH_train), X_test)\n",
        "\n",
        "\n",
        "    lower = mean_L - 2.0*std_L\n",
        "    upper = mean_L + 2.0*std_L\n",
        "\n",
        "\n",
        "    # Check accuracy\n",
        "    error = np.linalg.norm(mean_L-y_star_L,2)/np.linalg.norm(y_star_L,2)\n",
        "    print('nL: ', nL, ' Relative L2 error: ', error)"
      ],
      "execution_count": 20,
      "outputs": [
        {
          "output_type": "stream",
          "text": [
            "100%|██████████| 20/20 [00:01<00:00, 10.64it/s]\n"
          ],
          "name": "stderr"
        },
        {
          "output_type": "stream",
          "text": [
            "nL:  3  Relative L2 error:  0.5459068115262143\n"
          ],
          "name": "stdout"
        },
        {
          "output_type": "stream",
          "text": [
            "100%|██████████| 20/20 [00:02<00:00,  9.72it/s]\n"
          ],
          "name": "stderr"
        },
        {
          "output_type": "stream",
          "text": [
            "nL:  5  Relative L2 error:  0.1859715529885608\n"
          ],
          "name": "stdout"
        },
        {
          "output_type": "stream",
          "text": [
            "100%|██████████| 20/20 [00:03<00:00,  6.42it/s]\n"
          ],
          "name": "stderr"
        },
        {
          "output_type": "stream",
          "text": [
            "nL:  7  Relative L2 error:  0.1059763791971178\n"
          ],
          "name": "stdout"
        },
        {
          "output_type": "stream",
          "text": [
            "100%|██████████| 20/20 [00:02<00:00,  8.64it/s]\n"
          ],
          "name": "stderr"
        },
        {
          "output_type": "stream",
          "text": [
            "nL:  9  Relative L2 error:  0.016214698629517594\n"
          ],
          "name": "stdout"
        },
        {
          "output_type": "stream",
          "text": [
            "100%|██████████| 20/20 [00:02<00:00,  7.91it/s]\n"
          ],
          "name": "stderr"
        },
        {
          "output_type": "stream",
          "text": [
            "nL:  11  Relative L2 error:  0.004301103531746106\n"
          ],
          "name": "stdout"
        },
        {
          "output_type": "stream",
          "text": [
            "100%|██████████| 20/20 [00:03<00:00,  5.75it/s]\n"
          ],
          "name": "stderr"
        },
        {
          "output_type": "stream",
          "text": [
            "nL:  13  Relative L2 error:  0.0002134416463805392\n"
          ],
          "name": "stdout"
        }
      ]
    },
    {
      "cell_type": "markdown",
      "metadata": {
        "id": "Q_I-CfIrLw7r"
      },
      "source": [
        "# Q3 Active Learning"
      ]
    },
    {
      "cell_type": "code",
      "metadata": {
        "id": "wQMtjyBWL1Ja"
      },
      "source": [
        "# A minimal Gaussian process class\n",
        "class GPRegression:\n",
        "    # Initialize the class\n",
        "    def __init__(self, kernel_fn = RBF, acq_fn = None): \n",
        "        self.kernel = kernel_fn\n",
        "        self.acq_fn = acq_fn\n",
        "                              \n",
        "    def random_init_GP(self, rng_key, dim):\n",
        "        logsigma_f = np.log(50.0*random.uniform(rng_key, (1,)))\n",
        "        loglength  = np.log(random.uniform(rng_key, (dim,)) + 1e-8)\n",
        "        logsigma_n = np.array([-4.0]) + random.normal(rng_key, (1,))\n",
        "        hyp = np.concatenate([logsigma_f, loglength, logsigma_n])\n",
        "        return hyp\n",
        "\n",
        "    def compute_cholesky(self, params, batch):\n",
        "        X, _ = batch\n",
        "        N, D = X.shape\n",
        "        # Fetch params\n",
        "        sigma_n = np.exp(params[-1])\n",
        "        theta = np.exp(params[:-1])\n",
        "        # Compute kernel\n",
        "        K = self.kernel(X, X, theta) + np.eye(N)*(sigma_n + 1e-8)\n",
        "        L = cholesky(K, lower=True)\n",
        "        return L\n",
        "\n",
        "    def likelihood(self, params, batch):\n",
        "        _, y = batch\n",
        "        N = y.shape[0]\n",
        "        # Compute Cholesky\n",
        "        L = self.compute_cholesky(params, batch)\n",
        "        # Compute negative log-marginal likelihood\n",
        "        alpha = solve_triangular(L.T,solve_triangular(L, y, lower=True))\n",
        "        NLML = 0.5*np.matmul(np.transpose(y),alpha) + \\\n",
        "               np.sum(np.log(np.diag(L))) + 0.5*N*np.log(2.0*np.pi)\n",
        "        return NLML\n",
        "\n",
        "    @partial(jit, static_argnums=(0,))\n",
        "    def likelihood_value_and_grad(self, params, batch):\n",
        "        fun = lambda params: self.likelihood(params, batch)\n",
        "        primals, f_vjp = vjp(fun, params)\n",
        "        grads = f_vjp(np.ones_like(primals))[0]\n",
        "        return primals, grads\n",
        "\n",
        "    def train(self, batch, rng_key, num_restarts = 10):\n",
        "        # Define objective that returns NumPy arrays (to be minimized with SciPy)\n",
        "        def objective(params):\n",
        "            value, grads = self.likelihood_value_and_grad(params, batch)\n",
        "            out = (onp.array(value), onp.array(grads))\n",
        "            return out\n",
        "        # Optimize with random restarts\n",
        "        params = []\n",
        "        likelihood = []\n",
        "        X, _ = batch\n",
        "        dim = X.shape[1]\n",
        "        rng_key = random.split(rng_key, num_restarts)\n",
        "        for i in range(num_restarts):\n",
        "            init = self.random_init_GP(rng_key[i], dim)\n",
        "            p, val = minimize_lbfgs(objective, init)\n",
        "            params.append(p)\n",
        "            likelihood.append(val)\n",
        "        params = np.vstack(params)\n",
        "        likelihood = np.vstack(likelihood)\n",
        "        #### find the best likelihood (excluding any NaNs) ####\n",
        "        bestlikelihood = np.nanmin(likelihood)\n",
        "        idx_best = np.where(likelihood == bestlikelihood)\n",
        "        idx_best = idx_best[0][0]\n",
        "        best_params = params[idx_best,:]\n",
        "        return best_params\n",
        "\n",
        "    @partial(jit, static_argnums=(0,))\n",
        "    def predict(self, params, batch, X_star):\n",
        "        X, y = batch\n",
        "        # Fetch params\n",
        "        sigma_n = np.exp(params[-1])\n",
        "        theta = np.exp(params[:-1])\n",
        "        # Compute kernels\n",
        "        k_pp = self.kernel(X_star, X_star, theta) + np.eye(X_star.shape[0])*(sigma_n + 1e-8)\n",
        "        k_pX = self.kernel(X_star, X, theta)\n",
        "        L = self.compute_cholesky(params, batch)\n",
        "        alpha = solve_triangular(L.T,solve_triangular(L, y, lower=True))\n",
        "        beta  = solve_triangular(L.T,solve_triangular(L, k_pX.T, lower=True))\n",
        "        # Compute predictive mean, std\n",
        "        mu = np.matmul(k_pX, alpha)\n",
        "        cov = k_pp - np.matmul(k_pX, beta)\n",
        "        std = np.sqrt(np.clip(np.diag(cov), a_min=0.))\n",
        "        return mu, std\n",
        "\n",
        "    @partial(jit, static_argnums=(0,))\n",
        "    def draw_posterior_sample(self, rng_key, params, batch, X_star):\n",
        "        X, y = batch\n",
        "        N, D = X.shape\n",
        "        # Fetch params\n",
        "        sigma_n = np.exp(params[-1])\n",
        "        theta = np.exp(params[:-1])\n",
        "        # Compute kernels\n",
        "        k_pp = self.kernel(X_star, X_star, theta) + np.eye(X_star.shape[0])*(sigma_n + 1e-8)\n",
        "        k_pX = self.kernel(X_star, X, theta)\n",
        "        L = self.compute_cholesky(params, batch)\n",
        "        alpha = solve_triangular(L.T,solve_triangular(L, y, lower=True))\n",
        "        beta  = solve_triangular(L.T,solve_triangular(L, k_pX.T, lower=True))\n",
        "        # Compute predictive mean\n",
        "        mu = np.matmul(k_pX, alpha)\n",
        "        cov = k_pp - np.matmul(k_pX, beta)\n",
        "        sample = random.multivariate_normal(rng_key, mu, cov)\n",
        "        return sample    \n",
        "\n",
        "    def acquisition(self, params, batch, x):\n",
        "        x = x[None,:]\n",
        "        _, y = batch\n",
        "        mean, std = self.predict(params, batch, x)\n",
        "        if self.acq_fn == 'UCB':\n",
        "            return -(mean[0] + 2 * std[0])\n",
        "        elif self.acq_fn == 'PI':\n",
        "            best = np.min(y)\n",
        "            Z    = (best - mean) / std\n",
        "            return -norm.cdf(Z)\n",
        "        elif self.acq_fn == 'EI':\n",
        "            best = np.min(y)\n",
        "            Z    = (best - mean) / std\n",
        "            return -((best - mean) * norm.cdf(Z) + std * norm.pdf(Z))\n",
        "        elif self.acq_fn == 'US':\n",
        "            return -std[0]\n",
        "        elif self.acq_fn == 'LCB':\n",
        "            return (mean[0] - 2 * std[0])\n",
        "        else:\n",
        "            raise NotImplementedError\n",
        "\n",
        "    @partial(jit, static_argnums=(0,))\n",
        "    def acq_value_and_grad(self, params, batch, x):\n",
        "        fun = lambda x: self.acquisition(params, batch, x)\n",
        "        primals, f_vjp = vjp(fun, x)\n",
        "        grads = f_vjp(np.ones_like(primals))[0]\n",
        "        return primals, grads\n",
        "\n",
        "    def next_best_point(self, params, batch, bounds, rng_key, num_restarts = 10):\n",
        "        # Define objective that returns NumPy arrays\n",
        "        def objective(x):\n",
        "            x = (x - lb)/(ub-lb)\n",
        "            value, grads = self.acq_value_and_grad(params, batch, x)\n",
        "            out = (onp.array(value), onp.array(grads))\n",
        "            return out\n",
        "        # Optimize with random restarts\n",
        "        loc = []\n",
        "        acq = []\n",
        "        lb, ub = bounds\n",
        "        dim = lb.shape[0]\n",
        "        onp.random.seed(rng_key[0])\n",
        "        x0 = lb + (ub-lb)*lhs(dim, num_restarts)\n",
        "        dom_bounds = tuple(map(tuple, np.vstack((lb, ub)).T))\n",
        "        for i in range(num_restarts):\n",
        "            pos, val = minimize_lbfgs(objective, x0[i,:], bnds = dom_bounds)\n",
        "            loc.append(pos)\n",
        "            acq.append(val)\n",
        "        loc = np.vstack(loc)\n",
        "        acq = np.vstack(acq)\n",
        "        idx_best = np.argmin(acq)\n",
        "        x_new = loc[idx_best:idx_best+1,:]\n",
        "        return x_new"
      ],
      "execution_count": 21,
      "outputs": []
    },
    {
      "cell_type": "code",
      "metadata": {
        "id": "e3LgWUUgL4zU"
      },
      "source": [
        "def branin():\n",
        "    dim = 2\n",
        "    lb = np.array([-5.0, 0.0])\n",
        "    ub = np.array([10.0, 15.0])\n",
        "    def f(x):\n",
        "        a = 1.0\n",
        "        b = 5.1 / (4*np.pi**2)\n",
        "        c = 5 / np.pi\n",
        "        r = 6\n",
        "        s = 10\n",
        "        t = 1 / (8*np.pi)\n",
        "        x1, x2 = x[0], x[1]\n",
        "        y = a * (x2 - b*x1**2 + c*x1 -r)**2 + s * (1-t) * np.cos(x1) + s\n",
        "        return y\n",
        "    return f, dim, (lb, ub)"
      ],
      "execution_count": 22,
      "outputs": []
    },
    {
      "cell_type": "code",
      "metadata": {
        "id": "k0rtysg_L6hV"
      },
      "source": [
        "# Define test function\n",
        "f, dim, bounds = branin()\n",
        "\n",
        "# Problem settings\n",
        "N = 10\n",
        "noise = 0.0\n",
        "lb, ub = bounds\n",
        "\n",
        "# Initial training data\n",
        "X = lb + (ub-lb)*lhs(dim, N)\n",
        "y = vmap(f)(X)\n",
        "y = y + noise*y.std(0)*onp.random.randn(N,)\n",
        "\n",
        "# Test data\n",
        "nn = 80\n",
        "xx = np.linspace(lb[0], ub[0], nn)\n",
        "yy = np.linspace(lb[1], ub[1], nn)\n",
        "XX, YY = np.meshgrid(xx, yy)\n",
        "X_star = np.concatenate([XX.flatten()[:,None], \n",
        "                          YY.flatten()[:,None]], axis = 1)\n",
        "y_star = vmap(f)(X_star)\n",
        "\n",
        "# Normalized test inputs\n",
        "X_test = (X_star - lb)/(ub-lb)"
      ],
      "execution_count": 23,
      "outputs": []
    },
    {
      "cell_type": "code",
      "metadata": {
        "id": "R0nKyI_NMaht"
      },
      "source": [
        "model1 = GPRegression(kernel_fn = RBF, acq_fn = 'PI')\n",
        "model2 = GPRegression(kernel_fn = RBF, acq_fn = 'EI')\n",
        "model3 = GPRegression(kernel_fn = RBF, acq_fn = 'UCB')\n",
        "model4 = GPRegression(kernel_fn = RBF, acq_fn = 'LCB')"
      ],
      "execution_count": 24,
      "outputs": []
    },
    {
      "cell_type": "code",
      "metadata": {
        "colab": {
          "base_uri": "https://localhost:8080/"
        },
        "id": "Z8MRHFVhT6j1",
        "outputId": "47e011ac-9db7-4dbc-fe5e-b166c5ee3390"
      },
      "source": [
        "# Initializing x and y for all the models:\n",
        "X1 = X2 = X3 = X4 = X; y1 = y2 = y3 = y4 = y\n",
        "# Number of iterations in active learning loop\n",
        "num_iter   = 20\n",
        "\n",
        "\n",
        "y1_mins = []\n",
        "y2_mins = []\n",
        "y3_mins = []\n",
        "y4_mins = []\n",
        "\n",
        "for it in trange(num_iter):\n",
        "    # Normalize training data\n",
        "    mu_y1, sigma_y1 = y1.mean(0), y1.std(0)\n",
        "    X1_train       = (X1 - lb)/(ub-lb)\n",
        "    y1_train       = (y1 - mu_y1)/sigma_y1\n",
        "\n",
        "    mu_y2, sigma_y2 = y2.mean(0), y2.std(0)\n",
        "    X2_train       = (X2 - lb)/(ub-lb)\n",
        "    y2_train       = (y2 - mu_y2)/sigma_y2\n",
        "\n",
        "    mu_y3, sigma_y3 = y3.mean(0), y3.std(0)\n",
        "    X3_train       = (X3 - lb)/(ub-lb)\n",
        "    y3_train       = (y3 - mu_y3)/sigma_y3\n",
        "\n",
        "    mu_y4, sigma_y4 = y4.mean(0), y4.std(0)\n",
        "    X4_train       = (X4 - lb)/(ub-lb)\n",
        "    y4_train       = (y4 - mu_y4)/sigma_y4\n",
        "\n",
        "    # Train model\n",
        "    train_key = random.PRNGKey(it)\n",
        "    opt_params1 = model1.train((X1_train, y1_train), train_key, num_restarts = 50)\n",
        "    opt_params2 = model2.train((X2_train, y2_train), train_key, num_restarts = 50)\n",
        "    opt_params3 = model3.train((X3_train, y3_train), train_key, num_restarts = 50)\n",
        "    opt_params4 = model4.train((X4_train, y4_train), train_key, num_restarts = 50)\n",
        "\n",
        "    # Select next best point\n",
        "    new_X1 = model1.next_best_point(opt_params1, \n",
        "                                    (X1_train, y1_train), bounds, train_key, \n",
        "                                    num_restarts = 50\n",
        "                                   )\n",
        "    new_X2 = model2.next_best_point(opt_params2, \n",
        "                                    (X2_train, y2_train), bounds, train_key, \n",
        "                                    num_restarts = 50\n",
        "                                   )\n",
        "    new_X3 = model3.next_best_point(opt_params3, \n",
        "                                    (X3_train, y3_train), bounds, train_key, \n",
        "                                    num_restarts = 50\n",
        "                                   )\n",
        "    new_X4 = model4.next_best_point(opt_params4, \n",
        "                                    (X4_train, y4_train), bounds, train_key, \n",
        "                                    num_restarts = 50\n",
        "                                   )\n",
        "\n",
        "    # Acquire data\n",
        "    new_y1 = vmap(f)(new_X1)\n",
        "    new_y2 = vmap(f)(new_X2)\n",
        "    new_y3 = vmap(f)(new_X3)\n",
        "    new_y4 = vmap(f)(new_X4)\n",
        "\n",
        "    # Augment training data\n",
        "    X1 = np.concatenate([X1, new_X1], axis = 0)\n",
        "    y1 = np.concatenate([y1, new_y1], axis = 0)\n",
        "    X2 = np.concatenate([X2, new_X2], axis = 0)\n",
        "    y2 = np.concatenate([y2, new_y2], axis = 0)\n",
        "    X3 = np.concatenate([X3, new_X3], axis = 0)\n",
        "    y3 = np.concatenate([y3, new_y3], axis = 0)\n",
        "    X4 = np.concatenate([X4, new_X4], axis = 0)\n",
        "    y4 = np.concatenate([y4, new_y4], axis = 0)\n",
        "\n",
        "    # Monitor prediction error\n",
        "    mean1, std1 = model1.predict(opt_params1, (X1_train, y1_train), X_test)\n",
        "    mean2, std2 = model2.predict(opt_params2, (X2_train, y2_train), X_test)\n",
        "    mean3, std3 = model3.predict(opt_params3, (X3_train, y3_train), X_test)\n",
        "    mean4, std4 = model4.predict(opt_params4, (X4_train, y4_train), X_test)\n",
        "    \n",
        "    mean1, std1 = mean1 * sigma_y1 + mu_y1, std1 * sigma_y1\n",
        "    mean2, std2 = mean2 * sigma_y2 + mu_y2, std2 * sigma_y2 \n",
        "    mean3, std3 = mean3 * sigma_y3 + mu_y3, std3 * sigma_y3 \n",
        "    mean4, std4 = mean4 * sigma_y4 + mu_y4, std4 * sigma_y4 \n",
        "    \n",
        "    y1_mins.append(y1.min().copy())\n",
        "    y2_mins.append(y2.min().copy())\n",
        "    y3_mins.append(y3.min().copy())\n",
        "    y4_mins.append(y4.min().copy())"
      ],
      "execution_count": 25,
      "outputs": [
        {
          "output_type": "stream",
          "text": [
            "100%|██████████| 20/20 [05:58<00:00, 17.94s/it]\n"
          ],
          "name": "stderr"
        }
      ]
    },
    {
      "cell_type": "code",
      "metadata": {
        "colab": {
          "base_uri": "https://localhost:8080/",
          "height": 291
        },
        "id": "WrPqKw2jQI_0",
        "outputId": "43dbd519-1a38-460b-9d29-ac4a5e36b60d"
      },
      "source": [
        "plt.figure(figsize = (6,4))\n",
        "plt.plot(np.array(y1_mins), label = 'PI')\n",
        "plt.plot(np.array(y2_mins), label = 'EI')\n",
        "plt.plot(np.array(y3_mins), label = 'UCB')\n",
        "plt.plot(np.array(y4_mins), label = 'LCB')\n",
        "plt.yscale('log')\n",
        "plt.axhline(0.397887,linestyle = '--', label = 'reference')\n",
        "plt.title('Minimal value')\n",
        "plt.legend()\n",
        "plt.show()\n",
        "plt.close()"
      ],
      "execution_count": 27,
      "outputs": [
        {
          "output_type": "display_data",
          "data": {
            "image/png": "[encoded data removed]",
            "text/plain": [
              "<Figure size 432x288 with 1 Axes>"
            ]
          },
          "metadata": {
            "tags": [],
            "needs_background": "light"
          }
        }
      ]
    }
  ]
}